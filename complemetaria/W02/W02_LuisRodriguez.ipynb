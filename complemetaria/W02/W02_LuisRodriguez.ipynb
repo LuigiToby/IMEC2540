{
 "cells": [
  {
   "cell_type": "markdown",
   "metadata": {},
   "source": [
    "## [Luis Alejandro Rodríguez Arenas](https://luigitoby.github.io/)  \n",
    "## Cod. 202321287 "
   ]
  },
  {
   "cell_type": "markdown",
   "metadata": {},
   "source": [
    "<table width=\"100%\" style=\"border: none; border-collapse: collapse;\">\n",
    "  <tr>\n",
    "    <td style=\"vertical-align: middle; padding: 10px;\">\n",
    "      <h1 style=\"margin: 0; font-size: 1.5em;\">Guía Semana No. 2</h1>\n",
    "    </td>\n",
    "    <td style=\"text-align: right; vertical-align: middle; padding: 10px;\">\n",
    "      <img src=\"resources_5082025/University_of_Los_Andes_logo.png\" width=\"120\" alt=\"Logo Universidad de los Andes\" />\n",
    "    </td>\n",
    "  </tr>\n",
    "</table>\n",
    "<hr>\n",
    "\n",
    "Esta guía forma parte del trabajo de la segunda semana del curso y tiene como objetivo introducir herramientas simbólicas y numéricas para la modelación y análisis de sistemas mecánicos.\n",
    "\n",
    "El contenido está organizado para abordar:\n",
    "\n",
    "1. **Marcos de referencia simbólicos con SymPy Mechanics**: cómo definir sistemas de coordenadas móviles e inerciales y cómo describir posiciones y orientaciones de forma simbólica.\n",
    "2. **Cinemática directa e inversa de robots planos 2R**: formulación matemática y obtención de soluciones analíticas y numéricas.\n",
    "\n",
    "A lo largo de los ejercicios, se utilizarán librerías de Python para trabajar con álgebra simbólica, animaciones y visualización de resultados."
   ]
  },
  {
   "cell_type": "markdown",
   "metadata": {},
   "source": [
    "## Importación de librerías necesarias\n",
    "\n",
    "Se importan las librerías que se utilizarán en la guía:\n",
    "\n",
    "- **NumPy**: operaciones matemáticas y matriciales numéricas.\n",
    "- **Matplotlib**: para realizar gráficas y animaciones.\n",
    "- **SymPy**: para cálculos simbólicos y álgebra matemática.\n",
    "- **SymPy Physics Mechanics**: para trabajar con conceptos de mecánica como puntos, vectores y marcos de referencia.\n",
    "\n",
    "También se habilita la impresión de expresiones matemáticas usando LaTeX para mejorar la legibilidad."
   ]
  },
  {
   "cell_type": "code",
   "execution_count": 10,
   "metadata": {},
   "outputs": [],
   "source": [
    "import numpy as np\n",
    "import matplotlib.pyplot as plt\n",
    "from matplotlib.animation import FuncAnimation\n",
    "from sympy import symbols, Matrix, pi, cos, sin, simplify, eye, solve, acos, asin,  latex, atan2, pprint, init_printing, Derivative, sqrt\n",
    "from sympy.physics.mechanics import ReferenceFrame, dynamicsymbols, init_vprinting\n",
    "\n",
    "# Configuración de impresión en formato LaTeX (MathJax)\n",
    "init_vprinting(use_latex='mathjax')"
   ]
  },
  {
   "cell_type": "markdown",
   "metadata": {},
   "source": [
    "## Definición de variables simbólicas y marcos de referencia\n",
    "\n",
    "En esta sección se definen:\n",
    "\n",
    "- Variables escalares constantes y dependientes del tiempo.\n",
    "- Marcos de referencia:\n",
    "  - `N`: marco inercial (fijo en el espacio).\n",
    "  - `A`: marco rotado respecto a `N` alrededor del eje Z.\n",
    "\n",
    "Esto servirá como base para describir movimientos y orientaciones de cuerpos rígidos."
   ]
  },
  {
   "cell_type": "code",
   "execution_count": 2,
   "metadata": {},
   "outputs": [],
   "source": [
    "# Variables constantes y dependientes del tiempo\n",
    "t, l_0 = symbols('t l_0')\n",
    "l = dynamicsymbols('l')\n",
    "theta = dynamicsymbols('theta')\n",
    "\n",
    "# Definición de marcos de referencia\n",
    "N = ReferenceFrame(\"N\")\n",
    "A = N.orientnew(\"A\", \"Axis\", (theta, N.z))"
   ]
  },
  {
   "cell_type": "markdown",
   "metadata": {},
   "source": [
    "## Ejercicio No. 1: Independencia lineal y análisis en el tiempo ejercicio No. 4\n",
    "\n",
    "Objetivo:\n",
    "\n",
    "1. Crear una función que reciba el tiempo y calcule las aceleraciónes y velocidades para poder obtener la cinemática."
   ]
  },
  {
   "cell_type": "code",
   "execution_count": 3,
   "metadata": {},
   "outputs": [
    {
     "name": "stdout",
     "output_type": "stream",
     "text": [
      "Expresiones generales\n"
     ]
    },
    {
     "data": {
      "text/latex": [
       "$\\displaystyle \\dot{l}\\mathbf{\\hat{a}_x} + l \\dot{\\theta}\\mathbf{\\hat{a}_y}$"
      ],
      "text/plain": [
       "l̇ a_x + l⋅θ̇ a_y"
      ]
     },
     "metadata": {},
     "output_type": "display_data"
    },
    {
     "data": {
      "text/latex": [
       "$\\displaystyle -  l \\dot{\\theta}^{2}\\mathbf{\\hat{a}_x} + 2 \\dot{l} \\dot{\\theta}\\mathbf{\\hat{a}_y}$"
      ],
      "text/plain": [
       "    2                \n",
       "-l⋅θ̇  a_x + 2⋅l̇⋅θ̇ a_y"
      ]
     },
     "metadata": {},
     "output_type": "display_data"
    },
    {
     "name": "stdout",
     "output_type": "stream",
     "text": [
      "Expresiones generales con datos del problema\n"
     ]
    },
    {
     "data": {
      "text/latex": [
       "$\\displaystyle - 150\\mathbf{\\hat{a}_x} + \\frac{\\pi \\left(l_{0} + 375\\right)}{3}\\mathbf{\\hat{a}_y}$"
      ],
      "text/plain": [
       "           π⋅(l₀ + 375)    \n",
       "-150 a_x + ──────────── a_y\n",
       "                3          "
      ]
     },
     "metadata": {},
     "output_type": "display_data"
    },
    {
     "data": {
      "text/latex": [
       "$\\displaystyle -  \\frac{\\pi^{2} \\left(l_{0} + 375\\right)}{9}\\mathbf{\\hat{a}_x} -  100 \\pi\\mathbf{\\hat{a}_y}$"
      ],
      "text/plain": [
       "  2                             \n",
       "-π ⋅(l₀ + 375)                  \n",
       "─────────────── a_x + -100⋅π a_y\n",
       "       9                        "
      ]
     },
     "metadata": {},
     "output_type": "display_data"
    },
    {
     "name": "stdout",
     "output_type": "stream",
     "text": [
      "Magnitudes, la primera es velocidad, la segunda aceleración\n"
     ]
    },
    {
     "data": {
      "text/latex": [
       "$\\displaystyle \\frac{\\sqrt{\\pi^{2} \\left(l_{0} + 375\\right)^{2} + 202500}}{3}$"
      ],
      "text/plain": [
       "   _________________________\n",
       "  ╱  2           2          \n",
       "╲╱  π ⋅(l₀ + 375)  + 202500 \n",
       "────────────────────────────\n",
       "             3              "
      ]
     },
     "metadata": {},
     "output_type": "display_data"
    },
    {
     "data": {
      "text/latex": [
       "$\\displaystyle \\frac{\\pi \\sqrt{\\pi^{2} \\left(l_{0} + 375\\right)^{2} + 810000}}{9}$"
      ],
      "text/plain": [
       "     _________________________\n",
       "    ╱  2           2          \n",
       "π⋅╲╱  π ⋅(l₀ + 375)  + 810000 \n",
       "──────────────────────────────\n",
       "              9               "
      ]
     },
     "metadata": {},
     "output_type": "display_data"
    },
    {
     "name": "stdout",
     "output_type": "stream",
     "text": [
      "Ejemplo con l= 125mm, primer resultado es la velocidad, segundo la aceleración (Así miramos si esta bien o no el resultado comparando con internet (https://www.youtube.com/watch?v=XFuOW2thPA8)\n"
     ]
    },
    {
     "data": {
      "text/latex": [
       "$\\displaystyle 544.661066910457$"
      ],
      "text/plain": [
       "544.661066910457"
      ]
     },
     "metadata": {},
     "output_type": "display_data"
    },
    {
     "data": {
      "text/latex": [
       "$\\displaystyle 631.934638003356$"
      ],
      "text/plain": [
       "631.934638003356"
      ]
     },
     "metadata": {},
     "output_type": "display_data"
    }
   ],
   "source": [
    "# Creamos simbolos\n",
    "t, l_0 = symbols('t l_0')\n",
    "# Creamos funciones, usamos dynamics para tener notación de newton\n",
    "l = dynamicsymbols('l')\n",
    "theta = dynamicsymbols('theta')\n",
    "\n",
    "# Creamos nuevo marco de referencia que gira alrededor del eje z\n",
    "N=ReferenceFrame(\"N\")\n",
    "A=N.orientnew(\"A\", \"Axis\", (theta, N.z))\n",
    "\n",
    "# Partimos de la función polar para describir la pocisión de la punta del piston\n",
    "r = l*A.x\n",
    "v = r.diff(t, N)\n",
    "a = v.diff(t, N)\n",
    "\n",
    "# Sustituimos las derivadas que sabemos son cero\n",
    "subs = {\n",
    "    Derivative(l, t, 2): 0,\n",
    "    Derivative(theta, t, 2): 0\n",
    "}\n",
    "\n",
    "v = v.subs(subs).simplify()\n",
    "a = a.subs(subs).simplify()\n",
    "\n",
    "print(\"Expresiones generales\")\n",
    "display(v.express(A).simplify())\n",
    "display(a.express(A).simplify())\n",
    "\n",
    "# Remplazamos los datos del problema\n",
    "subs2 = {\n",
    "    Derivative(l, t, 1): -150,\n",
    "    Derivative(theta, t, 1): 60*pi/180,\n",
    "    l : 375 + l_0\n",
    "}\n",
    "print(\"Expresiones generales con datos del problema\")\n",
    "\n",
    "v = v.subs(subs2).simplify()\n",
    "a = a.subs(subs2).simplify()\n",
    "\n",
    "display(v.express(A).simplify())\n",
    "display(a.express(A).simplify())\n",
    "\n",
    "print(\"Magnitudes, la primera es velocidad, la segunda aceleración\")\n",
    "\n",
    "display(v.express(A).magnitude().simplify())\n",
    "display(a.express(A).magnitude().simplify())\n",
    "\n",
    "\n",
    "# Ahora para resolver si l_0 = 125mm, simplemente remplazaré l por 500, para simplificar todo\n",
    "subs3 = {\n",
    "    l_0: 125\n",
    "}\n",
    "\n",
    "v = v.subs(subs3).simplify()\n",
    "a = a.subs(subs3).simplify()\n",
    "\n",
    "print('Ejemplo con l= 125mm, primer resultado es la velocidad, segundo la aceleración (Así miramos si esta bien o no el resultado comparando con internet (https://www.youtube.com/watch?v=XFuOW2thPA8)')\n",
    "\n",
    "display(v.express(A).simplify().magnitude().evalf())\n",
    "display(a.express(A).simplify().magnitude().evalf())\n",
    "\n"
   ]
  },
  {
   "cell_type": "markdown",
   "metadata": {},
   "source": [
    "# Notas sobre Escara 2D\n",
    "\n",
    "* Los sistemas cinematicos tipo pierna son escaras 2D básicamente\n",
    "* En el sistema del semestre pasado se planteo \n",
    "\n",
    "En este sistema \n",
    "\n",
    "x = a_1cos(q_1)+a_2cos(q_1+q-2)\n",
    "\n",
    "Algo similar, en este caso lo que hacemos es buscar que ángulos para obtener la pocisión\n",
    "\n",
    "pero yo quiero darle es x,y para que llegue a cierta posición, entonces ya no estamos usando estas ecuaciones, yo lo que quiero es que yo le meta la posición y que el me de los ángulos.\n",
    "\n",
    "* Lo mejor que se puede hacer es\n",
    "* Encontrar las matrices, y mejor hacerlo con trigonometría."
   ]
  },
  {
   "cell_type": "markdown",
   "metadata": {},
   "source": [
    "## Ejercicio No. 2: Cinemática directa de un robot planar 2R\n",
    "\n",
    "En este ejercicio se modela un robot plano con dos articulaciones rotacionales (2R) usando SymPy Mechanics.\n",
    "\n",
    "Pasos:\n",
    "1. Definir marcos de referencia para cada articulación.\n",
    "2. Establecer la posición de los puntos relevantes (origen, articulaciones y efector final).\n",
    "3. Calcular la posición del efector respecto al marco inercial `N`.\n",
    "4. Evaluar la posición para un conjunto de valores numéricos.\n",
    "\n",
    "Este resultado servirá de base para el cálculo de la cinemática inversa."
   ]
  },
  {
   "cell_type": "code",
   "execution_count": null,
   "metadata": {},
   "outputs": [
    {
     "name": "stdout",
     "output_type": "stream",
     "text": [
      "Matriz de rotación de A respecto a N\n",
      "⎡cos(θ₁(t))   sin(θ₁(t))  0⎤\n",
      "⎢                          ⎥\n",
      "⎢-sin(θ₁(t))  cos(θ₁(t))  0⎥\n",
      "⎢                          ⎥\n",
      "⎣     0           0       1⎦\n",
      "Matriz de rotación de B respecto a N\n",
      "⎡-sin(θ₁(t))⋅sin(θ₂(t)) + cos(θ₁(t))⋅cos(θ₂(t))  sin(θ₁(t))⋅cos(θ₂(t)) + sin(θ ↪\n",
      "⎢                                                                              ↪\n",
      "⎢-sin(θ₁(t))⋅cos(θ₂(t)) - sin(θ₂(t))⋅cos(θ₁(t))  -sin(θ₁(t))⋅sin(θ₂(t)) + cos( ↪\n",
      "⎢                                                                              ↪\n",
      "⎣                      0                                               0       ↪\n",
      "\n",
      "↪ ₂(t))⋅cos(θ₁(t))   0⎤\n",
      "↪                     ⎥\n",
      "↪ θ₁(t))⋅cos(θ₂(t))  0⎥\n",
      "↪                     ⎥\n",
      "↪                    1⎦\n",
      "\n",
      "Vector de posición del efector (en marco N):\n",
      "(L₁⋅cos(θ₁(t)) + L₂⋅cos(θ₁(t) + θ₂(t))) n_x + (L₁⋅sin(θ₁(t)) + L₂⋅sin(θ₁(t) +  ↪\n",
      "\n",
      "↪ θ₂(t))) n_y\n",
      "\n",
      "Posición numérica del efector:\n",
      "x = 4.3120\n",
      "y = 6.4333\n"
     ]
    }
   ],
   "source": [
    "import sympy as sp\n",
    "from sympy.physics.mechanics import ReferenceFrame, Point, dynamicsymbols, mechanics_printing\n",
    "\n",
    "# Habilitar impresión simbólica sin formato bonito (para depuración)\n",
    "mechanics_printing(pretty_print=False)\n",
    "\n",
    "# Variables simbólicas\n",
    "theta1, theta2 = dynamicsymbols('theta1 theta2') # q1 y q2\n",
    "L1, L2 = sp.symbols('L1 L2') # a1 y a2\n",
    "\n",
    "# Marcos de referencia, pero se usan dos por las dos uniones de los links\n",
    "N = ReferenceFrame('N')\n",
    "A = N.orientnew('A', 'Axis', [theta1, N.z])\n",
    "B = A.orientnew('B', 'Axis', [theta2, A.z]) # Note que B lo definimos con respecto a A así no hay que pensar B en terminos de B\n",
    "\n",
    "# Puntos relevantes\n",
    "O = Point('O') # Esto se asume que esta en N\n",
    "# locatenew \n",
    "P1 = O.locatenew('P1', L1 * A.x) # Existe un P1 en L1  por A_x\n",
    "P2 = P1.locatenew('P2', L2 * B.x) # Existe un P2 en L2 con respecto a B_x\n",
    "\n",
    "R_AN = A.dcm(N) # Cual es la matrix de A para verlo desde N\n",
    "\n",
    "\n",
    "print(\"Matriz de rotación de A respecto a N\")\n",
    "pprint(R_AN)\n",
    "\n",
    "print(\"Matriz de rotación de B respecto a N\")\n",
    "R_BN = B.dcm(N) # Cual es la matrix de B para verlo desde N\n",
    "pprint(R_BN)\n",
    "\n",
    "# Vector de posición del efector\n",
    "vector_pos_efector = P2.pos_from(O).express(N).simplify()\n",
    "print(\"\\nVector de posición del efector (en marco N):\")\n",
    "sp.pprint(vector_pos_efector)\n",
    "# Hasta aca vamos bien\n",
    "\n",
    "\n",
    "# Evaluación numérica de ejemplo\n",
    "valores = {\n",
    "    theta1: sp.rad(45),\n",
    "    theta2: sp.rad(30),\n",
    "    L1: 5,\n",
    "    L2: 3\n",
    "}\n",
    "\n",
    "vector_numerico = vector_pos_efector.subs(valores).evalf()\n",
    "x = vector_numerico.dot(N.x)\n",
    "y = vector_numerico.dot(N.y)\n",
    "print(f\"\\nPosición numérica del efector:\\nx = {x:.4f}\\ny = {y:.4f}\")"
   ]
  },
  {
   "cell_type": "code",
   "execution_count": 18,
   "metadata": {},
   "outputs": [
    {
     "data": {
      "text/latex": [
       "$\\displaystyle \\left( 23.9681310206303, \\  122.230952635502\\right)$"
      ],
      "text/plain": [
       "(23.968131020630256, 122.23095263550213)"
      ]
     },
     "execution_count": 18,
     "metadata": {},
     "output_type": "execute_result"
    }
   ],
   "source": [
    "def cinematica_directa(theta1_val, theta2_val, L1_val, L2_val):\n",
    "    subs_dict = {\n",
    "        theta1: np.deg2rad(theta1_val),\n",
    "        theta2: np.deg2rad(theta2_val),\n",
    "        L1: L1_val,\n",
    "        L2: L2_val\n",
    "    }\n",
    "    pos = efector_final.subs(subs_dict)\n",
    "    return float(pos.dot(N.x)), float(pos.dot(N.y))\n",
    "\n",
    "def cinematica_inversa(x, y, L1, L2):\n",
    "    d = np.sqrt(x**2 + y**2)\n",
    "    if d > (L1 + L2) or d < abs(L1 - L2):\n",
    "        raise ValueError(\"Position is unreachable\")\n",
    "    theta2 = np.arccos((L1**2 + L2**2 - d**2) / (2 * L1 * L2))\n",
    "    theta1 = np.arctan2(y, x) - np.arcsin((L2 * np.sin(theta2)) / d)\n",
    "    return np.rad2deg(theta1), np.rad2deg(theta2)\n",
    "\n",
    "cinematica_inversa(5, 5, 5, 3)"
   ]
  },
  {
   "cell_type": "markdown",
   "metadata": {},
   "source": [
    "# Cinematica inversa"
   ]
  },
  {
   "cell_type": "code",
   "execution_count": 23,
   "metadata": {},
   "outputs": [
    {
     "data": {
      "text/latex": [
       "$\\displaystyle \\left( 57.7690473644979, \\  23.9681310206303\\right)$"
      ],
      "text/plain": [
       "(57.7690473644979, 23.9681310206303)"
      ]
     },
     "execution_count": 23,
     "metadata": {},
     "output_type": "execute_result"
    }
   ],
   "source": [
    "theta1, theta2 = dynamicsymbols('theta1 theta2')\n",
    "x, y, theta_1, theta_2 = sp.symbols('x y theta_1 theta_2')\n",
    "a_1, a_2, d = symbols('a_1 a_2 d')\n",
    "\n",
    "theta_2 = pi - acos((a_1**2 + a_2**2 - d**2) / (2 * a_1 * a_2))\n",
    "\n",
    "theta_1 = sp.atan(y/x)-sp.asin(a_2*sp.sin(theta_2)/d)\n",
    "\n",
    "subs = {\n",
    "    x: 5,\n",
    "    y: 5,\n",
    "    a_1: 5,\n",
    "    a_2: 3,\n",
    "    d : sqrt(x**2 + y**2).subs(subs).evalf()\n",
    "}\n",
    "\n",
    "theta_2_value = theta_2.subs(subs).evalf() * 180 / np.pi\n",
    "theta_1_value = theta_1.subs(subs).evalf() * 180 / np.pi\n",
    "\n",
    "theta_2_value, theta_1_value\n",
    "\n"
   ]
  },
  {
   "cell_type": "markdown",
   "metadata": {},
   "source": [
    "## Ejercicio No. 3: Mecanismo Slider-Crank\n",
    "\n",
    "Objetivos:\n",
    "- Graficar la posición, velocidad y aceleración del mecanismo tipo biela-manivela (slider-crank) a lo largo del tiempo.\n",
    "- Adicionalmente, graficar la fuerza generada en función de la geometría del mecanismo.\n",
    "\n",
    "Este ejercicio combina análisis cinemático con análisis dinámico."
   ]
  },
  {
   "cell_type": "markdown",
   "metadata": {},
   "source": [
    "## Ejercicio No. 4: Análisis cinemático avanzado\n",
    "\n",
    "Trabajando a partir del Ejercicio 2, se pide:\n",
    "- Graficar la posición y velocidad del \"pin\" en el marco B.\n",
    "- Graficar las velocidades y aceleraciones del \"pin\" en el marco A.\n",
    "\n",
    "Este ejercicio permite profundizar en el cálculo de derivadas vectoriales y en la interpretación de magnitudes en distintos marcos de referencia."
   ]
  }
 ],
 "metadata": {
  "kernelspec": {
   "display_name": "Python 3",
   "language": "python",
   "name": "python3"
  },
  "language_info": {
   "codemirror_mode": {
    "name": "ipython",
    "version": 3
   },
   "file_extension": ".py",
   "mimetype": "text/x-python",
   "name": "python",
   "nbconvert_exporter": "python",
   "pygments_lexer": "ipython3",
   "version": "3.13.6"
  }
 },
 "nbformat": 4,
 "nbformat_minor": 2
}
