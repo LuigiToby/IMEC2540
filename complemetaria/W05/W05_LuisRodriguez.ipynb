{
 "cells": [
  {
   "cell_type": "markdown",
   "metadata": {},
   "source": [
    "## [Luis Alejandro Rodríguez Arenas](https://luigitoby.github.io/)  \n",
    "## Cod. 202321287 \n",
    "# Avances Semana 5"
   ]
  },
  {
   "cell_type": "markdown",
   "metadata": {},
   "source": [
    "# Librerías"
   ]
  },
  {
   "cell_type": "code",
   "execution_count": 65,
   "metadata": {},
   "outputs": [],
   "source": [
    "import numpy as np\n",
    "import matplotlib.pyplot as plt\n",
    "from matplotlib.animation import FuncAnimation\n",
    "from sympy import symbols, Matrix, pi, cos, sin, simplify, eye, solve, acos, asin,  latex, atan2, pprint, init_printing, Derivative, sqrt\n",
    "from sympy.physics.mechanics import ReferenceFrame, dynamicsymbols, init_vprinting\n",
    "\n",
    "# Configuración de impresión en formato LaTeX (MathJax)\n",
    "init_vprinting(use_latex='mathjax')"
   ]
  },
  {
   "cell_type": "markdown",
   "metadata": {},
   "source": [
    "# Ejercicio 1 Bloques conectados\n",
    "Dos bloques: m1 = 5 kg (x = 0 m) y m2 = 7 kg (x = 2 m). Están unidos por una barra de masa despreciable (L = 2 m). Calcula la posición del CM. Haga una función en python para N masas con N posiciones unidimensionales."
   ]
  },
  {
   "cell_type": "code",
   "execution_count": null,
   "metadata": {},
   "outputs": [
    {
     "name": "stdout",
     "output_type": "stream",
     "text": [
      "7/6\n"
     ]
    }
   ],
   "source": [
    "# Escriba su función para la solucion del problema de N masas con N distancias\n",
    "\n",
    "from sympy import symbols\n",
    "\n",
    "def centro_de_masa_sympy(masas, posiciones):\n",
    "    '''\n",
    "    Escriba su función aquí\n",
    "        Parametros: vector de masas y vector de posiciones\n",
    "    '''\n",
    "    m_total = sum(masas)\n",
    "    x_cm = sum(m * x for m, x in zip(masas, posiciones)) / m_total\n",
    "    return x_cm\n",
    "\n",
    "# Ejemplo:\n",
    "\n",
    "m1, m2 = symbols('m1 m2')\n",
    "x1, x2 = symbols('x1 x2')\n",
    "\n",
    "print(centro_de_masa_sympy([m1, m2], [x1, x2]).subs({m1:5, x1:0, m2:7, x2:2}))"
   ]
  }
 ],
 "metadata": {
  "kernelspec": {
   "display_name": "Python 3",
   "language": "python",
   "name": "python3"
  },
  "language_info": {
   "codemirror_mode": {
    "name": "ipython",
    "version": 3
   },
   "file_extension": ".py",
   "mimetype": "text/x-python",
   "name": "python",
   "nbconvert_exporter": "python",
   "pygments_lexer": "ipython3",
   "version": "3.13.6"
  }
 },
 "nbformat": 4,
 "nbformat_minor": 2
}
