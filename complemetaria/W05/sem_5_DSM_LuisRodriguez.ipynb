{
 "cells": [
  {
   "cell_type": "markdown",
   "metadata": {},
   "source": [
    "## [Luis Alejandro Rodríguez Arenas](https://luigitoby.github.io/)  \n",
    "## Cod. 202321287 \n",
    "# Avances Semana 5"
   ]
  },
  {
   "cell_type": "markdown",
   "metadata": {},
   "source": [
    "<table width=\"100%\" style=\"border: none; border-collapse: collapse;\">\n",
    "  <tr>\n",
    "    <td style=\"vertical-align: middle; padding: 10px;\">\n",
    "      <h1 style=\"margin: 0; font-size: 1.5em;\">Guía Semana No. 5</h1>\n",
    "    </td>\n",
    "    <td style=\"text-align: right; vertical-align: middle; padding: 10px;\">\n",
    "      <img src=\"resources_5082025/University_of_Los_Andes_logo.png\" width=\"120\" alt=\"Logo Universidad de los Andes\" />\n",
    "    </td>\n",
    "  </tr>\n",
    "</table>\n",
    "<hr>"
   ]
  },
  {
   "cell_type": "markdown",
   "metadata": {},
   "source": [
    "## Importación de librerías necesarias\n",
    "\n",
    "Se importan las librerías que se utilizarán en la guía:\n",
    "\n",
    "- **NumPy**: operaciones matemáticas y matriciales numéricas.\n",
    "- **Matplotlib**: para realizar gráficas y animaciones.\n",
    "- **SymPy**: para cálculos simbólicos y álgebra matemática.\n",
    "- **SymPy Physics Mechanics**: para trabajar con conceptos de mecánica como puntos, vectores y marcos de referencia.\n",
    "\n",
    "También se habilita la impresión de expresiones matemáticas usando LaTeX para mejorar la legibilidad."
   ]
  },
  {
   "cell_type": "code",
   "execution_count": null,
   "metadata": {},
   "outputs": [
    {
     "ename": "ImportError",
     "evalue": "cannot import name 'dot' from 'sympy' (c:\\Users\\aleja\\AppData\\Local\\Programs\\Python\\Python313\\Lib\\site-packages\\sympy\\__init__.py)",
     "output_type": "error",
     "traceback": [
      "\u001b[31m---------------------------------------------------------------------------\u001b[39m",
      "\u001b[31mImportError\u001b[39m                               Traceback (most recent call last)",
      "\u001b[36mCell\u001b[39m\u001b[36m \u001b[39m\u001b[32mIn[12]\u001b[39m\u001b[32m, line 4\u001b[39m\n\u001b[32m      2\u001b[39m \u001b[38;5;28;01mimport\u001b[39;00m\u001b[38;5;250m \u001b[39m\u001b[34;01mmatplotlib\u001b[39;00m\u001b[34;01m.\u001b[39;00m\u001b[34;01mpyplot\u001b[39;00m\u001b[38;5;250m \u001b[39m\u001b[38;5;28;01mas\u001b[39;00m\u001b[38;5;250m \u001b[39m\u001b[34;01mplt\u001b[39;00m\n\u001b[32m      3\u001b[39m \u001b[38;5;28;01mfrom\u001b[39;00m\u001b[38;5;250m \u001b[39m\u001b[34;01mmatplotlib\u001b[39;00m\u001b[34;01m.\u001b[39;00m\u001b[34;01manimation\u001b[39;00m\u001b[38;5;250m \u001b[39m\u001b[38;5;28;01mimport\u001b[39;00m FuncAnimation\n\u001b[32m----> \u001b[39m\u001b[32m4\u001b[39m \u001b[38;5;28;01mfrom\u001b[39;00m\u001b[38;5;250m \u001b[39m\u001b[34;01msympy\u001b[39;00m\u001b[38;5;250m \u001b[39m\u001b[38;5;28;01mimport\u001b[39;00m symbols, Matrix, pi, cos, sin, simplify, eye, solve, latex, atan2, pprint, init_printing, Derivative, sqrt, dot\n\u001b[32m      5\u001b[39m \u001b[38;5;28;01mfrom\u001b[39;00m\u001b[38;5;250m \u001b[39m\u001b[34;01msympy\u001b[39;00m\u001b[34;01m.\u001b[39;00m\u001b[34;01mphysics\u001b[39;00m\u001b[34;01m.\u001b[39;00m\u001b[34;01mmechanics\u001b[39;00m\u001b[38;5;250m \u001b[39m\u001b[38;5;28;01mimport\u001b[39;00m ReferenceFrame, dynamicsymbols, init_vprinting\n\u001b[32m      7\u001b[39m \u001b[38;5;66;03m# Configuración de impresión en formato LaTeX (MathJax)\u001b[39;00m\n",
      "\u001b[31mImportError\u001b[39m: cannot import name 'dot' from 'sympy' (c:\\Users\\aleja\\AppData\\Local\\Programs\\Python\\Python313\\Lib\\site-packages\\sympy\\__init__.py)"
     ]
    }
   ],
   "source": [
    "import numpy as np\n",
    "import matplotlib.pyplot as plt\n",
    "from matplotlib.animation import FuncAnimation\n",
    "from sympy import symbols, Matrix, pi, cos, sin, simplify, eye, solve, latex, atan2, pprint, init_printing, Derivative, sqrt\n",
    "from sympy.physics.mechanics import ReferenceFrame, dynamicsymbols, init_vprinting\n",
    "\n",
    "# Configuración de impresión en formato LaTeX (MathJax)\n",
    "init_vprinting(use_latex='mathjax')"
   ]
  },
  {
   "cell_type": "markdown",
   "metadata": {},
   "source": [
    "## Ejercicios en Clase"
   ]
  },
  {
   "cell_type": "markdown",
   "metadata": {},
   "source": [
    "- Ejercicio 1: Bloques Conectados"
   ]
  },
  {
   "cell_type": "code",
   "execution_count": 8,
   "metadata": {},
   "outputs": [
    {
     "name": "stdout",
     "output_type": "stream",
     "text": [
      "7/6\n"
     ]
    }
   ],
   "source": [
    "# Escriba su función para la solucion del problema \n",
    "\n",
    "from sympy import symbols, Sum\n",
    "\n",
    "\n",
    "# Variables\n",
    "m1, m2, x1, x2 = symbols('m1 m2 x1 x2')\n",
    "\n",
    "resultado = (m1*x1+m2*x2)/(m1+m2)\n",
    "\n",
    "print(resultado.subs({m1:5, x1:0, m2:7, x2:2}).simplify())"
   ]
  },
  {
   "cell_type": "code",
   "execution_count": null,
   "metadata": {},
   "outputs": [
    {
     "name": "stdout",
     "output_type": "stream",
     "text": [
      "7/6\n"
     ]
    }
   ],
   "source": [
    "# Escriba su función para la solucion del problema de N masas con N distancias\n",
    "\n",
    "from sympy import symbols\n",
    "\n",
    "def centro_de_masa_sympy(masas, posiciones):\n",
    "    '''\n",
    "    Escriba su función aquí\n",
    "        Parametros: vector de masas y vector de posiciones\n",
    "    '''\n",
    "    m_total = sum(masas)\n",
    "    x_cm = sum(m * x for m, x in zip(masas, posiciones)) / m_total\n",
    "    return x_cm\n",
    "\n",
    "# Ejemplo:\n",
    "\n",
    "m1, m2 = symbols('m1 m2')\n",
    "x1, x2 = symbols('x1 x2')\n",
    "\n",
    "print(centro_de_masa_sympy([m1, m2], [x1, x2]).subs({m1:5, x1:0, m2:7, x2:2}))"
   ]
  },
  {
   "cell_type": "code",
   "execution_count": null,
   "metadata": {},
   "outputs": [
    {
     "data": {
      "text/latex": [
       "$\\displaystyle \\frac{m_{1} x_{1} + m_{2} x_{2}}{m_{1} + m_{2}}$"
      ],
      "text/plain": [
       "(m1*x1 + m2*x2)/(m1 + m2)"
      ]
     },
     "metadata": {},
     "output_type": "display_data"
    },
    {
     "name": "stdout",
     "output_type": "stream",
     "text": [
      "7/6\n"
     ]
    }
   ],
   "source": [
    "# versión con producto punto, me gusto más jijijaja\n",
    "from sympy import symbols\n",
    "\n",
    "def centro_de_masa_sympy(masas, posiciones):\n",
    "    '''\n",
    "    Escriba su función aquí\n",
    "        Parametros: vector de masas y vector de posiciones\n",
    "    '''\n",
    "    m_total = sum(masas)\n",
    "    x_cm = Matrix(masas).dot(Matrix(posiciones)) / m_total\n",
    "    display(x_cm)\n",
    "    return x_cm\n",
    "\n",
    "# Ejemplo:\n",
    "\n",
    "m1, m2 = symbols('m1 m2')\n",
    "x1, x2 = symbols('x1 x2')\n",
    "\n",
    "print(centro_de_masa_sympy([m1, m2], [x1, x2]).subs({m1:5, x1:0, m2:7, x2:2}))"
   ]
  },
  {
   "cell_type": "markdown",
   "metadata": {},
   "source": [
    "- Ejercicio 2: Barra Uniforme"
   ]
  },
  {
   "cell_type": "code",
   "execution_count": 28,
   "metadata": {},
   "outputs": [
    {
     "name": "stdout",
     "output_type": "stream",
     "text": [
      "3/2\n"
     ]
    }
   ],
   "source": [
    "# Resuelva el problema aquí\n",
    "\n",
    "import sympy as sp\n",
    "\n",
    "# Variables\n",
    "x, L, M = sp.symbols('x L M', positive=True, real=True)\n",
    "\n",
    "\n",
    "def centro_de_masa_cuerpo_uniforme(m,x):\n",
    "    rcm = sp.integrate(x*m, (x, 0, L)) / sp.integrate(m, (x, 0, L))\n",
    "    return rcm\n",
    "\n",
    "print(centro_de_masa_cuerpo_uniforme(M, L).subs({M:4, L:3}))"
   ]
  },
  {
   "cell_type": "code",
   "execution_count": 31,
   "metadata": {},
   "outputs": [
    {
     "name": "stdout",
     "output_type": "stream",
     "text": [
      "x_CM simbólico: L/2\n",
      "x_CM numérico: 1.5\n"
     ]
    }
   ],
   "source": [
    "# Otra forma de hacerlo es\n",
    "\n",
    "# Resuelva el problema aquí\n",
    "\n",
    "import sympy as sp\n",
    "\n",
    "# Variables\n",
    "x, L, M = sp.symbols('x L M', positive=True, real=True)\n",
    "lambda_ = M/L\n",
    "\n",
    "num = sp.integrate(x * lambda_, (x, 0, L))\n",
    "den = sp.integrate(lambda_, (x, 0, L))\n",
    "\n",
    "\n",
    "x_cm = sp.simplify(num / den)\n",
    "print(\"x_CM simbólico:\", x_cm)\n",
    "\n",
    "# Sustitución de valores L=3 m, M=4 kg\n",
    "x_cm_val = x_cm.subs({L: 3, M: 4})\n",
    "print(\"x_CM numérico:\", float(x_cm_val))"
   ]
  },
  {
   "cell_type": "code",
   "execution_count": 41,
   "metadata": {},
   "outputs": [
    {
     "name": "stdout",
     "output_type": "stream",
     "text": [
      "CM eje x: (5/16, 0, 0)\n",
      "CM eje y: (0, 1/3, 0)\n"
     ]
    }
   ],
   "source": [
    "# Haga la función para el caso de la integración del solido de revolución\n",
    "\n",
    "import sympy as sp\n",
    "\n",
    "# sp.integrate(x , (x, 0, L)) Primer parametro: x o función, segundo (variable a integrar, limite inferior, limite superior)\n",
    "\n",
    "def cm_solido_revolucion(fx, a, b, axis='x'):\n",
    "    x = sp.symbols('x', real=True)\n",
    "    fx = sp.sympify(fx)\n",
    "\n",
    "    if axis == 'x':\n",
    "        V = sp.integrate(sp.pi*(fx**2), (x,a,b)) \n",
    "        # Aquí M = V*rho\n",
    "        # dm = dV*rho\n",
    "        # luego cm = integral de x por dV por rho, sobre integral de dV por rho\n",
    "        xcm = sp.integrate(x*sp.pi*(fx**2),(x,a,b))/V\n",
    "        return (sp.simplify(xcm), sp.Integer(0), sp.Integer(0))\n",
    "        # return (sp.integrate(((fx**2)*sp.pi*x), (x, a, b))/(sp.integrate(sp.pi*(fx**2))))\n",
    "\n",
    "    elif axis == 'y':\n",
    "        V  = sp.integrate(2*sp.pi*x*fx, (x, a, b))\n",
    "        ycm = sp.integrate(sp.pi*x*fx**2, (x, a, b)) / V\n",
    "        return (sp.Integer(0), sp.simplify(ycm), sp.Integer(0))\n",
    "\n",
    "\n",
    "    else:\n",
    "        raise ValueError(\"axis debe ser 'x' o 'y'\")\n",
    "        \n",
    "\n",
    "\n",
    "\n",
    "\n",
    "\n",
    "# Caso de prueba\n",
    "\n",
    "x = sp.symbols('x', real=True)\n",
    "cm1 = cm_solido_revolucion(1 - x**2, 0, 1, axis='x')\n",
    "cm2 = cm_solido_revolucion(1 - x**2, 0, 1, axis='y')\n",
    "\n",
    "print(\"CM eje x:\", cm1)\n",
    "print(\"CM eje y:\", cm2)\n"
   ]
  },
  {
   "cell_type": "markdown",
   "metadata": {},
   "source": [
    "# Ejercicio 3D Diseño Mecánico"
   ]
  },
  {
   "cell_type": "code",
   "execution_count": 49,
   "metadata": {},
   "outputs": [
    {
     "data": {
      "text/latex": [
       "$\\displaystyle \\frac{m_{1} x_{1} + m_{2} x_{2}}{m_{1} + m_{2}}$"
      ],
      "text/plain": [
       "(m1*x1 + m2*x2)/(m1 + m2)"
      ]
     },
     "metadata": {},
     "output_type": "display_data"
    },
    {
     "data": {
      "text/latex": [
       "$\\displaystyle \\frac{m_{1} y_{1} + m_{2} y_{2}}{m_{1} + m_{2}}$"
      ],
      "text/plain": [
       "(m1*y1 + m2*y2)/(m1 + m2)"
      ]
     },
     "metadata": {},
     "output_type": "display_data"
    },
    {
     "name": "stdout",
     "output_type": "stream",
     "text": [
      "Centro de masa en x = 0.780000000000000\n",
      "Centro de masa en y = 0.600000000000000\n"
     ]
    }
   ],
   "source": [
    "from sympy import symbols\n",
    "\n",
    "def centro_de_masa_sympy(masas, pos_x, pos_y):\n",
    "    '''\n",
    "    Escriba su función aquí\n",
    "        Parametros: vector de masas y vector de posiciones\n",
    "    '''\n",
    "    m_total = sum(masas)\n",
    "    x_cm = Matrix(masas).dot(Matrix(pos_x)) / m_total\n",
    "    y_cm = Matrix(masas).dot(Matrix(pos_y)) / m_total\n",
    "    display(x_cm)\n",
    "    display(y_cm)\n",
    "    return [x_cm, y_cm]\n",
    "\n",
    "# Ejemplo:\n",
    "\n",
    "m1, m2 = symbols('m1 m2')\n",
    "x1, x2 = symbols('x1 x2')\n",
    "y1, y2 = symbols('y1 y2')\n",
    "\n",
    "sol = centro_de_masa_sympy([m1, m2], [x1, x2], [y1, y2])\n",
    "\n",
    "print(f\"Centro de masa en x = {sol[0].subs({m1:3, x1:0.5, m2:2, x2:1.2, y1:0.4, y2:0.9})}\")\n",
    "print(f\"Centro de masa en y = {sol[1].subs({m1:3, x1:0.5, m2:2, x2:1.2, y1:0.4, y2:0.9})}\")"
   ]
  },
  {
   "cell_type": "markdown",
   "metadata": {},
   "source": [
    "## Scotch-yoke"
   ]
  },
  {
   "cell_type": "code",
   "execution_count": 12,
   "metadata": {},
   "outputs": [],
   "source": [
    "import math\n",
    "import sympy as sp\n",
    "from sympy.physics.mechanics import ReferenceFrame, Point, dynamicsymbols\n",
    "\n",
    "# ---- símbolos y frames ----\n",
    "t = sp.symbols('t')\n",
    "theta = dynamicsymbols('theta')\n",
    "omega, alpha, r, d = sp.symbols('omega alpha r d', real=True)\n"
   ]
  },
  {
   "cell_type": "markdown",
   "metadata": {},
   "source": [
    "## Slider-crank"
   ]
  },
  {
   "cell_type": "code",
   "execution_count": 13,
   "metadata": {},
   "outputs": [],
   "source": [
    "# Planteamiento inicial\n",
    "\n",
    "import sympy as sp\n",
    "\n",
    "t = sp.symbols('t')\n",
    "r, l, w0 = sp.symbols('r l w0', positive=True, real=True)\n",
    "theta = sp.symbols('theta', real=True)"
   ]
  },
  {
   "cell_type": "markdown",
   "metadata": {},
   "source": [
    "## Ejercicio No. 5"
   ]
  },
  {
   "cell_type": "code",
   "execution_count": 14,
   "metadata": {},
   "outputs": [],
   "source": [
    "# wAB: calcul\n",
    "\n",
    "import sympy as sp\n",
    "\n",
    "# Symbols\n",
    "theta = sp.symbols('theta', real=True)\n",
    "r, L, w0 = sp.symbols('r L w0', positive=True, real=True)\n",
    "\n"
   ]
  }
 ],
 "metadata": {
  "kernelspec": {
   "display_name": "Python 3",
   "language": "python",
   "name": "python3"
  },
  "language_info": {
   "codemirror_mode": {
    "name": "ipython",
    "version": 3
   },
   "file_extension": ".py",
   "mimetype": "text/x-python",
   "name": "python",
   "nbconvert_exporter": "python",
   "pygments_lexer": "ipython3",
   "version": "3.13.6"
  }
 },
 "nbformat": 4,
 "nbformat_minor": 2
}
