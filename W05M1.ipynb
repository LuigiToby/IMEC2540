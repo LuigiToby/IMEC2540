{
 "cells": [
  {
   "cell_type": "markdown",
   "id": "4b24b216",
   "metadata": {},
   "source": [
    "## [Luis Alejandro Rodríguez Arenas](https://luigitoby.github.io/)\n",
    "## Cod. 202321287\n",
    "# W05M1\n"
   ]
  },
  {
   "cell_type": "code",
   "execution_count": null,
   "id": "351d4de9",
   "metadata": {},
   "outputs": [],
   "source": [
    "\n",
    "\n",
    "import numpy as np\n",
    "import matplotlib.pyplot as plt\n",
    "from matplotlib.animation import FuncAnimation\n",
    "from sympy import symbols, Matrix, pi, cos, sin, simplify, eye, solve, acos, asin,  latex, atan2, pprint, init_printing, Derivative, sqrt, rad\n",
    "from sympy.physics.mechanics import ReferenceFrame, dynamicsymbols, init_vprinting, Point\n",
    "\n",
    "# Configuración de impresión en formato LaTeX (MathJax)\n",
    "init_vprinting(use_latex='mathjax')"
   ]
  },
  {
   "cell_type": "markdown",
   "id": "6bedfa2c",
   "metadata": {},
   "source": [
    "# 5/57 W05PS"
   ]
  },
  {
   "cell_type": "code",
   "execution_count": 38,
   "id": "2d2b293c",
   "metadata": {},
   "outputs": [
    {
     "data": {
      "text/latex": [
       "$\\displaystyle (- l \\cos{\\left(\\gamma \\right)} - r \\cos{\\left(\\theta \\right)} + x)\\mathbf{\\hat{n}_x} + (- l \\sin{\\left(\\gamma \\right)} + r \\sin{\\left(\\theta \\right)})\\mathbf{\\hat{n}_y}$"
      ],
      "text/plain": [
       "(-l⋅cos(γ) - r⋅cos(θ) + x) n_x + (-l⋅sin(γ) + r⋅sin(θ)) n_y"
      ]
     },
     "execution_count": 38,
     "metadata": {},
     "output_type": "execute_result"
    }
   ],
   "source": [
    "x, theta, gamma = dynamicsymbols('x theta gamma')\n",
    "r, l, t = symbols('r l t')\n",
    "N = ReferenceFrame('N')\n",
    "A = N.orientnew('A', 'Axis', [pi/2-theta, N.z])\n",
    "B = N.orientnew('B', 'Axis', [gamma, N.z])\n",
    "\n",
    "r1 = r*A.y\n",
    "\n",
    "r1.express(N).subs(theta, pi/4)\n",
    "\n",
    "\n",
    "r2 = -l*B.x\n",
    "\n",
    "r3 = -x*N.x\n",
    "\n",
    "eq = r1+r2-r3\n",
    "\n",
    "eq.express(N)"
   ]
  },
  {
   "cell_type": "code",
   "execution_count": 39,
   "id": "192f2fed",
   "metadata": {},
   "outputs": [
    {
     "data": {
      "text/latex": [
       "$\\displaystyle \\left[ - l \\cos{\\left(\\gamma \\right)} - r \\cos{\\left(\\theta \\right)} + x, \\  - l \\sin{\\left(\\gamma \\right)} + r \\sin{\\left(\\theta \\right)}\\right]$"
      ],
      "text/plain": [
       "[-l⋅cos(γ) - r⋅cos(θ) + x, -l⋅sin(γ) + r⋅sin(θ)]"
      ]
     },
     "metadata": {},
     "output_type": "display_data"
    },
    {
     "data": {
      "text/latex": [
       "$\\displaystyle \\left( l \\sqrt{1 - \\frac{r^{2} \\sin^{2}{\\left(\\theta \\right)}}{l^{2}}} + r \\cos{\\left(\\theta \\right)}, \\  \\operatorname{asin}{\\left(\\frac{r \\sin{\\left(\\theta \\right)}}{l} \\right)}\\right)$"
      ],
      "text/plain": [
       "⎛        ________________                           ⎞\n",
       "⎜       ╱      2    2                               ⎟\n",
       "⎜      ╱      r ⋅sin (θ)                  ⎛r⋅sin(θ)⎞⎟\n",
       "⎜l⋅   ╱   1 - ──────────  + r⋅cos(θ), asin⎜────────⎟⎟\n",
       "⎜    ╱             2                      ⎝   l    ⎠⎟\n",
       "⎝  ╲╱             l                                 ⎠"
      ]
     },
     "metadata": {},
     "output_type": "display_data"
    },
    {
     "data": {
      "text/latex": [
       "$\\displaystyle \\left( l \\sqrt{1 - \\frac{r^{2} \\sin^{2}{\\left(\\theta \\right)}}{l^{2}}} + r \\cos{\\left(\\theta \\right)}, \\  \\operatorname{asin}{\\left(\\frac{r \\sin{\\left(\\theta \\right)}}{l} \\right)}\\right)$"
      ],
      "text/plain": [
       "⎛        ________________                           ⎞\n",
       "⎜       ╱      2    2                               ⎟\n",
       "⎜      ╱      r ⋅sin (θ)                  ⎛r⋅sin(θ)⎞⎟\n",
       "⎜l⋅   ╱   1 - ──────────  + r⋅cos(θ), asin⎜────────⎟⎟\n",
       "⎜    ╱             2                      ⎝   l    ⎠⎟\n",
       "⎝  ╲╱             l                                 ⎠"
      ]
     },
     "metadata": {},
     "output_type": "display_data"
    },
    {
     "data": {
      "text/latex": [
       "$\\displaystyle l \\sqrt{1 - \\frac{r^{2} \\sin^{2}{\\left(\\theta \\right)}}{l^{2}}} + r \\cos{\\left(\\theta \\right)}$"
      ],
      "text/plain": [
       "        ________________           \n",
       "       ╱      2    2               \n",
       "      ╱      r ⋅sin (θ)            \n",
       "l⋅   ╱   1 - ──────────  + r⋅cos(θ)\n",
       "    ╱             2                \n",
       "  ╲╱             l                 "
      ]
     },
     "metadata": {},
     "output_type": "display_data"
    },
    {
     "data": {
      "text/latex": [
       "$\\displaystyle 0.0863803972380179$"
      ],
      "text/plain": [
       "0.0863803972380179"
      ]
     },
     "execution_count": 39,
     "metadata": {},
     "output_type": "execute_result"
    }
   ],
   "source": [
    "eqList = [eq.express(N).dot(N.x), eq.express(N).dot(N.y)]\n",
    "display(eqList)\n",
    "len(eqList)\n",
    "\n",
    "sol =solve(eqList, [x, gamma])[1]\n",
    "\n",
    "display(sol)\n",
    "\n",
    "display(sol) # Las tuplas son las soluciones para x y para gamma, pero el elemento 2 es otra tupla.\n",
    "             # Mi otra solución va a ser la solución por abajo/arriba\n",
    "\n",
    "x_sol = simplify(sol[0])\n",
    "gamma_sol = simplify(sol[1])\n",
    "\n",
    "display(x_sol)\n",
    "\n",
    "params = {\n",
    "    r: 2,\n",
    "    l: 6\n",
    "}\n",
    "\n",
    "x_sol.subs(params).subs(theta, np.deg2rad(15))\n",
    "\n",
    "gamma_sol.subs(params).subs(theta, np.deg2rad(15))\n",
    "\n",
    "\n"
   ]
  },
  {
   "cell_type": "code",
   "execution_count": 42,
   "id": "39960578",
   "metadata": {},
   "outputs": [
    {
     "data": {
      "text/latex": [
       "$\\displaystyle \\frac{r \\cos{\\left(\\theta \\right)} \\dot{\\theta}}{l \\sqrt{1 - \\frac{r^{2} \\sin^{2}{\\left(\\theta \\right)}}{l^{2}}}}$"
      ],
      "text/plain": [
       "       r⋅cos(θ)⋅θ̇       \n",
       "────────────────────────\n",
       "        ________________\n",
       "       ╱      2    2    \n",
       "      ╱      r ⋅sin (θ) \n",
       "l⋅   ╱   1 - ────────── \n",
       "    ╱             2     \n",
       "  ╲╱             l      "
      ]
     },
     "metadata": {},
     "output_type": "display_data"
    },
    {
     "data": {
      "text/latex": [
       "$\\displaystyle - \\frac{r \\sin{\\left(\\theta \\right)} \\dot{\\theta}^{2}}{l \\sqrt{1 - \\frac{r^{2} \\sin^{2}{\\left(\\theta \\right)}}{l^{2}}}} + \\frac{r \\cos{\\left(\\theta \\right)} \\ddot{\\theta}}{l \\sqrt{1 - \\frac{r^{2} \\sin^{2}{\\left(\\theta \\right)}}{l^{2}}}} + \\frac{r^{3} \\sin{\\left(\\theta \\right)} \\cos^{2}{\\left(\\theta \\right)} \\dot{\\theta}^{2}}{l^{3} \\left(1 - \\frac{r^{2} \\sin^{2}{\\left(\\theta \\right)}}{l^{2}}\\right)^{\\frac{3}{2}}}$"
      ],
      "text/plain": [
       "                  2                                       3           2     2 \n",
       "        r⋅sin(θ)⋅θ̇                  r⋅cos(θ)⋅θ̈           r ⋅sin(θ)⋅cos (θ)⋅θ̇  \n",
       "- ──────────────────────── + ──────────────────────── + ──────────────────────\n",
       "          ________________           ________________                      3/2\n",
       "         ╱      2    2              ╱      2    2          ⎛     2    2   ⎞   \n",
       "        ╱      r ⋅sin (θ)          ╱      r ⋅sin (θ)     3 ⎜    r ⋅sin (θ)⎟   \n",
       "  l⋅   ╱   1 - ──────────    l⋅   ╱   1 - ──────────    l ⋅⎜1 - ──────────⎟   \n",
       "      ╱             2            ╱             2           ⎜         2    ⎟   \n",
       "    ╲╱             l           ╲╱             l            ⎝        l     ⎠   "
      ]
     },
     "metadata": {},
     "output_type": "display_data"
    }
   ],
   "source": [
    "# Ahora note que gamma punto va a ser el omega en este caso, pues es de la barra AB, entonces solo tenemos \n",
    "# diferenciar como hicimos en el punto anterior.\n",
    "\n",
    "gamma_punto = gamma_sol.diff(t)\n",
    "\n",
    "gamma_punto_punto =  gamma_punto.diff(t)\n",
    "\n",
    "display(gamma_punto, gamma_punto_punto)\n"
   ]
  }
 ],
 "metadata": {
  "kernelspec": {
   "display_name": "Python 3",
   "language": "python",
   "name": "python3"
  },
  "language_info": {
   "codemirror_mode": {
    "name": "ipython",
    "version": 3
   },
   "file_extension": ".py",
   "mimetype": "text/x-python",
   "name": "python",
   "nbconvert_exporter": "python",
   "pygments_lexer": "ipython3",
   "version": "3.13.6"
  }
 },
 "nbformat": 4,
 "nbformat_minor": 5
}
