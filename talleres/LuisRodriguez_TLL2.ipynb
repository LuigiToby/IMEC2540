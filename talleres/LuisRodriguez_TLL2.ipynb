{
 "cells": [
  {
   "cell_type": "markdown",
   "id": "a8a98d6c",
   "metadata": {},
   "source": [
    "## [Luis Alejandro Rodríguez Arenas](https://luigitoby.github.io/)\n",
    "## Cod. 202321287\n",
    "# Taller 2"
   ]
  },
  {
   "cell_type": "markdown",
   "id": "f660b662",
   "metadata": {},
   "source": [
    "# Librerías"
   ]
  },
  {
   "cell_type": "code",
   "execution_count": 29,
   "id": "aada9fd6",
   "metadata": {},
   "outputs": [],
   "source": [
    "from sympy import symbols, Matrix, pi, cos, sin, simplify, eye, solve, latex, atan2, pprint, init_printing, Derivative, sqrt, diff\n",
    "from sympy.physics.vector import dynamicsymbols, init_vprinting, ReferenceFrame\n",
    "import numpy as np\n",
    "import pandas as pd\n",
    "import matplotlib.pyplot as plt\n",
    "init_vprinting(use_latex='mathjax')"
   ]
  },
  {
   "cell_type": "markdown",
   "id": "a42488c9",
   "metadata": {},
   "source": [
    "# Ejercicio 1\n"
   ]
  },
  {
   "cell_type": "code",
   "execution_count": 21,
   "id": "11bdfdfe",
   "metadata": {},
   "outputs": [
    {
     "name": "stdout",
     "output_type": "stream",
     "text": [
      "a_x = -0.0000, a_y = 10.0000\n",
      "b_x = 12.0363, b_y = 15.9727\n",
      "c_x = 29.6817, c_y = -18.5472\n",
      "R_x = 41.7180, R_y = 7.4255\n",
      "|R| = 42.3737\n",
      "Ángulo = 10.09°\n",
      "Proyección de a sobre R: 1.72527667552181*N.x + 0.307088282004401*N.y\n",
      "Proyección de b sobre R: 14.4224142154087*N.x + 2.56709805830196*N.y\n",
      "Proyección de c sobre R: 25.5702929375854*N.x + 4.55134961247732*N.y\n",
      "Magnitud de proyección de a sobre R: 1.75239345469104\n",
      "Magnitud de proyección de b sobre R: 14.6490963626348\n",
      "Magnitud de proyección de c sobre R: 25.9721902081616\n"
     ]
    }
   ],
   "source": [
    "# Definimos nuestras variables\n",
    "mag_a, mag_b, mag_c, ang1, ang2, ang3 = symbols('mag_a mag_b mag_c ang1 ang2 ang3')\n",
    "\n",
    "# Establecemos un Reference Frame\n",
    "N=ReferenceFrame(\"N\")\n",
    "\n",
    "# Definimos nuestros vectores\n",
    "a = N.x*mag_a*cos(ang1) + N.y*mag_a*sin(ang1)\n",
    "b = N.x*mag_b*cos(ang2) + N.y*mag_b*sin(ang2)\n",
    "c = N.x*mag_c*cos(ang3) + N.y*mag_c*sin(ang3)\n",
    "\n",
    "# Diccionario para sustituir valores (Pasamos a radianes también)\n",
    "subs_dict = {\n",
    "    mag_a: 10,\n",
    "    mag_b: 20,\n",
    "    mag_c: 35,\n",
    "    ang1: 90*pi/180,\n",
    "    ang2: 53*pi/180,\n",
    "    ang3: -32*pi/180\n",
    "}\n",
    "\n",
    "# Evaluamos componentes, básicamente haces producto punto con el eje cuya componente queremos\n",
    "# y evaluamos sustituyendo el dict con los valores del problema.\n",
    "a_x_val = a.dot(N.x).evalf(subs=subs_dict)\n",
    "a_y_val = a.dot(N.y).evalf(subs=subs_dict)\n",
    "b_x_val = b.dot(N.x).evalf(subs=subs_dict)\n",
    "b_y_val = b.dot(N.y).evalf(subs=subs_dict)\n",
    "c_x_val = c.dot(N.x).evalf(subs=subs_dict)\n",
    "c_y_val = c.dot(N.y).evalf(subs=subs_dict)\n",
    "\n",
    "# Mostrar resultados\n",
    "print(f\"a_x = {a_x_val:.4f}, a_y = {a_y_val:.4f}\")\n",
    "print(f\"b_x = {b_x_val:.4f}, b_y = {b_y_val:.4f}\")\n",
    "print(f\"c_x = {c_x_val:.4f}, c_y = {c_y_val:.4f}\")\n",
    "\n",
    "R = a+b+c # Resultante\n",
    "R_mag = (R).magnitude().evalf(subs=subs_dict)  # Magnitud de la resultante\n",
    "R_ang = atan2(R.dot(N.y), R.dot(N.x)).evalf(subs=subs_dict)  # en radianes\n",
    "\n",
    "R_x_val = R.dot(N.x).evalf(subs=subs_dict)\n",
    "R_y_val = R.dot(N.y).evalf(subs=subs_dict)\n",
    "\n",
    "print(f\"R_x = {R_x_val:.4f}, R_y = {R_y_val:.4f}\")\n",
    "print(f\"|R| = {R_mag:.4f}\")\n",
    "print(f\"Ángulo = {(R_ang*180/pi):.2f}°\") # Ángulo de la resultante con cuidado de pasarlo a grados\n",
    "\n",
    "\n",
    "# Proyecciones sobre R\n",
    "\n",
    "def proj(u, v):\n",
    "    return (u.dot(v) / (v.dot(v))) * v\n",
    "\n",
    "proy_a = proj(a, R).evalf(subs=subs_dict)\n",
    "proy_b = proj(b, R).evalf(subs=subs_dict)\n",
    "proy_c = proj(c, R).evalf(subs=subs_dict)\n",
    "\n",
    "# Dejo funcion que da la magnitud de una vez para futuro uso\n",
    "def comp(u, v):\n",
    "    return u.dot(v) / v.magnitude()\n",
    "\n",
    "# Mostrar\n",
    "print(f\"Proyección de a sobre R: {proy_a}\")\n",
    "print(f\"Proyección de b sobre R: {proy_b}\")\n",
    "print(f\"Proyección de c sobre R: {proy_c}\")\n",
    "print(f\"Magnitud de proyección de a sobre R: {proy_a.magnitude()}\")\n",
    "print(f\"Magnitud de proyección de b sobre R: {proy_b.magnitude()}\")\n",
    "print(f\"Magnitud de proyección de c sobre R: {proy_c.magnitude()}\")\n"
   ]
  },
  {
   "cell_type": "markdown",
   "id": "b006c4ab",
   "metadata": {},
   "source": [
    "# Ejercicio 2"
   ]
  },
  {
   "cell_type": "code",
   "execution_count": 22,
   "id": "f7c7965d",
   "metadata": {},
   "outputs": [
    {
     "name": "stdout",
     "output_type": "stream",
     "text": [
      "a = sqrt(3)*v1/2*N.x + v1/2*N.y\n",
      "b = 3*v2/5*N.x + 4*v2/5*N.y\n",
      "a + b = (sqrt(3)*v1/2 + 3*v2/5)*N.x + (v1/2 + 4*v2/5)*N.y\n",
      "a - b = (sqrt(3)*v1/2 - 3*v2/5)*N.x + (v1/2 - 4*v2/5)*N.y\n",
      "a · b = 2*v1*v2/5 + 3*sqrt(3)*v1*v2/10\n",
      "a × b = (-3*v1*v2/10 + 2*sqrt(3)*v1*v2/5)*N.z\n"
     ]
    }
   ],
   "source": [
    "from sympy import symbols, pi, atan2\n",
    "from sympy.physics.mechanics import ReferenceFrame\n",
    "\n",
    "# --- Definimos magnitudes y ángulos ---\n",
    "v1, v2 = symbols('v1 v2')\n",
    "ang1 = 30*pi/180      # 30 grados en radianes\n",
    "ang2 = atan2(4, 3)    # ángulo en segundo cuadrante\n",
    "\n",
    "# --- Creamos un marco de referencia cartesiano ---\n",
    "N = ReferenceFrame('N')\n",
    "\n",
    "# --- Definimos los vectores ---\n",
    "# Sympy permite definir directamente en polares: orientnew + unit vectors\n",
    "# pero aquí los armamos como combinaciones en X,Y\n",
    "a = v1 * (N.x*cos(ang1) + N.y*sin(ang1))\n",
    "b = v2 * (N.x*cos(ang2) + N.y*sin(ang2))\n",
    "\n",
    "# --- Operaciones vectoriales ---\n",
    "suma   = a + b\n",
    "resta  = a - b\n",
    "dot_ab = a.dot(b)\n",
    "cross_ab = a.cross(b)\n",
    "\n",
    "# --- Resultados ---\n",
    "print(\"a =\", a)\n",
    "print(\"b =\", b)\n",
    "print(\"a + b =\", suma)\n",
    "print(\"a - b =\", resta)\n",
    "print(\"a · b =\", dot_ab)\n",
    "print(\"a × b =\", cross_ab)\n"
   ]
  },
  {
   "cell_type": "markdown",
   "id": "b14b5513",
   "metadata": {},
   "source": [
    "# Ejercicio 3 - Implementación más eficiente"
   ]
  },
  {
   "cell_type": "code",
   "execution_count": 23,
   "id": "ade61fe1",
   "metadata": {},
   "outputs": [
    {
     "name": "stdout",
     "output_type": "stream",
     "text": [
      "Expresiones generales en A\n",
      "v = ((-pi*(l(t) + 375)*sin(theta(t))/3 - 150*cos(theta(t)))*cos(theta(t)) + (pi*(l(t) + 375)*cos(theta(t))/3 - 150*sin(theta(t)))*sin(theta(t)))*A.x + (-(-pi*(l(t) + 375)*sin(theta(t))/3 - 150*cos(theta(t)))*sin(theta(t)) + (pi*(l(t) + 375)*cos(theta(t))/3 - 150*sin(theta(t)))*cos(theta(t)))*A.y\n",
      "a = ((-pi**2*(l(t) + 375)*sin(theta(t))/9 - 100*pi*cos(theta(t)))*sin(theta(t)) + (-pi**2*(l(t) + 375)*cos(theta(t))/9 + 100*pi*sin(theta(t)))*cos(theta(t)))*A.x + ((-pi**2*(l(t) + 375)*sin(theta(t))/9 - 100*pi*cos(theta(t)))*cos(theta(t)) - (-pi**2*(l(t) + 375)*cos(theta(t))/9 + 100*pi*sin(theta(t)))*sin(theta(t)))*A.y\n",
      "|v| = sqrt(pi**2*(l(t) + 375)**2 + 202500)/3\n",
      "|a| = pi*sqrt(pi**2*(l(t) + 375)**2 + 810000)/9\n",
      "\n",
      "Ejemplo con l = 125 mm (L=500 mm)\n",
      "v = - 150*A.x + 500*pi/3*A.y\n",
      "a = - 500*pi**2/9*A.x - 100*pi*A.y\n",
      "|v| = 544.661066910457 mm/s\n",
      "|a| = 631.934638003356 mm/s^2\n"
     ]
    }
   ],
   "source": [
    "t = symbols('t') # tiempo\n",
    "# variables dinámicas\n",
    "l = dynamicsymbols('l')         # longitud expuesta [mm]\n",
    "theta = dynamicsymbols('theta') # ángulo [rad]\n",
    "\n",
    "# tasas constantes\n",
    "ld = -150        # [mm/s]\n",
    "thetad = pi/3    # [rad/s] (60 deg/s)\n",
    "\n",
    "# longitud total = parte fija + expuesta\n",
    "l0 = 375         # [mm]\n",
    "L = l0 + l       # [mm]\n",
    "\n",
    "# marcos\n",
    "N = ReferenceFrame('N')\n",
    "A = N.orientnew('A', 'Axis', (theta, N.z))\n",
    "\n",
    "# posición de B\n",
    "r = L * A.x\n",
    "\n",
    "# velocidad y aceleración\n",
    "v = r.diff(t, N)\n",
    "a = v.diff(t, N)\n",
    "\n",
    "# se asume θ̈ = 0, l̈ = 0\n",
    "v = v.subs({l.diff(t, 2): 0, theta.diff(t, 2): 0})\n",
    "a = a.subs({l.diff(t, 2): 0, theta.diff(t, 2): 0})\n",
    "\n",
    "# expresar en A\n",
    "vA = v.express(A).subs({l.diff(t): ld, theta.diff(t): thetad})\n",
    "aA = a.express(A).subs({l.diff(t): ld, theta.diff(t): thetad})\n",
    "\n",
    "print(\"Expresiones generales en A\")\n",
    "print(\"v =\", vA)\n",
    "print(\"a =\", aA)\n",
    "print(\"|v| =\", vA.magnitude().simplify())\n",
    "print(\"|a| =\", aA.magnitude().simplify())\n",
    "\n",
    "# ejemplo con l = 125 mm → L = 500 mm (https://www.youtube.com/watch?v=XFuOW2thPA8)\n",
    "subs_ex = {l: 125}\n",
    "v_num = vA.subs(subs_ex).simplify()\n",
    "a_num = aA.subs(subs_ex).simplify()\n",
    "\n",
    "print(\"\\nEjemplo con l = 125 mm (L=500 mm)\")\n",
    "print(\"v =\", v_num)\n",
    "print(\"a =\", a_num)\n",
    "print(\"|v| =\", v_num.magnitude().evalf(), \"mm/s\")\n",
    "print(\"|a| =\", a_num.magnitude().evalf(), \"mm/s^2\")\n"
   ]
  },
  {
   "cell_type": "markdown",
   "id": "85e65ac0",
   "metadata": {},
   "source": [
    "# Ejercicio 3 - Implementación antigua, pero con explicación de ecuaciones paso a paso"
   ]
  },
  {
   "cell_type": "code",
   "execution_count": 24,
   "id": "b7969f32",
   "metadata": {},
   "outputs": [
    {
     "name": "stdout",
     "output_type": "stream",
     "text": [
      "Expresiones generales\n"
     ]
    },
    {
     "data": {
      "text/latex": [
       "$\\displaystyle \\dot{l}\\mathbf{\\hat{a}_x} + l \\dot{\\theta}\\mathbf{\\hat{a}_y}$"
      ],
      "text/plain": [
       "l̇ a_x + l⋅θ̇ a_y"
      ]
     },
     "metadata": {},
     "output_type": "display_data"
    },
    {
     "data": {
      "text/latex": [
       "$\\displaystyle -  l \\dot{\\theta}^{2}\\mathbf{\\hat{a}_x} + 2 \\dot{l} \\dot{\\theta}\\mathbf{\\hat{a}_y}$"
      ],
      "text/plain": [
       "    2                \n",
       "-l⋅θ̇  a_x + 2⋅l̇⋅θ̇ a_y"
      ]
     },
     "metadata": {},
     "output_type": "display_data"
    },
    {
     "name": "stdout",
     "output_type": "stream",
     "text": [
      "Expresiones generales con datos del problema\n"
     ]
    },
    {
     "data": {
      "text/latex": [
       "$\\displaystyle - 150\\mathbf{\\hat{a}_x} + \\frac{\\pi \\left(l_{0} + 375\\right)}{3}\\mathbf{\\hat{a}_y}$"
      ],
      "text/plain": [
       "           π⋅(l₀ + 375)    \n",
       "-150 a_x + ──────────── a_y\n",
       "                3          "
      ]
     },
     "metadata": {},
     "output_type": "display_data"
    },
    {
     "data": {
      "text/latex": [
       "$\\displaystyle -  \\frac{\\pi^{2} \\left(l_{0} + 375\\right)}{9}\\mathbf{\\hat{a}_x} -  100 \\pi\\mathbf{\\hat{a}_y}$"
      ],
      "text/plain": [
       "  2                             \n",
       "-π ⋅(l₀ + 375)                  \n",
       "─────────────── a_x + -100⋅π a_y\n",
       "       9                        "
      ]
     },
     "metadata": {},
     "output_type": "display_data"
    },
    {
     "name": "stdout",
     "output_type": "stream",
     "text": [
      "Magnitudes, la primera es velocidad, la segunda aceleración\n"
     ]
    },
    {
     "data": {
      "text/latex": [
       "$\\displaystyle \\frac{\\sqrt{\\pi^{2} \\left(l_{0} + 375\\right)^{2} + 202500}}{3}$"
      ],
      "text/plain": [
       "   _________________________\n",
       "  ╱  2           2          \n",
       "╲╱  π ⋅(l₀ + 375)  + 202500 \n",
       "────────────────────────────\n",
       "             3              "
      ]
     },
     "metadata": {},
     "output_type": "display_data"
    },
    {
     "data": {
      "text/latex": [
       "$\\displaystyle \\frac{\\pi \\sqrt{\\pi^{2} \\left(l_{0} + 375\\right)^{2} + 810000}}{9}$"
      ],
      "text/plain": [
       "     _________________________\n",
       "    ╱  2           2          \n",
       "π⋅╲╱  π ⋅(l₀ + 375)  + 810000 \n",
       "──────────────────────────────\n",
       "              9               "
      ]
     },
     "metadata": {},
     "output_type": "display_data"
    },
    {
     "name": "stdout",
     "output_type": "stream",
     "text": [
      "Ejemplo con l= 125mm, primer resultado es la velocidad, segundo la aceleración (Así miramos si esta bien o no el resultado comparando con internet (https://www.youtube.com/watch?v=XFuOW2thPA8)\n"
     ]
    },
    {
     "data": {
      "text/latex": [
       "$\\displaystyle 544.661066910457$"
      ],
      "text/plain": [
       "544.661066910457"
      ]
     },
     "metadata": {},
     "output_type": "display_data"
    },
    {
     "data": {
      "text/latex": [
       "$\\displaystyle 631.934638003356$"
      ],
      "text/plain": [
       "631.934638003356"
      ]
     },
     "metadata": {},
     "output_type": "display_data"
    }
   ],
   "source": [
    "# Creamos simbolos\n",
    "t, l_0 = symbols('t l_0')\n",
    "# Creamos funciones, usamos dynamics para tener notación de newton\n",
    "l = dynamicsymbols('l')\n",
    "theta = dynamicsymbols('theta')\n",
    "\n",
    "# Creamos nuevo marco de referencia que gira alrededor del eje z\n",
    "N=ReferenceFrame(\"N\")\n",
    "A=N.orientnew(\"A\", \"Axis\", (theta, N.z))\n",
    "\n",
    "# Partimos de la función polar para describir la pocisión de la punta del piston\n",
    "r = l*A.x\n",
    "v = r.diff(t, N)\n",
    "a = v.diff(t, N)\n",
    "\n",
    "# Sustituimos las derivadas que sabemos son cero\n",
    "subs = {\n",
    "    Derivative(l, t, 2): 0,\n",
    "    Derivative(theta, t, 2): 0\n",
    "}\n",
    "\n",
    "v = v.subs(subs).simplify()\n",
    "a = a.subs(subs).simplify()\n",
    "\n",
    "print(\"Expresiones generales\")\n",
    "display(v.express(A).simplify())\n",
    "display(a.express(A).simplify())\n",
    "\n",
    "# Remplazamos los datos del problema\n",
    "subs2 = {\n",
    "    Derivative(l, t, 1): -150,\n",
    "    Derivative(theta, t, 1): 60*pi/180,\n",
    "    l : 375 + l_0\n",
    "}\n",
    "print(\"Expresiones generales con datos del problema\")\n",
    "\n",
    "v = v.subs(subs2).simplify()\n",
    "a = a.subs(subs2).simplify()\n",
    "\n",
    "display(v.express(A).simplify())\n",
    "display(a.express(A).simplify())\n",
    "\n",
    "print(\"Magnitudes, la primera es velocidad, la segunda aceleración\")\n",
    "\n",
    "display(v.express(A).magnitude().simplify())\n",
    "display(a.express(A).magnitude().simplify())\n",
    "\n",
    "\n",
    "# Ahora para resolver si l_0 = 125mm, simplemente remplazaré l por 500, para simplificar todo\n",
    "subs3 = {\n",
    "    l_0: 125\n",
    "}\n",
    "\n",
    "v = v.subs(subs3).simplify()\n",
    "a = a.subs(subs3).simplify()\n",
    "\n",
    "print('Ejemplo con l= 125mm, primer resultado es la velocidad, segundo la aceleración (Así miramos si esta bien o no el resultado comparando con internet (https://www.youtube.com/watch?v=XFuOW2thPA8)')\n",
    "\n",
    "display(v.express(A).simplify().magnitude().evalf())\n",
    "display(a.express(A).simplify().magnitude().evalf())\n",
    "\n"
   ]
  },
  {
   "cell_type": "markdown",
   "id": "3cf357ab",
   "metadata": {},
   "source": [
    "# Ejercicio 4"
   ]
  },
  {
   "cell_type": "code",
   "execution_count": null,
   "id": "1a7bc034",
   "metadata": {},
   "outputs": [
    {
     "name": "stdout",
     "output_type": "stream",
     "text": [
      "[0.05 0.05 0.05 ... 0.05 0.05 0.05]\n",
      "Definición simbólica de velocidad: 0\n"
     ]
    },
    {
     "data": {
      "image/png": "[encoded data removed]",
      "text/plain": [
       "<Figure size 1200x800 with 2 Axes>"
      ]
     },
     "metadata": {},
     "output_type": "display_data"
    }
   ],
   "source": [
    "df = pd.read_csv(\"bbox.csv\", sep=\";\")\n",
    "\n",
    "# Extraer columnas relevantes\n",
    "t = df[\"Elapsed time (s)\"].values\n",
    "d_vbox = df[\"Distance (m)\"].values\n",
    "v_vbox_kmh = df[\"Speed (km/h)\"].values\n",
    "\n",
    "# Convertir velocidad a m/s\n",
    "v_vbox = v_vbox_kmh * 1000 / 3600\n",
    "\n",
    "# a. Derivar numericamente la distancia para obtener velocidad numérica\n",
    "dt = np.diff(t)\n",
    "dd = np.diff(d_vbox)\n",
    "v_num = dd / dt   # velocidad derivada numéricamente\n",
    "\n",
    "# Ahora como derivamos numéricamente vamos a perder un dato en cada uno de los arrays\n",
    "# pues estamos usando diferencias entre puntos adyacentes\n",
    "t_mid = (t[:-1] + t[1:]) / 2   # tiempos intermedios para graficar\n",
    "\n",
    "\n",
    "# b. Integrar velocidad para obtener distancia\n",
    "d_num = [0]  # acumulador de distancia integrada\n",
    "\n",
    "for i in range(1, len(t)): # Por cada tiempo\n",
    "    trap = 0.5 * (v_vbox[i] + v_vbox[i-1]) * (t[i] - t[i-1]) \n",
    "    d_num.append(d_num[-1] + trap)\n",
    "    \n",
    "d_num = np.array(d_num) # Lo volvemos un array\n",
    "\n",
    "# c. Comparación simbólica (ejemplo de Sympy) ===\n",
    "# Usamos sympy solo para mostrar la derivada simbólica genérica\n",
    "time = symbols(\"time\")\n",
    "dist = symbols(\"dist\", real=True, positive=True)\n",
    "v = diff(dist, time)  # velocidad = d(distancia)/dt\n",
    "print(\"Definición simbólica de velocidad:\", v)\n",
    "\n",
    "# === 5. Graficar ===\n",
    "plt.figure(figsize=(12, 8))\n",
    "\n",
    "# (a) Velocidad comparada\n",
    "plt.subplot(2, 1, 1)\n",
    "plt.plot(t, v_vbox, label=\"Velocidad VBOX (m/s)\")\n",
    "plt.plot(t_mid, v_num, label=\"Velocidad derivada (m/s)\", alpha=0.7)\n",
    "plt.xlabel(\"Tiempo (s)\")\n",
    "plt.ylabel(\"Velocidad (m/s)\")\n",
    "plt.legend()\n",
    "plt.title(\"Comparación de velocidades\")\n",
    "\n",
    "# (b) Distancia comparada\n",
    "plt.subplot(2, 1, 2)\n",
    "plt.plot(t, d_vbox, label=\"Distancia VBOX (m)\")\n",
    "plt.plot(t, d_num, label=\"Distancia integrada (m)\", alpha=0.7)\n",
    "plt.xlabel(\"Tiempo (s)\")\n",
    "plt.ylabel(\"Distancia (m)\")\n",
    "plt.legend()\n",
    "plt.title(\"Comparación de distancias\")\n",
    "\n",
    "plt.tight_layout()\n",
    "plt.show()\n"
   ]
  }
 ],
 "metadata": {
  "kernelspec": {
   "display_name": "Python 3",
   "language": "python",
   "name": "python3"
  },
  "language_info": {
   "codemirror_mode": {
    "name": "ipython",
    "version": 3
   },
   "file_extension": ".py",
   "mimetype": "text/x-python",
   "name": "python",
   "nbconvert_exporter": "python",
   "pygments_lexer": "ipython3",
   "version": "3.13.6"
  }
 },
 "nbformat": 4,
 "nbformat_minor": 5
}
