{
 "cells": [
  {
   "cell_type": "markdown",
   "id": "a8a98d6c",
   "metadata": {},
   "source": [
    "## [Luis Alejandro Rodríguez Arenas](https://luigitoby.github.io/)\n",
    "## Cod. 202321287\n",
    "# Taller 4"
   ]
  },
  {
   "cell_type": "markdown",
   "id": "f660b662",
   "metadata": {},
   "source": [
    "# Librerías"
   ]
  },
  {
   "cell_type": "code",
   "execution_count": 1,
   "id": "aada9fd6",
   "metadata": {},
   "outputs": [],
   "source": [
    "from sympy import symbols, Matrix, pi, cos, sin, simplify, eye, solve, latex, atan2, pprint, init_printing, Derivative, sqrt, diff, Eq, tan\n",
    "from sympy.physics.vector import dynamicsymbols, init_vprinting, ReferenceFrame\n",
    "from numpy import deg2rad, linspace\n",
    "import matplotlib.pyplot as plt\n",
    "init_vprinting(use_latex='mathjax')"
   ]
  },
  {
   "cell_type": "markdown",
   "id": "657fd9fb",
   "metadata": {},
   "source": [
    "# Sobre diagramas y procesos a mano\n",
    "Para todos los puntos de adjunta un archivo .pdf con diagramas y procesos a fines, para mayor claridad del proceso que se llevo acabo en cada ejercicio."
   ]
  },
  {
   "cell_type": "markdown",
   "id": "d2c80443",
   "metadata": {},
   "source": [
    "## Ej 1 \n",
    "El Punto A está moviéndose a una aceleración constante “a” a la derecha, partiendo del  reposo  y  con  un  valor  de  “x_0 =0”.  Determine  una  expresión  de  la  velocidad angular de la barra AB en el tiempo."
   ]
  },
  {
   "cell_type": "markdown",
   "id": "203372de",
   "metadata": {},
   "source": [
    "## Planteamiento\n",
    "Parece que este ejercicio es similar al ejercicio 2 del taller 3, por lo que podemos partir de este para empezar a resolver este ejercicio. \n",
    "\n",
    "Necesitamos encontrar la velocidad angular de la barra AB en el tiempo."
   ]
  }
 ],
 "metadata": {
  "kernelspec": {
   "display_name": "Python 3",
   "language": "python",
   "name": "python3"
  },
  "language_info": {
   "codemirror_mode": {
    "name": "ipython",
    "version": 3
   },
   "file_extension": ".py",
   "mimetype": "text/x-python",
   "name": "python",
   "nbconvert_exporter": "python",
   "pygments_lexer": "ipython3",
   "version": "3.13.6"
  }
 },
 "nbformat": 4,
 "nbformat_minor": 5
}
