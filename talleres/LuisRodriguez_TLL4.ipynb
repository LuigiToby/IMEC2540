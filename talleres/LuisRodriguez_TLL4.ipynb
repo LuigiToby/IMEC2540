{
 "cells": [
  {
   "cell_type": "markdown",
   "id": "a8a98d6c",
   "metadata": {},
   "source": [
    "## [Luis Alejandro Rodríguez Arenas](https://luigitoby.github.io/)\n",
    "## Cod. 202321287\n",
    "# Taller 4"
   ]
  },
  {
   "cell_type": "markdown",
   "id": "f660b662",
   "metadata": {},
   "source": [
    "# Librerías"
   ]
  },
  {
   "cell_type": "code",
   "execution_count": 2,
   "id": "aada9fd6",
   "metadata": {},
   "outputs": [],
   "source": [
    "from sympy import symbols, Matrix, pi, cos, sin, simplify, eye, solve, latex, atan2, pprint, init_printing, Derivative, sqrt, diff, Eq, tan\n",
    "from sympy.physics.vector import dynamicsymbols, init_vprinting, ReferenceFrame\n",
    "from numpy import deg2rad, linspace\n",
    "import matplotlib.pyplot as plt\n",
    "init_vprinting(use_latex='mathjax')"
   ]
  },
  {
   "cell_type": "markdown",
   "id": "657fd9fb",
   "metadata": {},
   "source": [
    "# Sobre diagramas y procesos a mano\n",
    "Para todos los puntos de adjunta un archivo .pdf con diagramas y procesos a fines, para mayor claridad del proceso que se llevo acabo en cada ejercicio."
   ]
  },
  {
   "cell_type": "markdown",
   "id": "d2c80443",
   "metadata": {},
   "source": [
    "## Ej 1 \n",
    "El Punto A está moviéndose a una aceleración constante “a” a la derecha, partiendo del  reposo  y  con  un  valor  de  “x_0 =0”.  Determine  una  expresión  de  la  velocidad angular de la barra AB en el tiempo."
   ]
  },
  {
   "cell_type": "markdown",
   "id": "203372de",
   "metadata": {},
   "source": [
    "## Planteamiento\n",
    "Parece que este ejercicio es similar al ejercicio 2 del taller 3, por lo que podemos partir de este para empezar a resolver este ejercicio. \n",
    "\n",
    "Necesitamos encontrar la velocidad angular de la barra AB en el tiempo."
   ]
  },
  {
   "cell_type": "code",
   "execution_count": 46,
   "id": "22fe1499",
   "metadata": {},
   "outputs": [
    {
     "data": {
      "text/latex": [
       "$\\displaystyle (b \\cos{\\left(\\gamma \\right)} + b \\cos{\\left(\\theta \\right)} - x)\\mathbf{\\hat{n}_x} + (- b \\sin{\\left(\\gamma \\right)} + b \\sin{\\left(\\theta \\right)})\\mathbf{\\hat{n}_y}$"
      ],
      "text/plain": [
       "(b⋅cos(γ) + b⋅cos(θ) - x) n_x + (-b⋅sin(γ) + b⋅sin(θ)) n_y"
      ]
     },
     "execution_count": 46,
     "metadata": {},
     "output_type": "execute_result"
    }
   ],
   "source": [
    "x, theta, gamma = dynamicsymbols('x theta gamma')\n",
    "b, t = symbols('b t')\n",
    "N = ReferenceFrame('N')\n",
    "A = N.orientnew('A', 'Axis', [theta, N.z])\n",
    "B = N.orientnew('B', 'Axis', [pi/2-gamma, N.z])\n",
    "\n",
    "r1 = b*A.x\n",
    "\n",
    "r2 = -b*B.y\n",
    "\n",
    "r3 = x*N.x\n",
    "\n",
    "eq = r1+r2-r3\n",
    "\n",
    "eq.express(N)"
   ]
  },
  {
   "cell_type": "code",
   "execution_count": 48,
   "id": "33a78116",
   "metadata": {},
   "outputs": [
    {
     "data": {
      "text/latex": [
       "$\\displaystyle \\left[ b \\cos{\\left(\\gamma \\right)} + b \\cos{\\left(\\theta \\right)} - x, \\  - b \\sin{\\left(\\gamma \\right)} + b \\sin{\\left(\\theta \\right)}\\right]$"
      ],
      "text/plain": [
       "[b⋅cos(γ) + b⋅cos(θ) - x, -b⋅sin(γ) + b⋅sin(θ)]"
      ]
     },
     "metadata": {},
     "output_type": "display_data"
    },
    {
     "data": {
      "text/latex": [
       "$\\displaystyle \\left[ \\left( 2 b \\cos{\\left(\\theta \\right)}, \\  \\theta\\right)\\right]$"
      ],
      "text/plain": [
       "[(2⋅b⋅cos(θ), θ)]"
      ]
     },
     "metadata": {},
     "output_type": "display_data"
    }
   ],
   "source": [
    "eqList = [eq.express(N).dot(N.x), eq.express(N).dot(N.y)]\n",
    "display(eqList)\n",
    "\n",
    "sol =solve(eqList, [x, gamma])\n",
    "\n",
    "display(sol)\n",
    "\n"
   ]
  }
 ],
 "metadata": {
  "kernelspec": {
   "display_name": "Python 3",
   "language": "python",
   "name": "python3"
  },
  "language_info": {
   "codemirror_mode": {
    "name": "ipython",
    "version": 3
   },
   "file_extension": ".py",
   "mimetype": "text/x-python",
   "name": "python",
   "nbconvert_exporter": "python",
   "pygments_lexer": "ipython3",
   "version": "3.13.6"
  }
 },
 "nbformat": 4,
 "nbformat_minor": 5
}
