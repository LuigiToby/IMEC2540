{
 "cells": [
  {
   "cell_type": "markdown",
   "id": "4a6609d8",
   "metadata": {},
   "source": [
    "## [Luis Alejandro Rodríguez Arenas](https://luigitoby.github.io/)  \n",
    "## Cod. 202321287  \n",
    "# Problem Sets Semana 5\n"
   ]
  },
  {
   "cell_type": "code",
   "execution_count": null,
   "id": "e5550a5f",
   "metadata": {},
   "outputs": [
    {
     "ename": "ImportError",
     "evalue": "cannot import name 'deg2rad' from 'sympy' (c:\\Users\\aleja\\AppData\\Local\\Programs\\Python\\Python313\\Lib\\site-packages\\sympy\\__init__.py)",
     "output_type": "error",
     "traceback": [
      "\u001b[31m---------------------------------------------------------------------------\u001b[39m",
      "\u001b[31mImportError\u001b[39m                               Traceback (most recent call last)",
      "\u001b[36mCell\u001b[39m\u001b[36m \u001b[39m\u001b[32mIn[7]\u001b[39m\u001b[32m, line 1\u001b[39m\n\u001b[32m----> \u001b[39m\u001b[32m1\u001b[39m \u001b[38;5;28;01mfrom\u001b[39;00m\u001b[38;5;250m \u001b[39m\u001b[34;01msympy\u001b[39;00m\u001b[38;5;250m \u001b[39m\u001b[38;5;28;01mimport\u001b[39;00m symbols, pi, cos, solve, Eq, diff, deg2rad\n\u001b[32m      2\u001b[39m \u001b[38;5;28;01mfrom\u001b[39;00m\u001b[38;5;250m \u001b[39m\u001b[34;01msympy\u001b[39;00m\u001b[34;01m.\u001b[39;00m\u001b[34;01mphysics\u001b[39;00m\u001b[34;01m.\u001b[39;00m\u001b[34;01mvector\u001b[39;00m\u001b[38;5;250m \u001b[39m\u001b[38;5;28;01mimport\u001b[39;00m dynamicsymbols, init_vprinting, ReferenceFrame \n\u001b[32m      3\u001b[39m \u001b[38;5;28;01mimport\u001b[39;00m\u001b[38;5;250m \u001b[39m\u001b[34;01mnumpy\u001b[39;00m\u001b[38;5;250m \u001b[39m\u001b[38;5;28;01mas\u001b[39;00m\u001b[38;5;250m \u001b[39m\u001b[34;01mnp\u001b[39;00m\n",
      "\u001b[31mImportError\u001b[39m: cannot import name 'deg2rad' from 'sympy' (c:\\Users\\aleja\\AppData\\Local\\Programs\\Python\\Python313\\Lib\\site-packages\\sympy\\__init__.py)"
     ]
    }
   ],
   "source": [
    "from sympy.physics.vector import dynamicsymbols, init_vprinting, ReferenceFrame \n",
    "import numpy as np\n",
    "init_vprinting(use_latex='mathjax')"
   ]
  },
  {
   "cell_type": "markdown",
   "id": "5a735a5e",
   "metadata": {},
   "source": [
    "# Ej 5/33"
   ]
  },
  {
   "cell_type": "code",
   "execution_count": 11,
   "id": "88f79796",
   "metadata": {},
   "outputs": [
    {
     "data": {
      "text/latex": [
       "$\\displaystyle d + r \\cos{\\left(\\theta \\right)}$"
      ],
      "text/plain": [
       "d + r⋅cos(θ)"
      ]
     },
     "metadata": {},
     "output_type": "display_data"
    },
    {
     "data": {
      "text/latex": [
       "$\\displaystyle - r \\sin{\\left(\\theta \\right)} \\dot{\\theta}$"
      ],
      "text/plain": [
       "-r⋅sin(θ)⋅θ̇"
      ]
     },
     "metadata": {},
     "output_type": "display_data"
    },
    {
     "data": {
      "text/latex": [
       "$\\displaystyle - r \\sin{\\left(\\theta \\right)} \\ddot{\\theta} - r \\cos{\\left(\\theta \\right)} \\dot{\\theta}^{2}$"
      ],
      "text/plain": [
       "                        2\n",
       "-r⋅sin(θ)⋅θ̈ - r⋅cos(θ)⋅θ̇ "
      ]
     },
     "metadata": {},
     "output_type": "display_data"
    },
    {
     "data": {
      "text/latex": [
       "$\\displaystyle 49.226182617407$"
      ],
      "text/plain": [
       "49.2261826174070"
      ]
     },
     "metadata": {},
     "output_type": "display_data"
    },
    {
     "data": {
      "text/latex": [
       "$\\displaystyle -45.3153893518325$"
      ],
      "text/plain": [
       "-45.3153893518325"
      ]
     },
     "metadata": {},
     "output_type": "display_data"
    },
    {
     "data": {
      "text/latex": [
       "$\\displaystyle -178.159188398107$"
      ],
      "text/plain": [
       "-178.159188398107"
      ]
     },
     "metadata": {},
     "output_type": "display_data"
    }
   ],
   "source": [
    "t = symbols('t')\n",
    "x, theta = dynamicsymbols('x theta')\n",
    "d, r = symbols('d r')\n",
    "\n",
    "P = d + r*cos(theta)\n",
    "\n",
    "V = diff(P, t)\n",
    "\n",
    "A = diff(V, t)\n",
    "\n",
    "display(P, V, A)\n",
    "\n",
    "sus = {\n",
    "    theta: np.deg2rad(65),\n",
    "    r: 10, # mm\n",
    "    d: 45, # mm\n",
    "    diff(theta, t): 5, # rad/s\n",
    "    diff(diff(theta, t), t): 8 # rad/s^2\n",
    "}\n",
    "\n",
    "display(P.subs(sus), V.subs(sus), A.subs(sus))\n"
   ]
  },
  {
   "cell_type": "markdown",
   "id": "41c61d69",
   "metadata": {},
   "source": [
    "## Análisis\n",
    "\n",
    "Es un ejercicio relativamente sencillo usando derivadas, aquí un [video donde se ve un proceso igual al realizado](https://www.youtube.com/watch?v=CpDwf7oc5JM)"
   ]
  }
 ],
 "metadata": {
  "kernelspec": {
   "display_name": "Python 3",
   "language": "python",
   "name": "python3"
  },
  "language_info": {
   "codemirror_mode": {
    "name": "ipython",
    "version": 3
   },
   "file_extension": ".py",
   "mimetype": "text/x-python",
   "name": "python",
   "nbconvert_exporter": "python",
   "pygments_lexer": "ipython3",
   "version": "3.13.6"
  }
 },
 "nbformat": 4,
 "nbformat_minor": 5
}
