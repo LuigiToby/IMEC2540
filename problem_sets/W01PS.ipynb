{
 "cells": [
  {
   "cell_type": "markdown",
   "id": "4a6609d8",
   "metadata": {},
   "source": [
    "## [Luis Alejandro Rodríguez Arenas](https://luigitoby.github.io/)  \n",
    "## Cod. 202321287  \n",
    "# Problem Sets Semana 1\n"
   ]
  },
  {
   "cell_type": "code",
   "execution_count": 2,
   "id": "e5550a5f",
   "metadata": {},
   "outputs": [],
   "source": [
    "from sympy import symbols, Matrix, pi, cos, sin, simplify, eye, solve, latex, atan2, pprint, init_printing, Derivative, sqrt, Eq\n",
    "from sympy.physics.vector import dynamicsymbols, init_vprinting, ReferenceFrame\n",
    "import numpy as np\n",
    "init_vprinting(use_latex='mathjax')"
   ]
  },
  {
   "cell_type": "markdown",
   "id": "5a735a5e",
   "metadata": {},
   "source": [
    "# Ejercicio 1 - Ejercicio hombre en el techo"
   ]
  },
  {
   "cell_type": "code",
   "execution_count": 21,
   "id": "d1e265ea",
   "metadata": {},
   "outputs": [
    {
     "data": {
      "text/latex": [
       "$\\displaystyle t v_{0}$"
      ],
      "text/plain": [
       "t⋅v₀"
      ]
     },
     "metadata": {},
     "output_type": "display_data"
    },
    {
     "data": {
      "text/latex": [
       "$\\displaystyle - \\frac{0.5 d^{2} g}{v_{0}^{2}} = h$"
      ],
      "text/plain": [
       "      2       \n",
       "-0.5⋅d ⋅g     \n",
       "────────── = h\n",
       "     2        \n",
       "   v₀         "
      ]
     },
     "metadata": {},
     "output_type": "display_data"
    },
    {
     "data": {
      "text/latex": [
       "$\\displaystyle - \\frac{28.2528}{v_{0}^{2}} = -2.1$"
      ],
      "text/plain": [
       "-28.2528        \n",
       "───────── = -2.1\n",
       "     2          \n",
       "   v₀           "
      ]
     },
     "metadata": {},
     "output_type": "display_data"
    },
    {
     "data": {
      "text/latex": [
       "$\\displaystyle \\left[ -3.66793051811431, \\  3.66793051811431\\right]$"
      ],
      "text/plain": [
       "[-3.66793051811431, 3.66793051811431]"
      ]
     },
     "metadata": {},
     "output_type": "display_data"
    },
    {
     "name": "stdout",
     "output_type": "stream",
     "text": [
      "La velocidad inicial necesaria para que el objeto alcance la altura de h m es 3.668 m/s.\n",
      "El tiempo que tarda en llegar a la altura de h m es 0.654 s.\n"
     ]
    },
    {
     "data": {
      "text/latex": [
       "$\\displaystyle - 0.364583333333333 d^{2} = -5.1$"
      ],
      "text/plain": [
       "                    2       \n",
       "-0.364583333333333⋅d  = -5.1"
      ]
     },
     "metadata": {},
     "output_type": "display_data"
    },
    {
     "data": {
      "text/latex": [
       "$\\displaystyle \\left[ -3.7401298678751, \\  3.7401298678751\\right]$"
      ],
      "text/plain": [
       "[-3.7401298678751, 3.7401298678751]"
      ]
     },
     "metadata": {},
     "output_type": "display_data"
    },
    {
     "name": "stdout",
     "output_type": "stream",
     "text": [
      "La distancia final es 1.340 m.\n"
     ]
    }
   ],
   "source": [
    "\n",
    "N=ReferenceFrame(\"N\")\n",
    "\n",
    "t, v0, g, d, h, df = symbols(\"t v0 g d h df\")\n",
    "x, y = dynamicsymbols(\"x y\")\n",
    "\n",
    "r = v0*t*N.x - g*t**2*(1/2)*N.y\n",
    "\n",
    "x_t = simplify(r.dot(N.x))   # x(t)\n",
    "y_t = simplify(r.dot(N.y))   # y(t)\n",
    "\n",
    "display(x_t)\n",
    "\n",
    "t_at_d = solve(Eq(x_t, d), t)   # será [d/v0], estamos despejando t en terminod de d y velocidad inical\n",
    "\n",
    "# altura cuando x = d, remplazamos en y(t) y obtenemos una expresión para la altura en terminos de d\n",
    "y_at_d = simplify(y_t.subs(t, t_at_d[0]))\n",
    "\n",
    "# condición \"just miss\": y_at_d == -h\n",
    "eq = Eq(y_at_d, h)\n",
    "\n",
    "\n",
    "display(eq)\n",
    "\n",
    "sus = {\n",
    "    d: 2.4,\n",
    "    h: -(1.2+0.9),\n",
    "    g: 9.81\n",
    "}\n",
    "\n",
    "eq1 = eq.subs(sus)\n",
    "\n",
    "display(eq1)\n",
    "\n",
    "sol_v0 = solve(eq1, v0)\n",
    "display(sol_v0)\n",
    "\n",
    "\n",
    "print(f\"La velocidad inicial necesaria para que el objeto alcance la altura de {h} m es {sol_v0[1]:.3f} m/s.\")\n",
    "\n",
    "t = 2.4 / sol_v0[1]\n",
    "\n",
    "print(f\"El tiempo que tarda en llegar a la altura de {h} m es {t:.3f} s.\")\n",
    "\n",
    "# Y finalmente encontramos la distancia cuando la altura es 5.1\n",
    "\n",
    "\n",
    "sus2 = {\n",
    "    h: -(1.2+0.9+3),\n",
    "    g: 9.81,\n",
    "    v0: sol_v0[1]\n",
    "}\n",
    "\n",
    "eq2 = eq.subs(sus2)\n",
    "\n",
    "display(eq2)\n",
    "\n",
    "df = solve(eq2, d)\n",
    "display(df)\n",
    "\n",
    "print(f\"La distancia final es {df[1]-2.4:.3f} m.\")\n"
   ]
  },
  {
   "cell_type": "markdown",
   "id": "505c5b4d",
   "metadata": {},
   "source": [
    "# Ejercicio 2 -  Ejercicio de los dos carros"
   ]
  },
  {
   "cell_type": "code",
   "execution_count": 34,
   "id": "a97b4c51",
   "metadata": {},
   "outputs": [
    {
     "data": {
      "text/latex": [
       "$\\displaystyle -  r \\dot{\\theta}^{2}\\mathbf{\\hat{a}_x} + r \\ddot{\\theta}\\mathbf{\\hat{a}_y}$"
      ],
      "text/plain": [
       "    2              \n",
       "-r⋅θ̇  a_x + r⋅θ̈ a_y"
      ]
     },
     "execution_count": 34,
     "metadata": {},
     "output_type": "execute_result"
    }
   ],
   "source": [
    "\n",
    "t, r, v = symbols(\"t r v\")\n",
    "theta=dynamicsymbols(\"theta\")\n",
    "\n",
    "N=ReferenceFrame(\"N\")\n",
    "A=N.orientnew(\"A\", \"Axis\", (theta, N.z))\n",
    "\n",
    "# Aquí vemos la genialidad que es este método\n",
    "vector=N.x+N.y\n",
    "vector.express(A)\n",
    "\n",
    "r_vec=r*A.x # Aquí establecemos el primer vector\n",
    "\n",
    "r_vec.express(N) # Así lo modemos transformar al otro marco de referencia\n",
    "\n",
    "v_vec = r_vec.diff(t, N)\n",
    "a_vec = v_vec.diff(t, N)\n",
    "\n",
    "v_vec = v_vec.express(A).simplify() # Aquí vemos que la velocidad es cero, ya que el vector no cambia en el tiempo\n",
    "a_vec = a_vec.express(A).simplify()\n",
    "\n",
    "a_vec\n"
   ]
  },
  {
   "cell_type": "code",
   "execution_count": 35,
   "id": "1da48eb7",
   "metadata": {},
   "outputs": [
    {
     "data": {
      "text/latex": [
       "$\\displaystyle -  \\frac{v^{2}}{r}\\mathbf{\\hat{a}_x}$"
      ],
      "text/plain": [
       "  2     \n",
       "-v      \n",
       "──── a_x\n",
       " r      "
      ]
     },
     "metadata": {},
     "output_type": "display_data"
    },
    {
     "data": {
      "text/latex": [
       "$\\displaystyle \\sqrt{\\frac{v^{4}}{r^{2}}}$"
      ],
      "text/plain": [
       "      ____\n",
       "     ╱  4 \n",
       "    ╱  v  \n",
       "   ╱   ── \n",
       "  ╱     2 \n",
       "╲╱     r  "
      ]
     },
     "metadata": {},
     "output_type": "display_data"
    },
    {
     "data": {
      "text/latex": [
       "$\\displaystyle \\frac{\\sqrt{v^{4}}}{21}$"
      ],
      "text/plain": [
       "   ____\n",
       "  ╱  4 \n",
       "╲╱  v  \n",
       "───────\n",
       "  21   "
      ]
     },
     "metadata": {},
     "output_type": "display_data"
    },
    {
     "data": {
      "text/latex": [
       "$\\displaystyle \\frac{\\sqrt{v^{4}}}{21} = 8.624$"
      ],
      "text/plain": [
       "   ____        \n",
       "  ╱  4         \n",
       "╲╱  v          \n",
       "─────── = 8.624\n",
       "  21           "
      ]
     },
     "metadata": {},
     "output_type": "display_data"
    },
    {
     "data": {
      "text/latex": [
       "$\\displaystyle \\left[ -13.4574886215817, \\  13.4574886215817, \\  - 13.4574886215817 i, \\  13.4574886215817 i\\right]$"
      ],
      "text/plain": [
       "[-13.4574886215817, 13.4574886215817, -13.4574886215817⋅ⅈ, 13.4574886215817⋅ⅈ]"
      ]
     },
     "execution_count": 35,
     "metadata": {},
     "output_type": "execute_result"
    }
   ],
   "source": [
    "a_vec = a_vec.subs({theta.diff(t).diff(t): 0})\n",
    "a_vec = a_vec.subs({theta.diff(t): v/r})\n",
    "\n",
    "display(a_vec)\n",
    "\n",
    "expr_magnitud = a_vec.magnitude().simplify()\n",
    "\n",
    "display(expr_magnitud)\n",
    "\n",
    "expr_magnitud = expr_magnitud.subs({r: 21})\n",
    "\n",
    "display(expr_magnitud)\n",
    "\n",
    "eq = Eq(expr_magnitud, 0.88*(9.8))\n",
    "\n",
    "display(eq)\n",
    "\n",
    "sol = solve(eq, v)\n",
    "\n",
    "sol"
   ]
  },
  {
   "cell_type": "code",
   "execution_count": 36,
   "id": "63a72ceb",
   "metadata": {},
   "outputs": [
    {
     "data": {
      "text/latex": [
       "$\\displaystyle -  \\frac{v^{2}}{r}\\mathbf{\\hat{a}_x}$"
      ],
      "text/plain": [
       "  2     \n",
       "-v      \n",
       "──── a_x\n",
       " r      "
      ]
     },
     "metadata": {},
     "output_type": "display_data"
    },
    {
     "data": {
      "text/latex": [
       "$\\displaystyle -  \\frac{v^{2} \\cos{\\left(\\theta \\right)}}{r}\\mathbf{\\hat{n}_x} -  \\frac{v^{2} \\sin{\\left(\\theta \\right)}}{r}\\mathbf{\\hat{n}_y}$"
      ],
      "text/plain": [
       "  2                 2            \n",
       "-v ⋅cos(θ)        -v ⋅sin(θ)     \n",
       "─────────── n_x + ─────────── n_y\n",
       "     r                 r         "
      ]
     },
     "metadata": {},
     "output_type": "display_data"
    },
    {
     "data": {
      "text/latex": [
       "$\\displaystyle \\sqrt{\\frac{v^{4} \\sin^{2}{\\left(\\theta \\right)}}{r^{2}} + \\frac{v^{4} \\cos^{2}{\\left(\\theta \\right)}}{r^{2}}}$"
      ],
      "text/plain": [
       "      _________________________\n",
       "     ╱  4    2       4    2    \n",
       "    ╱  v ⋅sin (θ)   v ⋅cos (θ) \n",
       "   ╱   ────────── + ────────── \n",
       "  ╱         2            2     \n",
       "╲╱         r            r      "
      ]
     },
     "metadata": {},
     "output_type": "display_data"
    },
    {
     "data": {
      "text/latex": [
       "$\\displaystyle \\sqrt{\\frac{v^{4}}{r^{2}}}$"
      ],
      "text/plain": [
       "      ____\n",
       "     ╱  4 \n",
       "    ╱  v  \n",
       "   ╱   ── \n",
       "  ╱     2 \n",
       "╲╱     r  "
      ]
     },
     "metadata": {},
     "output_type": "display_data"
    },
    {
     "data": {
      "text/latex": [
       "$\\displaystyle \\sqrt{\\frac{v^{4}}{r^{2}}}$"
      ],
      "text/plain": [
       "      ____\n",
       "     ╱  4 \n",
       "    ╱  v  \n",
       "   ╱   ── \n",
       "  ╱     2 \n",
       "╲╱     r  "
      ]
     },
     "metadata": {},
     "output_type": "display_data"
    },
    {
     "data": {
      "text/latex": [
       "$\\displaystyle \\frac{\\sqrt{v^{4}}}{16}$"
      ],
      "text/plain": [
       "   ____\n",
       "  ╱  4 \n",
       "╲╱  v  \n",
       "───────\n",
       "  16   "
      ]
     },
     "metadata": {},
     "output_type": "display_data"
    },
    {
     "data": {
      "text/latex": [
       "$\\displaystyle \\frac{\\sqrt{v^{4}}}{16} = 8.624$"
      ],
      "text/plain": [
       "   ____        \n",
       "  ╱  4         \n",
       "╲╱  v          \n",
       "─────── = 8.624\n",
       "  16           "
      ]
     },
     "metadata": {},
     "output_type": "display_data"
    },
    {
     "data": {
      "text/latex": [
       "$\\displaystyle \\left[ -11.7466590995057, \\  11.7466590995057, \\  - 11.7466590995057 i, \\  11.7466590995057 i\\right]$"
      ],
      "text/plain": [
       "[-11.7466590995057, 11.7466590995057, -11.7466590995057⋅ⅈ, 11.7466590995057⋅ⅈ]"
      ]
     },
     "execution_count": 36,
     "metadata": {},
     "output_type": "execute_result"
    }
   ],
   "source": [
    "a_vec = a_vec.subs({theta.diff(t).diff(t): 0})\n",
    "a_vec = a_vec.subs({theta.diff(t): v/r})\n",
    "\n",
    "display(a_vec)\n",
    "\n",
    "display(a_vec.express(N))\n",
    "\n",
    "display(a_vec.express(N).magnitude())\n",
    "\n",
    "display(a_vec.express(N).magnitude().simplify())\n",
    "\n",
    "expr_magnitud = a_vec.express(N).magnitude().simplify()\n",
    "\n",
    "display(expr_magnitud)\n",
    "\n",
    "expr_magnitud = expr_magnitud.subs({r: 16})\n",
    "\n",
    "display(expr_magnitud)\n",
    "\n",
    "eq = Eq(expr_magnitud, 0.88*(9.8))\n",
    "\n",
    "display(eq)\n",
    "\n",
    "sol = solve(eq, v)\n",
    "\n",
    "sol"
   ]
  },
  {
   "cell_type": "markdown",
   "id": "591be4d5",
   "metadata": {},
   "source": [
    "# Ejercicio 3 - Maquinita"
   ]
  },
  {
   "cell_type": "code",
   "execution_count": 44,
   "id": "6a0a47aa",
   "metadata": {},
   "outputs": [
    {
     "data": {
      "text/latex": [
       "$\\displaystyle -12800$"
      ],
      "text/plain": [
       "-12800"
      ]
     },
     "metadata": {},
     "output_type": "display_data"
    },
    {
     "data": {
      "text/latex": [
       "$\\displaystyle -8800$"
      ],
      "text/plain": [
       "-8800"
      ]
     },
     "metadata": {},
     "output_type": "display_data"
    }
   ],
   "source": [
    "# Creamos simbolos\n",
    "t = symbols('t')\n",
    "# Creamos funciones, usamos dynamics para tener notación de newton\n",
    "R = dynamicsymbols('R')\n",
    "theta = dynamicsymbols('theta')\n",
    "\n",
    "N=ReferenceFrame(\"N\")\n",
    "A=N.orientnew(\"A\", \"Axis\", (theta, N.z))\n",
    "# Partimos de la función polar para describir la pocisión de la punta del piston\n",
    "p = R * A.x \n",
    "\n",
    "v = p.diff(t, N)\n",
    "a = v.diff(t, N)\n",
    "\n",
    "v = v.express(A).simplify()  # Velocidad en el marco A\n",
    "a = a.express(A).simplify()\n",
    "\n",
    "a_x = a.dot(A.x)  # Componente x de la aceleración\n",
    "a_y = a.dot(A.y)  # Componente y de la aceleración\n",
    "\n",
    "subs = {\n",
    "    theta.diff(t, 1): 8,  # Velocidad angular es cero\n",
    "    theta.diff(t, 2): -20,  # Velocidad angular es cero\n",
    "    R: 200,  # Velocidad angular es cero\n",
    "    R.diff(t, 1): -300,  # Velocidad angular es cero\n",
    "    R.diff(t, 2)    : 0  # Velocidad angular es cero\n",
    "}\n",
    "\n",
    "a_x = a_x.subs(subs).simplify()\n",
    "a_y = a_y.subs(subs).simplify()\n",
    "\n",
    "display(a_x, a_y)\n"
   ]
  }
 ],
 "metadata": {
  "kernelspec": {
   "display_name": "Python 3",
   "language": "python",
   "name": "python3"
  },
  "language_info": {
   "codemirror_mode": {
    "name": "ipython",
    "version": 3
   },
   "file_extension": ".py",
   "mimetype": "text/x-python",
   "name": "python",
   "nbconvert_exporter": "python",
   "pygments_lexer": "ipython3",
   "version": "3.13.6"
  }
 },
 "nbformat": 4,
 "nbformat_minor": 5
}
