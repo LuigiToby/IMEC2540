{
 "cells": [
  {
   "cell_type": "markdown",
   "id": "4a6609d8",
   "metadata": {},
   "source": [
    "## [Luis Alejandro Rodríguez Arenas](https://luigitoby.github.io/)  \n",
    "## Cod. 202321287  \n",
    "# Problem Sets Semana 1\n"
   ]
  },
  {
   "cell_type": "code",
   "execution_count": 108,
   "id": "e5550a5f",
   "metadata": {},
   "outputs": [],
   "source": [
    "from sympy import symbols, pi, cos, solve, Eq\n",
    "from sympy.physics.vector import dynamicsymbols, init_vprinting, ReferenceFrame\n",
    "import numpy as np\n",
    "init_vprinting(use_latex='mathjax')"
   ]
  },
  {
   "cell_type": "markdown",
   "id": "5a735a5e",
   "metadata": {},
   "source": [
    "# Ejercicio 1 - Varilla rara"
   ]
  },
  {
   "cell_type": "code",
   "execution_count": 109,
   "id": "d1e265ea",
   "metadata": {},
   "outputs": [
    {
     "name": "stdout",
     "output_type": "stream",
     "text": [
      "Expresiones generales\n"
     ]
    },
    {
     "data": {
      "text/latex": [
       "$\\displaystyle \\dot{l}\\mathbf{\\hat{a}_x} + l \\dot{\\theta}\\mathbf{\\hat{a}_y}$"
      ],
      "text/plain": [
       "l̇ a_x + l⋅θ̇ a_y"
      ]
     },
     "metadata": {},
     "output_type": "display_data"
    },
    {
     "data": {
      "text/latex": [
       "$\\displaystyle (- l \\dot{\\theta}^{2} + \\ddot{l})\\mathbf{\\hat{a}_x} + (l \\ddot{\\theta} + 2 \\dot{l} \\dot{\\theta})\\mathbf{\\hat{a}_y}$"
      ],
      "text/plain": [
       "⎛     2    ⎞                        \n",
       "⎝- l⋅θ̇  + l̈⎠ a_x + (l⋅θ̈ + 2⋅l̇⋅θ̇) a_y"
      ]
     },
     "metadata": {},
     "output_type": "display_data"
    },
    {
     "name": "stdout",
     "output_type": "stream",
     "text": [
      "Derivadas que sabemos son iguales a 0\n"
     ]
    },
    {
     "data": {
      "text/latex": [
       "$\\displaystyle l \\dot{\\theta}\\mathbf{\\hat{a}_y}$"
      ],
      "text/plain": [
       "l⋅θ̇ a_y"
      ]
     },
     "metadata": {},
     "output_type": "display_data"
    },
    {
     "data": {
      "text/latex": [
       "$\\displaystyle -  l \\dot{\\theta}^{2}\\mathbf{\\hat{a}_x} + l \\ddot{\\theta}\\mathbf{\\hat{a}_y}$"
      ],
      "text/plain": [
       "    2              \n",
       "-l⋅θ̇  a_x + l⋅θ̈ a_y"
      ]
     },
     "metadata": {},
     "output_type": "display_data"
    },
    {
     "name": "stdout",
     "output_type": "stream",
     "text": [
      "Resultado velocidad y aceleración por componentes\n"
     ]
    },
    {
     "data": {
      "text/latex": [
       "$\\displaystyle 3.23127572922351\\mathbf{\\hat{a}_y}$"
      ],
      "text/plain": [
       "3.23127572922351 a_y"
      ]
     },
     "metadata": {},
     "output_type": "display_data"
    },
    {
     "data": {
      "text/latex": [
       "$\\displaystyle - 16.1563786461175\\mathbf{\\hat{a}_x} + 5.17004116675761\\mathbf{\\hat{a}_y}$"
      ],
      "text/plain": [
       "-16.1563786461175 a_x + 5.17004116675761 a_y"
      ]
     },
     "metadata": {},
     "output_type": "display_data"
    },
    {
     "name": "stdout",
     "output_type": "stream",
     "text": [
      "Resultado magnitudes\n"
     ]
    },
    {
     "data": {
      "text/latex": [
       "$\\displaystyle 3.23127572922351$"
      ],
      "text/plain": [
       "3.23127572922351"
      ]
     },
     "metadata": {},
     "output_type": "display_data"
    },
    {
     "data": {
      "text/latex": [
       "$\\displaystyle 16.9634282096129$"
      ],
      "text/plain": [
       "16.9634282096129"
      ]
     },
     "metadata": {},
     "output_type": "display_data"
    }
   ],
   "source": [
    "theta, l = dynamicsymbols('theta l')\n",
    "t = symbols('t')\n",
    "\n",
    "N = ReferenceFrame('N')\n",
    "A = N.orientnew('A', 'Axis', [theta, N.z])\n",
    "\n",
    "\n",
    "def solve_law_of_cosines(a=None, b=None, c=None, angle_C=None):\n",
    "    if c is None and None not in (a, b, angle_C):\n",
    "        c_sym = symbols('c')\n",
    "        expr = Eq(c_sym**2, a**2 + b**2 - 2*a*b*cos(angle_C))\n",
    "        sol = solve(expr, c_sym)\n",
    "        return [s.evalf() for s in sol if s.is_real and s > 0]\n",
    "    elif angle_C is None and None not in (a, b, c):\n",
    "        expr = Eq(c**2, a**2 + b**2 - 2*a*b*cos(angle_C))\n",
    "        sol = solve(expr, angle_C)\n",
    "        return [s.evalf() for s in sol if s.is_real and 0 <= s <= np.pi]\n",
    "    elif a is None and None not in (b, c, angle_C):\n",
    "        a_sym = symbols('a')\n",
    "        expr = Eq(a_sym**2, b**2 + c**2 - 2*b*c*cos(angle_C))\n",
    "        sol = solve(expr, a_sym)\n",
    "        return [s.evalf() for s in sol if s.is_real and s > 0]\n",
    "    elif b is None and None not in (a, c, angle_C):\n",
    "        b_sym = symbols('b')\n",
    "        expr = Eq(b_sym**2, a**2 + c**2 - 2*a*c*cos(angle_C))\n",
    "        sol = solve(expr, b_sym)\n",
    "        return [s.evalf() for s in sol if s.is_real and s > 0]\n",
    "    else:\n",
    "        raise ValueError(\"Provide exactly three arguments, one must be None.\")\n",
    "\n",
    "b_sol = solve_law_of_cosines(a=0.5, b=None, c=0.3, angle_C=105 * (pi/180))[0]\n",
    "\n",
    "r = l*A.x\n",
    "\n",
    "subs = {\n",
    "    Derivative(l, t, 2): 0,\n",
    "    Derivative(l, t): 0\n",
    "}\n",
    "\n",
    "\n",
    "\n",
    "v = r.diff(t, N)\n",
    "a = v.diff(t, N)\n",
    "\n",
    "print(\"Expresiones generales\")\n",
    "display(v.express(A).simplify(), a.express(A).simplify())\n",
    "\n",
    "\n",
    "v = v.subs(subs).simplify()\n",
    "a = a.subs(subs).simplify()\n",
    "\n",
    "print(\"Derivadas que sabemos son iguales a 0\")\n",
    "display(v.express(A).simplify(), a.express(A).simplify())\n",
    "\n",
    "substitutions = {\n",
    "    l : b_sol,\n",
    "    Derivative(theta, t, 1): 5,\n",
    "    Derivative(theta, t, 2): 8,\n",
    "}\n",
    "\n",
    "v = v.subs(substitutions).simplify()\n",
    "a = a.subs(substitutions).simplify()\n",
    "\n",
    "print(\"Resultado velocidad y aceleración por componentes\")\n",
    "display(v.express(A).simplify(), a.express(A).simplify())\n",
    "\n",
    "v_mag = v.magnitude().simplify()\n",
    "a_mag = a.magnitude().simplify()\n",
    "\n",
    "print(\"Resultado magnitudes\")\n",
    "display(v_mag, a_mag)\n"
   ]
  },
  {
   "cell_type": "markdown",
   "id": "505c5b4d",
   "metadata": {},
   "source": [
    "# Ejercicio 5/18"
   ]
  },
  {
   "cell_type": "code",
   "execution_count": 110,
   "id": "a97b4c51",
   "metadata": {},
   "outputs": [
    {
     "name": "stdout",
     "output_type": "stream",
     "text": [
      "Solution: [(-vel**2/a_A,), (vel**2/a_A,)]\n"
     ]
    }
   ],
   "source": [
    "from sympy import symbols, Eq, solve\n",
    "from sympy.physics.mechanics import dynamicsymbols, ReferenceFrame\n",
    "\n",
    "# --- Define symbols ---\n",
    "t = symbols('t')\n",
    "theta, l = dynamicsymbols('theta l')\n",
    "\n",
    "# Constants and unknowns\n",
    "a_A, a_B = symbols('a_A a_B')\n",
    "l_a, l_b = symbols('l_a l_b')\n",
    "vel = symbols('vel')\n",
    "\n",
    "# --- Reference frame ---\n",
    "N = ReferenceFrame('N')\n",
    "A = N.orientnew('A', 'Axis', [theta, N.z])\n",
    "\n",
    "# --- Position vector of point ---\n",
    "r = l * A.x\n",
    "\n",
    "# --- Substitution assumptions ---\n",
    "subs = {\n",
    "    l.diff(t, 2): 0,    # no radial accel\n",
    "    l.diff(t): 0,       # no radial vel\n",
    "    theta.diff(t, 2): 0 # no angular accel\n",
    "}\n",
    "\n",
    "# --- Velocity and acceleration ---\n",
    "v = r.diff(t, N).subs(subs).express(A).simplify()\n",
    "a = v.diff(t, N).subs(subs).express(A).simplify()\n",
    "\n",
    "# --- Magnitudes ---\n",
    "v_mag = v.magnitude().simplify()\n",
    "a_mag = a.magnitude().simplify()\n",
    "\n",
    "# --- Acceleration in terms of vel ---\n",
    "a_expr = a_mag.subs(theta.diff(t), vel / l).simplify()\n",
    "\n",
    "# --- Equations ---\n",
    "Eq1 = Eq(a_A, a_B * 4/3)\n",
    "Eq2 = Eq(a_A, a_expr.subs(l, l_a))\n",
    "Eq3 = Eq(a_B, a_expr.subs(l, l_b))\n",
    "\n",
    "# --- Solve ---\n",
    "l_b_val = 4\n",
    "eqs = [Eq1, Eq2, Eq3.subs(l_b, l_b_val)]\n",
    "sol = solve(eqs, l_a)\n",
    "\n",
    "print(\"Solution:\", sol)\n"
   ]
  },
  {
   "cell_type": "code",
   "execution_count": 111,
   "id": "215728fd",
   "metadata": {},
   "outputs": [
    {
     "name": "stdout",
     "output_type": "stream",
     "text": [
      "[3]\n"
     ]
    }
   ],
   "source": [
    "# Unknowns\n",
    "l_a, l_b, vel = symbols('l_a l_b vel')\n",
    "\n",
    "# Accelerations in terms of vel and length\n",
    "a_A = vel**2 / l_a\n",
    "a_B = vel**2 / l_b\n",
    "\n",
    "# Equations\n",
    "Eq1 = Eq(a_A, a_B * 4/3)\n",
    "\n",
    "# Solve for l_a given l_b = 4\n",
    "sol = solve(Eq1.subs(l_b, 4), l_a)\n",
    "print(sol)\n"
   ]
  },
  {
   "cell_type": "markdown",
   "id": "591be4d5",
   "metadata": {},
   "source": [
    "# Ejercicio 5/45"
   ]
  },
  {
   "cell_type": "code",
   "execution_count": 112,
   "id": "6a0a47aa",
   "metadata": {},
   "outputs": [
    {
     "name": "stdout",
     "output_type": "stream",
     "text": [
      "u_A(theta) = 4*b*thetadot*cos(theta)\n",
      "v_B(theta) = uA*tan(theta)/2\n",
      "v_C(theta) = -uA*tan(theta)/2\n"
     ]
    }
   ],
   "source": [
    "import sympy as sp\n",
    "\n",
    "# Símbolos\n",
    "b, theta, uA = sp.symbols('b theta uA', positive=True, real=True)\n",
    "thetadot = sp.symbols('thetadot', real=True)\n",
    "\n",
    "# Posiciones con SIGNO\n",
    "yA = 4*b*sp.sin(theta)\n",
    "xB = -2*b*sp.cos(theta)\n",
    "xC =  2*b*sp.cos(theta)\n",
    "\n",
    "# Velocidades\n",
    "uA_expr = sp.diff(yA, theta)*thetadot          # 4 b cos(theta) * thetadot\n",
    "vB_expr = sp.diff(xB, theta)*thetadot          # 2 b sin(theta) * thetadot\n",
    "vC_expr = sp.diff(xC, theta)*thetadot          # -2 b sin(theta) * thetadot\n",
    "\n",
    "# Eliminar thetadot usando uA\n",
    "thetadot_sol = sp.solve(sp.Eq(uA_expr, uA), thetadot)[0]\n",
    "vB = sp.simplify(vB_expr.subs(thetadot, thetadot_sol))\n",
    "vC = sp.simplify(vC_expr.subs(thetadot, thetadot_sol))\n",
    "\n",
    "print(\"u_A(theta) =\", sp.simplify(uA_expr))\n",
    "print(\"v_B(theta) =\", vB)  # uA/2 * tan(theta)\n",
    "print(\"v_C(theta) =\", vC)  # -uA/2 * tan(theta)\n"
   ]
  }
 ],
 "metadata": {
  "kernelspec": {
   "display_name": "Python 3",
   "language": "python",
   "name": "python3"
  },
  "language_info": {
   "codemirror_mode": {
    "name": "ipython",
    "version": 3
   },
   "file_extension": ".py",
   "mimetype": "text/x-python",
   "name": "python",
   "nbconvert_exporter": "python",
   "pygments_lexer": "ipython3",
   "version": "3.13.6"
  }
 },
 "nbformat": 4,
 "nbformat_minor": 5
}
