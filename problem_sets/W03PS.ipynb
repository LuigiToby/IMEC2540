{
 "cells": [
  {
   "cell_type": "markdown",
   "id": "4a6609d8",
   "metadata": {},
   "source": [
    "## [Luis Alejandro Rodríguez Arenas](https://luigitoby.github.io/)  \n",
    "## Cod. 202321287  \n",
    "# Problem Sets Semana 1\n"
   ]
  },
  {
   "cell_type": "code",
   "execution_count": 2,
   "id": "e5550a5f",
   "metadata": {},
   "outputs": [],
   "source": [
    "from sympy import symbols, Matrix, pi, cos, sin, simplify, eye, solve, latex, atan2, pprint, init_printing, Derivative, sqrt, Eq\n",
    "from sympy.physics.vector import dynamicsymbols, init_vprinting, ReferenceFrame\n",
    "import numpy as np\n",
    "init_vprinting(use_latex='mathjax')"
   ]
  },
  {
   "cell_type": "markdown",
   "id": "5a735a5e",
   "metadata": {},
   "source": [
    "# Ejercicio 1 - Varilla rara"
   ]
  },
  {
   "cell_type": "code",
   "execution_count": null,
   "id": "d1e265ea",
   "metadata": {},
   "outputs": [
    {
     "ename": "TypeError",
     "evalue": "A Vector must be supplied",
     "output_type": "error",
     "traceback": [
      "\u001b[31m---------------------------------------------------------------------------\u001b[39m",
      "\u001b[31mTypeError\u001b[39m                                 Traceback (most recent call last)",
      "\u001b[36mCell\u001b[39m\u001b[36m \u001b[39m\u001b[32mIn[4]\u001b[39m\u001b[32m, line 7\u001b[39m\n\u001b[32m      3\u001b[39m N=ReferenceFrame(\u001b[33m\"\u001b[39m\u001b[33mN\u001b[39m\u001b[33m\"\u001b[39m)\n\u001b[32m      5\u001b[39m OC = \u001b[32m0.5\u001b[39m*sin(theta)*N.x + \u001b[32m0.5\u001b[39m*cos(theta)*N.y\n\u001b[32m----> \u001b[39m\u001b[32m7\u001b[39m OA = \u001b[43mOC\u001b[49m\u001b[43m \u001b[49m\u001b[43m+\u001b[49m\u001b[43m \u001b[49m\u001b[43mAC\u001b[49m\n",
      "\u001b[36mFile \u001b[39m\u001b[32mc:\\Users\\aleja\\AppData\\Local\\Programs\\Python\\Python313\\Lib\\site-packages\\sympy\\physics\\vector\\vector.py:72\u001b[39m, in \u001b[36mVector.__add__\u001b[39m\u001b[34m(self, other)\u001b[39m\n\u001b[32m     70\u001b[39m \u001b[38;5;28;01mif\u001b[39;00m other == \u001b[32m0\u001b[39m:\n\u001b[32m     71\u001b[39m     \u001b[38;5;28;01mreturn\u001b[39;00m \u001b[38;5;28mself\u001b[39m\n\u001b[32m---> \u001b[39m\u001b[32m72\u001b[39m other = \u001b[43m_check_vector\u001b[49m\u001b[43m(\u001b[49m\u001b[43mother\u001b[49m\u001b[43m)\u001b[49m\n\u001b[32m     73\u001b[39m \u001b[38;5;28;01mreturn\u001b[39;00m Vector(\u001b[38;5;28mself\u001b[39m.args + other.args)\n",
      "\u001b[36mFile \u001b[39m\u001b[32mc:\\Users\\aleja\\AppData\\Local\\Programs\\Python\\Python313\\Lib\\site-packages\\sympy\\physics\\vector\\vector.py:805\u001b[39m, in \u001b[36m_check_vector\u001b[39m\u001b[34m(other)\u001b[39m\n\u001b[32m    803\u001b[39m \u001b[38;5;28;01mdef\u001b[39;00m\u001b[38;5;250m \u001b[39m\u001b[34m_check_vector\u001b[39m(other):\n\u001b[32m    804\u001b[39m     \u001b[38;5;28;01mif\u001b[39;00m \u001b[38;5;129;01mnot\u001b[39;00m \u001b[38;5;28misinstance\u001b[39m(other, Vector):\n\u001b[32m--> \u001b[39m\u001b[32m805\u001b[39m         \u001b[38;5;28;01mraise\u001b[39;00m \u001b[38;5;167;01mTypeError\u001b[39;00m(\u001b[33m'\u001b[39m\u001b[33mA Vector must be supplied\u001b[39m\u001b[33m'\u001b[39m)\n\u001b[32m    806\u001b[39m     \u001b[38;5;28;01mreturn\u001b[39;00m other\n",
      "\u001b[31mTypeError\u001b[39m: A Vector must be supplied"
     ]
    }
   ],
   "source": [
    "\n",
    "t, r, v, AC, OC, OA = symbols(\"t r v AC OC OA\")\n",
    "theta=dynamicsymbols(\"theta\")\n",
    "N=ReferenceFrame(\"N\")\n",
    "\n",
    "OC = 0.5*sin(theta)*N.x + 0.5*cos(theta)*N.y\n",
    "AC = 0.5*cos(theta)*N.x - 0.5*sin(theta)*N.y\n",
    "\n",
    "OA = OC + AC\n"
   ]
  },
  {
   "cell_type": "markdown",
   "id": "505c5b4d",
   "metadata": {},
   "source": [
    "# Ejercicio 2 -  Ejercicio de los dos carros"
   ]
  },
  {
   "cell_type": "code",
   "execution_count": null,
   "id": "a97b4c51",
   "metadata": {},
   "outputs": [
    {
     "data": {
      "text/latex": [
       "$\\displaystyle -  r \\dot{\\theta}^{2}\\mathbf{\\hat{a}_x} + r \\ddot{\\theta}\\mathbf{\\hat{a}_y}$"
      ],
      "text/plain": [
       "    2              \n",
       "-r⋅θ̇  a_x + r⋅θ̈ a_y"
      ]
     },
     "execution_count": 34,
     "metadata": {},
     "output_type": "execute_result"
    }
   ],
   "source": [
    "\n",
    "t, r, v = symbols(\"t r v\")\n",
    "theta=dynamicsymbols(\"theta\")\n",
    "\n",
    "N=ReferenceFrame(\"N\")\n",
    "A=N.orientnew(\"A\", \"Axis\", (theta, N.z))\n",
    "\n",
    "# Aquí vemos la genialidad que es este método\n",
    "vector=N.x+N.y\n",
    "vector.express(A)\n",
    "\n",
    "r_vec=r*A.x # Aquí establecemos el primer vector\n",
    "\n",
    "r_vec.express(N) # Así lo modemos transformar al otro marco de referencia\n",
    "\n",
    "v_vec = r_vec.diff(t, N)\n",
    "a_vec = v_vec.diff(t, N)\n",
    "\n",
    "v_vec = v_vec.express(A).simplify() # Aquí vemos que la velocidad es cero, ya que el vector no cambia en el tiempo\n",
    "a_vec = a_vec.express(A).simplify()\n",
    "\n",
    "a_vec\n"
   ]
  },
  {
   "cell_type": "code",
   "execution_count": null,
   "id": "1da48eb7",
   "metadata": {},
   "outputs": [
    {
     "data": {
      "text/latex": [
       "$\\displaystyle -  \\frac{v^{2}}{r}\\mathbf{\\hat{a}_x}$"
      ],
      "text/plain": [
       "  2     \n",
       "-v      \n",
       "──── a_x\n",
       " r      "
      ]
     },
     "metadata": {},
     "output_type": "display_data"
    },
    {
     "data": {
      "text/latex": [
       "$\\displaystyle \\sqrt{\\frac{v^{4}}{r^{2}}}$"
      ],
      "text/plain": [
       "      ____\n",
       "     ╱  4 \n",
       "    ╱  v  \n",
       "   ╱   ── \n",
       "  ╱     2 \n",
       "╲╱     r  "
      ]
     },
     "metadata": {},
     "output_type": "display_data"
    },
    {
     "data": {
      "text/latex": [
       "$\\displaystyle \\frac{\\sqrt{v^{4}}}{21}$"
      ],
      "text/plain": [
       "   ____\n",
       "  ╱  4 \n",
       "╲╱  v  \n",
       "───────\n",
       "  21   "
      ]
     },
     "metadata": {},
     "output_type": "display_data"
    },
    {
     "data": {
      "text/latex": [
       "$\\displaystyle \\frac{\\sqrt{v^{4}}}{21} = 8.624$"
      ],
      "text/plain": [
       "   ____        \n",
       "  ╱  4         \n",
       "╲╱  v          \n",
       "─────── = 8.624\n",
       "  21           "
      ]
     },
     "metadata": {},
     "output_type": "display_data"
    },
    {
     "data": {
      "text/latex": [
       "$\\displaystyle \\left[ -13.4574886215817, \\  13.4574886215817, \\  - 13.4574886215817 i, \\  13.4574886215817 i\\right]$"
      ],
      "text/plain": [
       "[-13.4574886215817, 13.4574886215817, -13.4574886215817⋅ⅈ, 13.4574886215817⋅ⅈ]"
      ]
     },
     "execution_count": 35,
     "metadata": {},
     "output_type": "execute_result"
    }
   ],
   "source": [
    "a_vec = a_vec.subs({theta.diff(t).diff(t): 0})\n",
    "a_vec = a_vec.subs({theta.diff(t): v/r})\n",
    "\n",
    "display(a_vec)\n",
    "\n",
    "expr_magnitud = a_vec.magnitude().simplify()\n",
    "\n",
    "display(expr_magnitud)\n",
    "\n",
    "expr_magnitud = expr_magnitud.subs({r: 21})\n",
    "\n",
    "display(expr_magnitud)\n",
    "\n",
    "eq = Eq(expr_magnitud, 0.88*(9.8))\n",
    "\n",
    "display(eq)\n",
    "\n",
    "sol = solve(eq, v)\n",
    "\n",
    "sol"
   ]
  },
  {
   "cell_type": "code",
   "execution_count": null,
   "id": "63a72ceb",
   "metadata": {},
   "outputs": [
    {
     "data": {
      "text/latex": [
       "$\\displaystyle -  \\frac{v^{2}}{r}\\mathbf{\\hat{a}_x}$"
      ],
      "text/plain": [
       "  2     \n",
       "-v      \n",
       "──── a_x\n",
       " r      "
      ]
     },
     "metadata": {},
     "output_type": "display_data"
    },
    {
     "data": {
      "text/latex": [
       "$\\displaystyle -  \\frac{v^{2} \\cos{\\left(\\theta \\right)}}{r}\\mathbf{\\hat{n}_x} -  \\frac{v^{2} \\sin{\\left(\\theta \\right)}}{r}\\mathbf{\\hat{n}_y}$"
      ],
      "text/plain": [
       "  2                 2            \n",
       "-v ⋅cos(θ)        -v ⋅sin(θ)     \n",
       "─────────── n_x + ─────────── n_y\n",
       "     r                 r         "
      ]
     },
     "metadata": {},
     "output_type": "display_data"
    },
    {
     "data": {
      "text/latex": [
       "$\\displaystyle \\sqrt{\\frac{v^{4} \\sin^{2}{\\left(\\theta \\right)}}{r^{2}} + \\frac{v^{4} \\cos^{2}{\\left(\\theta \\right)}}{r^{2}}}$"
      ],
      "text/plain": [
       "      _________________________\n",
       "     ╱  4    2       4    2    \n",
       "    ╱  v ⋅sin (θ)   v ⋅cos (θ) \n",
       "   ╱   ────────── + ────────── \n",
       "  ╱         2            2     \n",
       "╲╱         r            r      "
      ]
     },
     "metadata": {},
     "output_type": "display_data"
    },
    {
     "data": {
      "text/latex": [
       "$\\displaystyle \\sqrt{\\frac{v^{4}}{r^{2}}}$"
      ],
      "text/plain": [
       "      ____\n",
       "     ╱  4 \n",
       "    ╱  v  \n",
       "   ╱   ── \n",
       "  ╱     2 \n",
       "╲╱     r  "
      ]
     },
     "metadata": {},
     "output_type": "display_data"
    },
    {
     "data": {
      "text/latex": [
       "$\\displaystyle \\sqrt{\\frac{v^{4}}{r^{2}}}$"
      ],
      "text/plain": [
       "      ____\n",
       "     ╱  4 \n",
       "    ╱  v  \n",
       "   ╱   ── \n",
       "  ╱     2 \n",
       "╲╱     r  "
      ]
     },
     "metadata": {},
     "output_type": "display_data"
    },
    {
     "data": {
      "text/latex": [
       "$\\displaystyle \\frac{\\sqrt{v^{4}}}{16}$"
      ],
      "text/plain": [
       "   ____\n",
       "  ╱  4 \n",
       "╲╱  v  \n",
       "───────\n",
       "  16   "
      ]
     },
     "metadata": {},
     "output_type": "display_data"
    },
    {
     "data": {
      "text/latex": [
       "$\\displaystyle \\frac{\\sqrt{v^{4}}}{16} = 8.624$"
      ],
      "text/plain": [
       "   ____        \n",
       "  ╱  4         \n",
       "╲╱  v          \n",
       "─────── = 8.624\n",
       "  16           "
      ]
     },
     "metadata": {},
     "output_type": "display_data"
    },
    {
     "data": {
      "text/latex": [
       "$\\displaystyle \\left[ -11.7466590995057, \\  11.7466590995057, \\  - 11.7466590995057 i, \\  11.7466590995057 i\\right]$"
      ],
      "text/plain": [
       "[-11.7466590995057, 11.7466590995057, -11.7466590995057⋅ⅈ, 11.7466590995057⋅ⅈ]"
      ]
     },
     "execution_count": 36,
     "metadata": {},
     "output_type": "execute_result"
    }
   ],
   "source": [
    "a_vec = a_vec.subs({theta.diff(t).diff(t): 0})\n",
    "a_vec = a_vec.subs({theta.diff(t): v/r})\n",
    "\n",
    "display(a_vec)\n",
    "\n",
    "display(a_vec.express(N))\n",
    "\n",
    "display(a_vec.express(N).magnitude())\n",
    "\n",
    "display(a_vec.express(N).magnitude().simplify())\n",
    "\n",
    "expr_magnitud = a_vec.express(N).magnitude().simplify()\n",
    "\n",
    "display(expr_magnitud)\n",
    "\n",
    "expr_magnitud = expr_magnitud.subs({r: 16})\n",
    "\n",
    "display(expr_magnitud)\n",
    "\n",
    "eq = Eq(expr_magnitud, 0.88*(9.8))\n",
    "\n",
    "display(eq)\n",
    "\n",
    "sol = solve(eq, v)\n",
    "\n",
    "sol"
   ]
  },
  {
   "cell_type": "markdown",
   "id": "591be4d5",
   "metadata": {},
   "source": [
    "# Ejercicio 3 - Maquinita"
   ]
  },
  {
   "cell_type": "code",
   "execution_count": null,
   "id": "6a0a47aa",
   "metadata": {},
   "outputs": [
    {
     "data": {
      "text/latex": [
       "$\\displaystyle -12800$"
      ],
      "text/plain": [
       "-12800"
      ]
     },
     "metadata": {},
     "output_type": "display_data"
    },
    {
     "data": {
      "text/latex": [
       "$\\displaystyle -8800$"
      ],
      "text/plain": [
       "-8800"
      ]
     },
     "metadata": {},
     "output_type": "display_data"
    }
   ],
   "source": [
    "# Creamos simbolos\n",
    "t = symbols('t')\n",
    "# Creamos funciones, usamos dynamics para tener notación de newton\n",
    "R = dynamicsymbols('R')\n",
    "theta = dynamicsymbols('theta')\n",
    "\n",
    "N=ReferenceFrame(\"N\")\n",
    "A=N.orientnew(\"A\", \"Axis\", (theta, N.z))\n",
    "# Partimos de la función polar para describir la pocisión de la punta del piston\n",
    "p = R * A.x \n",
    "\n",
    "v = p.diff(t, N)\n",
    "a = v.diff(t, N)\n",
    "\n",
    "v = v.express(A).simplify()  # Velocidad en el marco A\n",
    "a = a.express(A).simplify()\n",
    "\n",
    "a_x = a.dot(A.x)  # Componente x de la aceleración\n",
    "a_y = a.dot(A.y)  # Componente y de la aceleración\n",
    "\n",
    "subs = {\n",
    "    theta.diff(t, 1): 8,  # Velocidad angular es cero\n",
    "    theta.diff(t, 2): -20,  # Velocidad angular es cero\n",
    "    R: 200,  # Velocidad angular es cero\n",
    "    R.diff(t, 1): -300,  # Velocidad angular es cero\n",
    "    R.diff(t, 2)    : 0  # Velocidad angular es cero\n",
    "}\n",
    "\n",
    "a_x = a_x.subs(subs).simplify()\n",
    "a_y = a_y.subs(subs).simplify()\n",
    "\n",
    "display(a_x, a_y)\n"
   ]
  }
 ],
 "metadata": {
  "kernelspec": {
   "display_name": "Python 3",
   "language": "python",
   "name": "python3"
  },
  "language_info": {
   "codemirror_mode": {
    "name": "ipython",
    "version": 3
   },
   "file_extension": ".py",
   "mimetype": "text/x-python",
   "name": "python",
   "nbconvert_exporter": "python",
   "pygments_lexer": "ipython3",
   "version": "3.13.6"
  }
 },
 "nbformat": 4,
 "nbformat_minor": 5
}
