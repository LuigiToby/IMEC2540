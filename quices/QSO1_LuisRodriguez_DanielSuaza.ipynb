{
 "cells": [
  {
   "cell_type": "markdown",
   "id": "4a6609d8",
   "metadata": {},
   "source": [
    "## [Luis Alejandro Rodríguez Arenas](https://luigitoby.github.io/) y [Daniel Suaza](https://Azaus123.github.io/)\n",
    "## Cod. 202321287  \n",
    "# Quiz 1\n"
   ]
  },
  {
   "cell_type": "code",
   "execution_count": 8,
   "id": "e5550a5f",
   "metadata": {},
   "outputs": [],
   "source": [
    "import numpy as np\n",
    "import matplotlib.pyplot as plt\n",
    "from matplotlib.animation import FuncAnimation\n",
    "from sympy import symbols, Matrix, pi, cos, sin, simplify, eye, solve, acos, asin,  latex, atan2, pprint, init_printing, Derivative, sqrt, rad, sin, cos\n",
    "from sympy.physics.mechanics import ReferenceFrame, dynamicsymbols, init_vprinting, Point\n",
    "\n",
    "# Configuración de impresión en formato LaTeX (MathJax)\n",
    "init_vprinting(use_latex='mathjax')"
   ]
  },
  {
   "cell_type": "code",
   "execution_count": 2,
   "id": "a8fcfbd8",
   "metadata": {},
   "outputs": [],
   "source": [
    "# Para la animación\n",
    "# pip install ipywidgets"
   ]
  },
  {
   "cell_type": "markdown",
   "id": "5a735a5e",
   "metadata": {},
   "source": [
    "# Ejercicio 1 - Dinámica directa para Escara 2D"
   ]
  },
  {
   "cell_type": "code",
   "execution_count": 2,
   "id": "d1e265ea",
   "metadata": {},
   "outputs": [
    {
     "name": "stdout",
     "output_type": "stream",
     "text": [
      "\n",
      "Vector de posición del efector (en marco N):\n"
     ]
    },
    {
     "data": {
      "text/latex": [
       "$\\displaystyle (L_{1} \\cos{\\left(\\theta_{1} \\right)} + L_{2} \\cos{\\left(\\theta_{1} + \\theta_{2} \\right)})\\mathbf{\\hat{n}_x} + (L_{1} \\sin{\\left(\\theta_{1} \\right)} + L_{2} \\sin{\\left(\\theta_{1} + \\theta_{2} \\right)})\\mathbf{\\hat{n}_y}$"
      ],
      "text/plain": [
       "(L₁⋅cos(θ₁) + L₂⋅cos(θ₁ + θ₂)) n_x + (L₁⋅sin(θ₁) + L₂⋅sin(θ₁ + θ₂)) n_y"
      ]
     },
     "metadata": {},
     "output_type": "display_data"
    },
    {
     "name": "stdout",
     "output_type": "stream",
     "text": [
      "\n",
      "Posición numérica del efector:\n",
      "x = 0.0000\n",
      "y = 3.0000\n"
     ]
    }
   ],
   "source": [
    "# Variables simbólicas\n",
    "theta1, theta2 = dynamicsymbols('theta1 theta2') # q1 y q2\n",
    "L1, L2 = symbols('L1 L2') # a1 y a2\n",
    "\n",
    "# Marcos de referencia, pero se usan dos por las dos uniones de los links\n",
    "# Mi marco de referencia x-y\n",
    "N = ReferenceFrame('N')\n",
    "# Creo un nuevo marco de referencia con respecto a N, A_x-A_y. Depende de theta1\n",
    "A = N.orientnew('A', 'Axis', [theta1, N.z])\n",
    "# Creo un nuevo marco de referencia con respecto a A, B_y-B_x. Depende de theta2\n",
    "B = A.orientnew('B', 'Axis', [theta2, A.z]) # Note que B lo definimos con respecto a A así no hay que pensar B en terminos de B\n",
    "\n",
    "# Origen\n",
    "O = Point('O')\n",
    "\n",
    "P1 = O.locatenew('P1', L1 * A.x) # Existe un P1 en L1  por A_x\n",
    "P2 = P1.locatenew('P2', L2 * B.x) # Existe un P2 en L2 con respecto a B_x\n",
    "\n",
    "# Vector de posición del efector\n",
    "vector_pos_efector = P2.pos_from(O).express(N).simplify()\n",
    "print(\"\\nVector de posición del efector (en marco N):\")\n",
    "display(vector_pos_efector)\n",
    "# Hasta aca vamos bien\n",
    "\n",
    "\n",
    "# Evaluación numérica de ejemplo\n",
    "valores = {\n",
    "    theta1: rad(90),\n",
    "    theta2: rad(0),\n",
    "    L1: 2,\n",
    "    L2: 1\n",
    "}\n",
    "\n",
    "vector_numerico = vector_pos_efector.subs(valores).evalf()\n",
    "x = vector_numerico.dot(N.x)\n",
    "y = vector_numerico.dot(N.y)\n",
    "print(f\"\\nPosición numérica del efector:\\nx = {x:.4f}\\ny = {y:.4f}\")"
   ]
  },
  {
   "cell_type": "code",
   "execution_count": 3,
   "id": "1246709f",
   "metadata": {},
   "outputs": [
    {
     "name": "stdout",
     "output_type": "stream",
     "text": [
      "\n",
      "Vector de posición del efector (en marco N):\n"
     ]
    },
    {
     "data": {
      "text/latex": [
       "$\\displaystyle (L_{1} \\cos{\\left(\\theta_{1} \\right)} + L_{2} \\cos{\\left(\\theta_{1} + \\theta_{2} \\right)})\\mathbf{\\hat{n}_x} + (L_{1} \\sin{\\left(\\theta_{1} \\right)} + L_{2} \\sin{\\left(\\theta_{1} + \\theta_{2} \\right)})\\mathbf{\\hat{n}_y}$"
      ],
      "text/plain": [
       "(L₁⋅cos(θ₁) + L₂⋅cos(θ₁ + θ₂)) n_x + (L₁⋅sin(θ₁) + L₂⋅sin(θ₁ + θ₂)) n_y"
      ]
     },
     "metadata": {},
     "output_type": "display_data"
    },
    {
     "name": "stdout",
     "output_type": "stream",
     "text": [
      "\n",
      "Posición numérica del efector:\n",
      "x = 1.4142\n",
      "y = 1.4142\n"
     ]
    }
   ],
   "source": [
    "# Variables simbólicas\n",
    "theta1, theta2 = dynamicsymbols('theta1 theta2') # q1 y q2\n",
    "L1, L2 = symbols('L1 L2') # a1 y a2\n",
    "\n",
    "# Marcos de referencia, pero se usan dos por las dos uniones de los links\n",
    "# Mi marco de referencia x-y\n",
    "N = ReferenceFrame('N')\n",
    "# Creo un nuevo marco de referencia con respecto a N, A_x-A_y. Depende de theta1\n",
    "A = N.orientnew('A', 'Axis', [theta1, N.z])\n",
    "# Creo un nuevo marco de referencia con respecto a A, B_y-B_x. Depende de theta2\n",
    "B = A.orientnew('B', 'Axis', [theta2, A.z]) # Note que B lo definimos con respecto a A así no hay que pensar B en terminos de B\n",
    "P1 = L1 * A.x # Existe un P1 en L1  por A_x\n",
    "P2 = L2 * B.x # Existe un P2 en L2 con respecto a B_x\n",
    "P3 = P1+P2\n",
    "vector_pos_efector = P3.express(N).simplify()\n",
    "print(\"\\nVector de posición del efector (en marco N):\")\n",
    "display(vector_pos_efector)\n",
    "# Hasta aca vamos bien\n",
    "\n",
    "\n",
    "# Evaluación numérica de ejemplo\n",
    "valores = {\n",
    "    theta1: rad(45),\n",
    "    theta2: rad(0),\n",
    "    L1: 1,\n",
    "    L2: 1\n",
    "}\n",
    "\n",
    "vector_numerico = vector_pos_efector.subs(valores).evalf()\n",
    "x = vector_numerico.dot(N.x)\n",
    "y = vector_numerico.dot(N.y)\n",
    "print(f\"\\nPosición numérica del efector:\\nx = {x:.4f}\\ny = {y:.4f}\")"
   ]
  },
  {
   "cell_type": "markdown",
   "id": "0c1e746f",
   "metadata": {},
   "source": [
    "# Implementación como función \n",
    "## Para esto se uso ChatGPT, entonces la implementación on es del todo original (Animación)"
   ]
  },
  {
   "cell_type": "code",
   "execution_count": 5,
   "id": "42ebfb7c",
   "metadata": {},
   "outputs": [
    {
     "data": {
      "image/png": "[encoded data removed]",
      "text/plain": [
       "<Figure size 500x500 with 1 Axes>"
      ]
     },
     "metadata": {},
     "output_type": "display_data"
    }
   ],
   "source": [
    "import numpy as np\n",
    "import matplotlib.pyplot as plt\n",
    "\n",
    "# ==== AQUÍ CAMBIA LOS VALORES ====\n",
    "theta1 = 45   # grados\n",
    "theta2 = 234   # grados\n",
    "L1 = 1        # longitud del primer brazo\n",
    "L2 = 1.5        # longitud del segundo brazo\n",
    "# ================================\n",
    "\n",
    "# Cinemática directa simple\n",
    "theta1_rad = np.deg2rad(theta1)\n",
    "theta2_rad = np.deg2rad(theta2)\n",
    "\n",
    "# Primer punto (articulación 1)\n",
    "x1 = L1 * np.cos(theta1_rad)\n",
    "y1 = L1 * np.sin(theta1_rad)\n",
    "\n",
    "# Segundo punto (efector final)\n",
    "x2 = x1 + L2 * np.cos(theta1_rad + theta2_rad)\n",
    "y2 = y1 + L2 * np.sin(theta1_rad + theta2_rad)\n",
    "\n",
    "# Graficar\n",
    "plt.figure(figsize=(5,5))\n",
    "plt.plot([0, x1, x2], [0, y1, y2], 'o-', lw=4)\n",
    "plt.plot(x2, y2, 'ro', markersize=10)\n",
    "plt.xlim(-L1-L2-0.5, L1+L2+0.5)\n",
    "plt.ylim(-L1-L2-0.5, L1+L2+0.5)\n",
    "plt.gca().set_aspect('equal')\n",
    "plt.title(f\"SCARA 2D\\nTheta1={theta1:.1f}°, Theta2={theta2:.1f}°, L1={L1}, L2={L2}\")\n",
    "plt.grid(True)\n",
    "plt.show()"
   ]
  },
  {
   "cell_type": "code",
   "execution_count": null,
   "id": "8cbc9678",
   "metadata": {},
   "outputs": [
    {
     "data": {
      "application/vnd.jupyter.widget-view+json": {
       "model_id": "d8e9b38c0be848989338494be21a3fa3",
       "version_major": 2,
       "version_minor": 0
      },
      "text/plain": [
       "interactive(children=(FloatSlider(value=45.0, description='Theta1 (°)', max=180.0, min=-180.0, step=1.0), Floa…"
      ]
     },
     "metadata": {},
     "output_type": "display_data"
    },
    {
     "data": {
      "text/plain": [
       "<function __main__.scara_plot(theta1, theta2, L1, L2)>"
      ]
     },
     "execution_count": 4,
     "metadata": {},
     "output_type": "execute_result"
    }
   ],
   "source": [
    "import numpy as np\n",
    "import matplotlib.pyplot as plt\n",
    "import ipywidgets as widgets\n",
    "from ipywidgets import interact\n",
    "\n",
    "def scara_plot(theta1, theta2, L1, L2):\n",
    "    # Convertir a radianes\n",
    "    theta1_rad = np.deg2rad(theta1)\n",
    "    theta2_rad = np.deg2rad(theta2)\n",
    "\n",
    "    # Cinemática directa\n",
    "    x1 = L1 * np.cos(theta1_rad)\n",
    "    y1 = L1 * np.sin(theta1_rad)\n",
    "\n",
    "    x2 = x1 + L2 * np.cos(theta1_rad + theta2_rad)\n",
    "    y2 = y1 + L2 * np.sin(theta1_rad + theta2_rad)\n",
    "\n",
    "    # Graficar\n",
    "    plt.figure(figsize=(5,5))\n",
    "    plt.plot([0, x1, x2], [0, y1, y2], 'o-', lw=4)\n",
    "    plt.plot(x2, y2, 'ro', markersize=10)\n",
    "    plt.xlim(-L1-L2-0.5, L1+L2+0.5)\n",
    "    plt.ylim(-L1-L2-0.5, L1+L2+0.5)\n",
    "    plt.gca().set_aspect('equal')\n",
    "    plt.title(f\"SCARA 2D\\nTheta1={theta1:.1f}°, Theta2={theta2:.1f}°, L1={L1}, L2={L2}\")\n",
    "    plt.grid(True)\n",
    "    plt.show()\n",
    "\n",
    "# Crear sliders interactivos\n",
    "interact(\n",
    "    scara_plot,\n",
    "    theta1=widgets.FloatSlider(value=45, min=-180, max=180, step=1, description=\"Theta1 (°)\"),\n",
    "    theta2=widgets.FloatSlider(value=234, min=-180, max=180, step=1, description=\"Theta2 (°)\"),\n",
    "    L1=widgets.FloatSlider(value=1.0, min=0.1, max=3.0, step=0.1, description=\"L1 (m)\"),\n",
    "    L2=widgets.FloatSlider(value=1.5, min=0.1, max=3.0, step=0.1, description=\"L2 (m)\")\n",
    ")\n"
   ]
  },
  {
   "cell_type": "markdown",
   "id": "226a78bd",
   "metadata": {},
   "source": [
    "# Encontremos el espacio de trabajo del robot"
   ]
  },
  {
   "cell_type": "code",
   "execution_count": 5,
   "id": "9adea739",
   "metadata": {},
   "outputs": [
    {
     "data": {
      "image/png": "[encoded data removed]",
      "text/plain": [
       "<Figure size 600x600 with 1 Axes>"
      ]
     },
     "metadata": {},
     "output_type": "display_data"
    }
   ],
   "source": [
    "import numpy as np\n",
    "import matplotlib.pyplot as plt\n",
    "from sympy import symbols\n",
    "from sympy.physics.mechanics import dynamicsymbols, ReferenceFrame, Point\n",
    "from math import radians as rad\n",
    "\n",
    "# Variables\n",
    "theta1, theta2 = dynamicsymbols('theta1 theta2')\n",
    "L1, L2 = symbols('L1 L2')\n",
    "\n",
    "# SCARA forward kinematics\n",
    "def scara2d(tet1_deg, tet2_deg, l1, l2):\n",
    "    N = ReferenceFrame('N')\n",
    "    A = N.orientnew('A', 'Axis', [theta1, N.z])\n",
    "    B = A.orientnew('B', 'Axis', [theta2, A.z])\n",
    "\n",
    "    O = Point('O')\n",
    "    P1 = O.locatenew('P1', L1 * A.x)\n",
    "    P2 = P1.locatenew('P2', L2 * B.x)\n",
    "\n",
    "    pos_vec = P2.pos_from(O).express(N).simplify()\n",
    "    \n",
    "    valores = {\n",
    "        theta1: rad(tet1_deg),\n",
    "        theta2: rad(tet2_deg),\n",
    "        L1: l1,\n",
    "        L2: l2\n",
    "    }\n",
    "\n",
    "    pos_num = pos_vec.subs(valores).evalf()\n",
    "    return float(pos_num.dot(N.x)), float(pos_num.dot(N.y))\n",
    "\n",
    "# Generate workspace points\n",
    "xs, ys = [], []\n",
    "for t1 in range(-90, 91, 10):\n",
    "    for t2 in range(-90, 91, 10):\n",
    "        x, y = scara2d(t1, t2, 1, 1)\n",
    "        xs.append(x)\n",
    "        ys.append(y)\n",
    "\n",
    "# Plot\n",
    "plt.figure(figsize=(6,6))\n",
    "plt.scatter(xs, ys, s=2, color=\"blue\")\n",
    "plt.xlabel(\"X [m]\")\n",
    "plt.ylabel(\"Y [m]\")\n",
    "plt.title(\"SCARA 2D Workspace\")\n",
    "plt.axis(\"equal\")\n",
    "plt.grid(True)\n",
    "plt.show()\n"
   ]
  },
  {
   "cell_type": "code",
   "execution_count": 25,
   "id": "d05c1b47",
   "metadata": {},
   "outputs": [
    {
     "data": {
      "image/png": "[encoded data removed]",
      "text/plain": [
       "<Figure size 600x600 with 1 Axes>"
      ]
     },
     "metadata": {},
     "output_type": "display_data"
    },
    {
     "name": "stdout",
     "output_type": "stream",
     "text": [
      "\u001b[31mSignature:\u001b[39m      \n",
      "np.linspace(\n",
      "    start,\n",
      "    stop,\n",
      "    num=\u001b[32m50\u001b[39m,\n",
      "    endpoint=\u001b[38;5;28;01mTrue\u001b[39;00m,\n",
      "    retstep=\u001b[38;5;28;01mFalse\u001b[39;00m,\n",
      "    dtype=\u001b[38;5;28;01mNone\u001b[39;00m,\n",
      "    axis=\u001b[32m0\u001b[39m,\n",
      "    *,\n",
      "    device=\u001b[38;5;28;01mNone\u001b[39;00m,\n",
      ")\n",
      "\u001b[31mCall signature:\u001b[39m  np.linspace(*args, **kwargs)\n",
      "\u001b[31mType:\u001b[39m            _ArrayFunctionDispatcher\n",
      "\u001b[31mString form:\u001b[39m     <function linspace at 0x0000020DFF30CCC0>\n",
      "\u001b[31mFile:\u001b[39m            c:\\users\\aleja\\appdata\\local\\programs\\python\\python313\\lib\\site-packages\\numpy\\_core\\function_base.py\n",
      "\u001b[31mDocstring:\u001b[39m      \n",
      "Return evenly spaced numbers over a specified interval.\n",
      "\n",
      "Returns `num` evenly spaced samples, calculated over the\n",
      "interval [`start`, `stop`].\n",
      "\n",
      "The endpoint of the interval can optionally be excluded.\n",
      "\n",
      ".. versionchanged:: 1.20.0\n",
      "    Values are rounded towards ``-inf`` instead of ``0`` when an\n",
      "    integer ``dtype`` is specified. The old behavior can\n",
      "    still be obtained with ``np.linspace(start, stop, num).astype(int)``\n",
      "\n",
      "Parameters\n",
      "----------\n",
      "start : array_like\n",
      "    The starting value of the sequence.\n",
      "stop : array_like\n",
      "    The end value of the sequence, unless `endpoint` is set to False.\n",
      "    In that case, the sequence consists of all but the last of ``num + 1``\n",
      "    evenly spaced samples, so that `stop` is excluded.  Note that the step\n",
      "    size changes when `endpoint` is False.\n",
      "num : int, optional\n",
      "    Number of samples to generate. Default is 50. Must be non-negative.\n",
      "endpoint : bool, optional\n",
      "    If True, `stop` is the last sample. Otherwise, it is not included.\n",
      "    Default is True.\n",
      "retstep : bool, optional\n",
      "    If True, return (`samples`, `step`), where `step` is the spacing\n",
      "    between samples.\n",
      "dtype : dtype, optional\n",
      "    The type of the output array.  If `dtype` is not given, the data type\n",
      "    is inferred from `start` and `stop`. The inferred dtype will never be\n",
      "    an integer; `float` is chosen even if the arguments would produce an\n",
      "    array of integers.\n",
      "axis : int, optional\n",
      "    The axis in the result to store the samples.  Relevant only if start\n",
      "    or stop are array-like.  By default (0), the samples will be along a\n",
      "    new axis inserted at the beginning. Use -1 to get an axis at the end.\n",
      "device : str, optional\n",
      "    The device on which to place the created array. Default: None.\n",
      "    For Array-API interoperability only, so must be ``\"cpu\"`` if passed.\n",
      "\n",
      "    .. versionadded:: 2.0.0\n",
      "\n",
      "Returns\n",
      "-------\n",
      "samples : ndarray\n",
      "    There are `num` equally spaced samples in the closed interval\n",
      "    ``[start, stop]`` or the half-open interval ``[start, stop)``\n",
      "    (depending on whether `endpoint` is True or False).\n",
      "step : float, optional\n",
      "    Only returned if `retstep` is True\n",
      "\n",
      "    Size of spacing between samples.\n",
      "\n",
      "\n",
      "See Also\n",
      "--------\n",
      "arange : Similar to `linspace`, but uses a step size (instead of the\n",
      "         number of samples).\n",
      "geomspace : Similar to `linspace`, but with numbers spaced evenly on a log\n",
      "            scale (a geometric progression).\n",
      "logspace : Similar to `geomspace`, but with the end points specified as\n",
      "           logarithms.\n",
      ":ref:`how-to-partition`\n",
      "\n",
      "Examples\n",
      "--------\n",
      ">>> import numpy as np\n",
      ">>> np.linspace(2.0, 3.0, num=5)\n",
      "array([2.  , 2.25, 2.5 , 2.75, 3.  ])\n",
      ">>> np.linspace(2.0, 3.0, num=5, endpoint=False)\n",
      "array([2. ,  2.2,  2.4,  2.6,  2.8])\n",
      ">>> np.linspace(2.0, 3.0, num=5, retstep=True)\n",
      "(array([2.  ,  2.25,  2.5 ,  2.75,  3.  ]), 0.25)\n",
      "\n",
      "Graphical illustration:\n",
      "\n",
      ">>> import matplotlib.pyplot as plt\n",
      ">>> N = 8\n",
      ">>> y = np.zeros(N)\n",
      ">>> x1 = np.linspace(0, 10, N, endpoint=True)\n",
      ">>> x2 = np.linspace(0, 10, N, endpoint=False)\n",
      ">>> plt.plot(x1, y, 'o')\n",
      "[<matplotlib.lines.Line2D object at 0x...>]\n",
      ">>> plt.plot(x2, y + 0.5, 'o')\n",
      "[<matplotlib.lines.Line2D object at 0x...>]\n",
      ">>> plt.ylim([-0.5, 1])\n",
      "(-0.5, 1)\n",
      ">>> plt.show()\n",
      "\u001b[31mClass docstring:\u001b[39m\n",
      "Class to wrap functions with checks for __array_function__ overrides.\n",
      "\n",
      "All arguments are required, and can only be passed by position.\n",
      "\n",
      "Parameters\n",
      "----------\n",
      "dispatcher : function or None\n",
      "    The dispatcher function that returns a single sequence-like object\n",
      "    of all arguments relevant.  It must have the same signature (except\n",
      "    the default values) as the actual implementation.\n",
      "    If ``None``, this is a ``like=`` dispatcher and the\n",
      "    ``_ArrayFunctionDispatcher`` must be called with ``like`` as the\n",
      "    first (additional and positional) argument.\n",
      "implementation : function\n",
      "    Function that implements the operation on NumPy arrays without\n",
      "    overrides.  Arguments passed calling the ``_ArrayFunctionDispatcher``\n",
      "    will be forwarded to this (and the ``dispatcher``) as if using\n",
      "    ``*args, **kwargs``.\n",
      "\n",
      "Attributes\n",
      "----------\n",
      "_implementation : function\n",
      "    The original implementation passed in."
     ]
    }
   ],
   "source": [
    "import numpy as np\n",
    "import matplotlib.pyplot as plt\n",
    "from sympy import symbols, lambdify, sin, cos\n",
    "from sympy.physics.mechanics import dynamicsymbols, ReferenceFrame, Point\n",
    "from math import radians as rad\n",
    "\n",
    "# Define symbols\n",
    "theta1, theta2 = dynamicsymbols('theta1 theta2')\n",
    "L1, L2 = symbols('L1 L2')\n",
    "t = symbols('t', real=True)\n",
    "\n",
    "# Build symbolic kinematics once\n",
    "N = ReferenceFrame('N')\n",
    "A = N.orientnew('A', 'Axis', [theta1, N.z])\n",
    "B = A.orientnew('B', 'Axis', [theta2, A.z])\n",
    "\n",
    "O = Point('O')\n",
    "P1 = O.locatenew('P1', L1 * A.x)\n",
    "P2 = P1.locatenew('P2', L2 * B.x)\n",
    "\n",
    "pos_vec = P2.pos_from(O).express(N)\n",
    "\n",
    "# Replace symbols with expressions\n",
    "\n",
    "# Create fast numerical functions\n",
    "fx = lambdify((theta1,theta2, L1, L2), pos_vec.dot(N.x), \"numpy\")\n",
    "fy = lambdify((theta1, theta2, L1, L2), pos_vec.dot(N.y), \"numpy\")\n",
    "\n",
    "# Angle sweep (in radians)\n",
    "theta1_vals = np.radians(np.linspace(-90, 90, 1800))\n",
    "theta2_vals = np.radians(np.linspace(-90, 90, 1800))\n",
    "\n",
    "np.linspace?\n",
    "\n",
    "# Compute workspace\n",
    "xs, ys = [], []\n",
    "for t1 in theta1_vals:\n",
    "    for t2 in theta2_vals:\n",
    "        xs.append(fx(t1, t2, 1, 1))\n",
    "        ys.append(fy(t1, t2, 1, 1))\n",
    "\n",
    "# Plot workspace\n",
    "plt.figure(figsize=(6,6))\n",
    "plt.scatter(xs, ys, s=2, color=\"blue\")\n",
    "plt.xlabel(\"X [m]\")\n",
    "plt.ylabel(\"Y [m]\")\n",
    "plt.title(\"SCARA 2D Workspace\")\n",
    "plt.axis(\"equal\")\n",
    "plt.grid(True)\n",
    "plt.show()\n"
   ]
  },
  {
   "cell_type": "markdown",
   "id": "01ac32d3",
   "metadata": {},
   "source": [
    "# Ahora con cálculo numérico"
   ]
  },
  {
   "cell_type": "code",
   "execution_count": null,
   "id": "de2e6257",
   "metadata": {},
   "outputs": [],
   "source": []
  },
  {
   "cell_type": "markdown",
   "id": "7d9d0fe8",
   "metadata": {},
   "source": [
    "# Graficar encuentre la velocidad del robot para una trayectoria conocida"
   ]
  },
  {
   "cell_type": "code",
   "execution_count": null,
   "id": "b1010d4e",
   "metadata": {},
   "outputs": [
    {
     "data": {
      "text/latex": [
       "$\\displaystyle (L_{1} \\cos{\\left(\\theta_{1} \\right)} + L_{2} \\cos{\\left(\\theta_{1} + \\theta_{2} \\right)})\\mathbf{\\hat{n}_x} + (L_{1} \\sin{\\left(\\theta_{1} \\right)} + L_{2} \\sin{\\left(\\theta_{1} + \\theta_{2} \\right)})\\mathbf{\\hat{n}_y}$"
      ],
      "text/plain": [
       "(L₁⋅cos(θ₁) + L₂⋅cos(θ₁ + θ₂)) n_x + (L₁⋅sin(θ₁) + L₂⋅sin(θ₁ + θ₂)) n_y"
      ]
     },
     "metadata": {},
     "output_type": "display_data"
    },
    {
     "data": {
      "text/latex": [
       "$\\displaystyle 2 \\cos{\\left(\\frac{\\pi \\sin{\\left(t \\right)}}{9} \\right)}\\mathbf{\\hat{n}_x} + 2 \\sin{\\left(\\frac{\\pi \\sin{\\left(t \\right)}}{9} \\right)}\\mathbf{\\hat{n}_y}$"
      ],
      "text/plain": [
       "     ⎛π⋅sin(t)⎞            ⎛π⋅sin(t)⎞    \n",
       "2⋅cos⎜────────⎟ n_x + 2⋅sin⎜────────⎟ n_y\n",
       "     ⎝   9    ⎠            ⎝   9    ⎠    "
      ]
     },
     "metadata": {},
     "output_type": "display_data"
    },
    {
     "data": {
      "text/latex": [
       "$\\displaystyle 2\\mathbf{\\hat{n}_x}$"
      ],
      "text/plain": [
       "2 n_x"
      ]
     },
     "metadata": {},
     "output_type": "display_data"
    },
    {
     "data": {
      "text/latex": [
       "$\\displaystyle 2 \\cos{\\left(0.00704710218406272 \\pi \\right)}\\mathbf{\\hat{n}_x} + 2 \\sin{\\left(0.00704710218406272 \\pi \\right)}\\mathbf{\\hat{n}_y}$"
      ],
      "text/plain": [
       "2⋅cos(0.00704710218406272⋅π) n_x + 2⋅sin(0.00704710218406272⋅π) n_y"
      ]
     },
     "metadata": {},
     "output_type": "display_data"
    },
    {
     "data": {
      "text/latex": [
       "$\\displaystyle 2 \\cos{\\left(0.014065828174861 \\pi \\right)}\\mathbf{\\hat{n}_x} + 2 \\sin{\\left(0.014065828174861 \\pi \\right)}\\mathbf{\\hat{n}_y}$"
      ],
      "text/plain": [
       "2⋅cos(0.014065828174861⋅π) n_x + 2⋅sin(0.014065828174861⋅π) n_y"
      ]
     },
     "metadata": {},
     "output_type": "display_data"
    },
    {
     "data": {
      "text/latex": [
       "$\\displaystyle 2 \\cos{\\left(0.0210279160400456 \\pi \\right)}\\mathbf{\\hat{n}_x} + 2 \\sin{\\left(0.0210279160400456 \\pi \\right)}\\mathbf{\\hat{n}_y}$"
      ],
      "text/plain": [
       "2⋅cos(0.0210279160400456⋅π) n_x + 2⋅sin(0.0210279160400456⋅π) n_y"
      ]
     },
     "metadata": {},
     "output_type": "display_data"
    },
    {
     "data": {
      "text/latex": [
       "$\\displaystyle 2 \\cos{\\left(0.0279053319090088 \\pi \\right)}\\mathbf{\\hat{n}_x} + 2 \\sin{\\left(0.0279053319090088 \\pi \\right)}\\mathbf{\\hat{n}_y}$"
      ],
      "text/plain": [
       "2⋅cos(0.0279053319090088⋅π) n_x + 2⋅sin(0.0279053319090088⋅π) n_y"
      ]
     },
     "metadata": {},
     "output_type": "display_data"
    },
    {
     "data": {
      "text/latex": [
       "$\\displaystyle 2 \\cos{\\left(0.0346703828553875 \\pi \\right)}\\mathbf{\\hat{n}_x} + 2 \\sin{\\left(0.0346703828553875 \\pi \\right)}\\mathbf{\\hat{n}_y}$"
      ],
      "text/plain": [
       "2⋅cos(0.0346703828553875⋅π) n_x + 2⋅sin(0.0346703828553875⋅π) n_y"
      ]
     },
     "metadata": {},
     "output_type": "display_data"
    },
    {
     "data": {
      "text/latex": [
       "$\\displaystyle 2 \\cos{\\left(0.0412958284067031 \\pi \\right)}\\mathbf{\\hat{n}_x} + 2 \\sin{\\left(0.0412958284067031 \\pi \\right)}\\mathbf{\\hat{n}_y}$"
      ],
      "text/plain": [
       "2⋅cos(0.0412958284067031⋅π) n_x + 2⋅sin(0.0412958284067031⋅π) n_y"
      ]
     },
     "metadata": {},
     "output_type": "display_data"
    },
    {
     "data": {
      "text/latex": [
       "$\\displaystyle 2 \\cos{\\left(0.0477549902321302 \\pi \\right)}\\mathbf{\\hat{n}_x} + 2 \\sin{\\left(0.0477549902321302 \\pi \\right)}\\mathbf{\\hat{n}_y}$"
      ],
      "text/plain": [
       "2⋅cos(0.0477549902321302⋅π) n_x + 2⋅sin(0.0477549902321302⋅π) n_y"
      ]
     },
     "metadata": {},
     "output_type": "display_data"
    },
    {
     "data": {
      "text/latex": [
       "$\\displaystyle 2 \\cos{\\left(0.0540218595667187 \\pi \\right)}\\mathbf{\\hat{n}_x} + 2 \\sin{\\left(0.0540218595667187 \\pi \\right)}\\mathbf{\\hat{n}_y}$"
      ],
      "text/plain": [
       "2⋅cos(0.0540218595667187⋅π) n_x + 2⋅sin(0.0540218595667187⋅π) n_y"
      ]
     },
     "metadata": {},
     "output_type": "display_data"
    },
    {
     "data": {
      "text/latex": [
       "$\\displaystyle 2 \\cos{\\left(0.0600712019395108 \\pi \\right)}\\mathbf{\\hat{n}_x} + 2 \\sin{\\left(0.0600712019395108 \\pi \\right)}\\mathbf{\\hat{n}_y}$"
      ],
      "text/plain": [
       "2⋅cos(0.0600712019395108⋅π) n_x + 2⋅sin(0.0600712019395108⋅π) n_y"
      ]
     },
     "metadata": {},
     "output_type": "display_data"
    },
    {
     "data": {
      "text/latex": [
       "$\\displaystyle 2 \\cos{\\left(0.0658786587838489 \\pi \\right)}\\mathbf{\\hat{n}_x} + 2 \\sin{\\left(0.0658786587838489 \\pi \\right)}\\mathbf{\\hat{n}_y}$"
      ],
      "text/plain": [
       "2⋅cos(0.0658786587838489⋅π) n_x + 2⋅sin(0.0658786587838489⋅π) n_y"
      ]
     },
     "metadata": {},
     "output_type": "display_data"
    },
    {
     "data": {
      "text/latex": [
       "$\\displaystyle 2 \\cos{\\left(0.0714208455207266 \\pi \\right)}\\mathbf{\\hat{n}_x} + 2 \\sin{\\left(0.0714208455207266 \\pi \\right)}\\mathbf{\\hat{n}_y}$"
      ],
      "text/plain": [
       "2⋅cos(0.0714208455207266⋅π) n_x + 2⋅sin(0.0714208455207266⋅π) n_y"
      ]
     },
     "metadata": {},
     "output_type": "display_data"
    },
    {
     "data": {
      "text/latex": [
       "$\\displaystyle 2 \\cos{\\left(0.0766754457202347 \\pi \\right)}\\mathbf{\\hat{n}_x} + 2 \\sin{\\left(0.0766754457202347 \\pi \\right)}\\mathbf{\\hat{n}_y}$"
      ],
      "text/plain": [
       "2⋅cos(0.0766754457202347⋅π) n_x + 2⋅sin(0.0766754457202347⋅π) n_y"
      ]
     },
     "metadata": {},
     "output_type": "display_data"
    },
    {
     "data": {
      "text/latex": [
       "$\\displaystyle 2 \\cos{\\left(0.0816213009619481 \\pi \\right)}\\mathbf{\\hat{n}_x} + 2 \\sin{\\left(0.0816213009619481 \\pi \\right)}\\mathbf{\\hat{n}_y}$"
      ],
      "text/plain": [
       "2⋅cos(0.0816213009619481⋅π) n_x + 2⋅sin(0.0816213009619481⋅π) n_y"
      ]
     },
     "metadata": {},
     "output_type": "display_data"
    },
    {
     "data": {
      "text/latex": [
       "$\\displaystyle 2 \\cos{\\left(0.0862384960324174 \\pi \\right)}\\mathbf{\\hat{n}_x} + 2 \\sin{\\left(0.0862384960324174 \\pi \\right)}\\mathbf{\\hat{n}_y}$"
      ],
      "text/plain": [
       "2⋅cos(0.0862384960324174⋅π) n_x + 2⋅sin(0.0862384960324174⋅π) n_y"
      ]
     },
     "metadata": {},
     "output_type": "display_data"
    },
    {
     "data": {
      "text/latex": [
       "$\\displaystyle 2 \\cos{\\left(0.090508439116704 \\pi \\right)}\\mathbf{\\hat{n}_x} + 2 \\sin{\\left(0.090508439116704 \\pi \\right)}\\mathbf{\\hat{n}_y}$"
      ],
      "text/plain": [
       "2⋅cos(0.090508439116704⋅π) n_x + 2⋅sin(0.090508439116704⋅π) n_y"
      ]
     },
     "metadata": {},
     "output_type": "display_data"
    },
    {
     "data": {
      "text/latex": [
       "$\\displaystyle 2 \\cos{\\left(0.0944139366610571 \\pi \\right)}\\mathbf{\\hat{n}_x} + 2 \\sin{\\left(0.0944139366610571 \\pi \\right)}\\mathbf{\\hat{n}_y}$"
      ],
      "text/plain": [
       "2⋅cos(0.0944139366610571⋅π) n_x + 2⋅sin(0.0944139366610571⋅π) n_y"
      ]
     },
     "metadata": {},
     "output_type": "display_data"
    },
    {
     "data": {
      "text/latex": [
       "$\\displaystyle 2 \\cos{\\left(0.0979392626052869 \\pi \\right)}\\mathbf{\\hat{n}_x} + 2 \\sin{\\left(0.0979392626052869 \\pi \\right)}\\mathbf{\\hat{n}_y}$"
      ],
      "text/plain": [
       "2⋅cos(0.0979392626052869⋅π) n_x + 2⋅sin(0.0979392626052869⋅π) n_y"
      ]
     },
     "metadata": {},
     "output_type": "display_data"
    },
    {
     "data": {
      "text/latex": [
       "$\\displaystyle 2 \\cos{\\left(0.101070221706058 \\pi \\right)}\\mathbf{\\hat{n}_x} + 2 \\sin{\\left(0.101070221706058 \\pi \\right)}\\mathbf{\\hat{n}_y}$"
      ],
      "text/plain": [
       "2⋅cos(0.101070221706058⋅π) n_x + 2⋅sin(0.101070221706058⋅π) n_y"
      ]
     },
     "metadata": {},
     "output_type": "display_data"
    },
    {
     "data": {
      "text/latex": [
       "$\\displaystyle 2 \\cos{\\left(0.103794206696123 \\pi \\right)}\\mathbf{\\hat{n}_x} + 2 \\sin{\\left(0.103794206696123 \\pi \\right)}\\mathbf{\\hat{n}_y}$"
      ],
      "text/plain": [
       "2⋅cos(0.103794206696123⋅π) n_x + 2⋅sin(0.103794206696123⋅π) n_y"
      ]
     },
     "metadata": {},
     "output_type": "display_data"
    },
    {
     "data": {
      "text/latex": [
       "$\\displaystyle 2 \\cos{\\left(0.106100249049342 \\pi \\right)}\\mathbf{\\hat{n}_x} + 2 \\sin{\\left(0.106100249049342 \\pi \\right)}\\mathbf{\\hat{n}_y}$"
      ],
      "text/plain": [
       "2⋅cos(0.106100249049342⋅π) n_x + 2⋅sin(0.106100249049342⋅π) n_y"
      ]
     },
     "metadata": {},
     "output_type": "display_data"
    },
    {
     "data": {
      "text/latex": [
       "$\\displaystyle 2 \\cos{\\left(0.10797906314706 \\pi \\right)}\\mathbf{\\hat{n}_x} + 2 \\sin{\\left(0.10797906314706 \\pi \\right)}\\mathbf{\\hat{n}_y}$"
      ],
      "text/plain": [
       "2⋅cos(0.10797906314706⋅π) n_x + 2⋅sin(0.10797906314706⋅π) n_y"
      ]
     },
     "metadata": {},
     "output_type": "display_data"
    },
    {
     "data": {
      "text/latex": [
       "$\\displaystyle 2 \\cos{\\left(0.109423083668023 \\pi \\right)}\\mathbf{\\hat{n}_x} + 2 \\sin{\\left(0.109423083668023 \\pi \\right)}\\mathbf{\\hat{n}_y}$"
      ],
      "text/plain": [
       "2⋅cos(0.109423083668023⋅π) n_x + 2⋅sin(0.109423083668023⋅π) n_y"
      ]
     },
     "metadata": {},
     "output_type": "display_data"
    },
    {
     "data": {
      "text/latex": [
       "$\\displaystyle 2 \\cos{\\left(0.11042649605125 \\pi \\right)}\\mathbf{\\hat{n}_x} + 2 \\sin{\\left(0.11042649605125 \\pi \\right)}\\mathbf{\\hat{n}_y}$"
      ],
      "text/plain": [
       "2⋅cos(0.11042649605125⋅π) n_x + 2⋅sin(0.11042649605125⋅π) n_y"
      ]
     },
     "metadata": {},
     "output_type": "display_data"
    },
    {
     "data": {
      "text/latex": [
       "$\\displaystyle 2 \\cos{\\left(0.110985259909223 \\pi \\right)}\\mathbf{\\hat{n}_x} + 2 \\sin{\\left(0.110985259909223 \\pi \\right)}\\mathbf{\\hat{n}_y}$"
      ],
      "text/plain": [
       "2⋅cos(0.110985259909223⋅π) n_x + 2⋅sin(0.110985259909223⋅π) n_y"
      ]
     },
     "metadata": {},
     "output_type": "display_data"
    },
    {
     "data": {
      "text/latex": [
       "$\\displaystyle 2 \\cos{\\left(0.111097125297097 \\pi \\right)}\\mathbf{\\hat{n}_x} + 2 \\sin{\\left(0.111097125297097 \\pi \\right)}\\mathbf{\\hat{n}_y}$"
      ],
      "text/plain": [
       "2⋅cos(0.111097125297097⋅π) n_x + 2⋅sin(0.111097125297097⋅π) n_y"
      ]
     },
     "metadata": {},
     "output_type": "display_data"
    },
    {
     "data": {
      "text/latex": [
       "$\\displaystyle 2 \\cos{\\left(0.110761641772438 \\pi \\right)}\\mathbf{\\hat{n}_x} + 2 \\sin{\\left(0.110761641772438 \\pi \\right)}\\mathbf{\\hat{n}_y}$"
      ],
      "text/plain": [
       "2⋅cos(0.110761641772438⋅π) n_x + 2⋅sin(0.110761641772438⋅π) n_y"
      ]
     },
     "metadata": {},
     "output_type": "display_data"
    },
    {
     "data": {
      "text/latex": [
       "$\\displaystyle 2 \\cos{\\left(0.109980160208993 \\pi \\right)}\\mathbf{\\hat{n}_x} + 2 \\sin{\\left(0.109980160208993 \\pi \\right)}\\mathbf{\\hat{n}_y}$"
      ],
      "text/plain": [
       "2⋅cos(0.109980160208993⋅π) n_x + 2⋅sin(0.109980160208993⋅π) n_y"
      ]
     },
     "metadata": {},
     "output_type": "display_data"
    },
    {
     "data": {
      "text/latex": [
       "$\\displaystyle 2 \\cos{\\left(0.108755827357198 \\pi \\right)}\\mathbf{\\hat{n}_x} + 2 \\sin{\\left(0.108755827357198 \\pi \\right)}\\mathbf{\\hat{n}_y}$"
      ],
      "text/plain": [
       "2⋅cos(0.108755827357198⋅π) n_x + 2⋅sin(0.108755827357198⋅π) n_y"
      ]
     },
     "metadata": {},
     "output_type": "display_data"
    },
    {
     "data": {
      "text/latex": [
       "$\\displaystyle 2 \\cos{\\left(0.107093573173327 \\pi \\right)}\\mathbf{\\hat{n}_x} + 2 \\sin{\\left(0.107093573173327 \\pi \\right)}\\mathbf{\\hat{n}_y}$"
      ],
      "text/plain": [
       "2⋅cos(0.107093573173327⋅π) n_x + 2⋅sin(0.107093573173327⋅π) n_y"
      ]
     },
     "metadata": {},
     "output_type": "display_data"
    },
    {
     "data": {
      "text/latex": [
       "$\\displaystyle 2 \\cos{\\left(0.105000090968296 \\pi \\right)}\\mathbf{\\hat{n}_x} + 2 \\sin{\\left(0.105000090968296 \\pi \\right)}\\mathbf{\\hat{n}_y}$"
      ],
      "text/plain": [
       "2⋅cos(0.105000090968296⋅π) n_x + 2⋅sin(0.105000090968296⋅π) n_y"
      ]
     },
     "metadata": {},
     "output_type": "display_data"
    },
    {
     "data": {
      "text/latex": [
       "$\\displaystyle 2 \\cos{\\left(0.102483810456065 \\pi \\right)}\\mathbf{\\hat{n}_x} + 2 \\sin{\\left(0.102483810456065 \\pi \\right)}\\mathbf{\\hat{n}_y}$"
      ],
      "text/plain": [
       "2⋅cos(0.102483810456065⋅π) n_x + 2⋅sin(0.102483810456065⋅π) n_y"
      ]
     },
     "metadata": {},
     "output_type": "display_data"
    },
    {
     "data": {
      "text/latex": [
       "$\\displaystyle 2 \\cos{\\left(0.0995548638101484 \\pi \\right)}\\mathbf{\\hat{n}_x} + 2 \\sin{\\left(0.0995548638101484 \\pi \\right)}\\mathbf{\\hat{n}_y}$"
      ],
      "text/plain": [
       "2⋅cos(0.0995548638101484⋅π) n_x + 2⋅sin(0.0995548638101484⋅π) n_y"
      ]
     },
     "metadata": {},
     "output_type": "display_data"
    },
    {
     "data": {
      "text/latex": [
       "$\\displaystyle 2 \\cos{\\left(0.0962250448649376 \\pi \\right)}\\mathbf{\\hat{n}_x} + 2 \\sin{\\left(0.0962250448649376 \\pi \\right)}\\mathbf{\\hat{n}_y}$"
      ],
      "text/plain": [
       "2⋅cos(0.0962250448649376⋅π) n_x + 2⋅sin(0.0962250448649376⋅π) n_y"
      ]
     },
     "metadata": {},
     "output_type": "display_data"
    },
    {
     "data": {
      "text/latex": [
       "$\\displaystyle 2 \\cos{\\left(0.0925077616260857 \\pi \\right)}\\mathbf{\\hat{n}_x} + 2 \\sin{\\left(0.0925077616260857 \\pi \\right)}\\mathbf{\\hat{n}_y}$"
      ],
      "text/plain": [
       "2⋅cos(0.0925077616260857⋅π) n_x + 2⋅sin(0.0925077616260857⋅π) n_y"
      ]
     },
     "metadata": {},
     "output_type": "display_data"
    },
    {
     "data": {
      "text/latex": [
       "$\\displaystyle 2 \\cos{\\left(0.0884179822812036 \\pi \\right)}\\mathbf{\\hat{n}_x} + 2 \\sin{\\left(0.0884179822812036 \\pi \\right)}\\mathbf{\\hat{n}_y}$"
      ],
      "text/plain": [
       "2⋅cos(0.0884179822812036⋅π) n_x + 2⋅sin(0.0884179822812036⋅π) n_y"
      ]
     },
     "metadata": {},
     "output_type": "display_data"
    },
    {
     "data": {
      "text/latex": [
       "$\\displaystyle 2 \\cos{\\left(0.0839721749282509 \\pi \\right)}\\mathbf{\\hat{n}_x} + 2 \\sin{\\left(0.0839721749282509 \\pi \\right)}\\mathbf{\\hat{n}_y}$"
      ],
      "text/plain": [
       "2⋅cos(0.0839721749282509⋅π) n_x + 2⋅sin(0.0839721749282509⋅π) n_y"
      ]
     },
     "metadata": {},
     "output_type": "display_data"
    },
    {
     "data": {
      "text/latex": [
       "$\\displaystyle 2 \\cos{\\left(0.0791882412643181 \\pi \\right)}\\mathbf{\\hat{n}_x} + 2 \\sin{\\left(0.0791882412643181 \\pi \\right)}\\mathbf{\\hat{n}_y}$"
      ],
      "text/plain": [
       "2⋅cos(0.0791882412643181⋅π) n_x + 2⋅sin(0.0791882412643181⋅π) n_y"
      ]
     },
     "metadata": {},
     "output_type": "display_data"
    },
    {
     "data": {
      "text/latex": [
       "$\\displaystyle 2 \\cos{\\left(0.0740854445018102 \\pi \\right)}\\mathbf{\\hat{n}_x} + 2 \\sin{\\left(0.0740854445018102 \\pi \\right)}\\mathbf{\\hat{n}_y}$"
      ],
      "text/plain": [
       "2⋅cos(0.0740854445018102⋅π) n_x + 2⋅sin(0.0740854445018102⋅π) n_y"
      ]
     },
     "metadata": {},
     "output_type": "display_data"
    },
    {
     "data": {
      "text/latex": [
       "$\\displaystyle 2 \\cos{\\left(0.0686843318022895 \\pi \\right)}\\mathbf{\\hat{n}_x} + 2 \\sin{\\left(0.0686843318022895 \\pi \\right)}\\mathbf{\\hat{n}_y}$"
      ],
      "text/plain": [
       "2⋅cos(0.0686843318022895⋅π) n_x + 2⋅sin(0.0686843318022895⋅π) n_y"
      ]
     },
     "metadata": {},
     "output_type": "display_data"
    },
    {
     "data": {
      "text/latex": [
       "$\\displaystyle 2 \\cos{\\left(0.0630066515403079 \\pi \\right)}\\mathbf{\\hat{n}_x} + 2 \\sin{\\left(0.0630066515403079 \\pi \\right)}\\mathbf{\\hat{n}_y}$"
      ],
      "text/plain": [
       "2⋅cos(0.0630066515403079⋅π) n_x + 2⋅sin(0.0630066515403079⋅π) n_y"
      ]
     },
     "metadata": {},
     "output_type": "display_data"
    },
    {
     "data": {
      "text/latex": [
       "$\\displaystyle 2 \\cos{\\left(0.0570752657303785 \\pi \\right)}\\mathbf{\\hat{n}_x} + 2 \\sin{\\left(0.0570752657303785 \\pi \\right)}\\mathbf{\\hat{n}_y}$"
      ],
      "text/plain": [
       "2⋅cos(0.0570752657303785⋅π) n_x + 2⋅sin(0.0570752657303785⋅π) n_y"
      ]
     },
     "metadata": {},
     "output_type": "display_data"
    },
    {
     "data": {
      "text/latex": [
       "$\\displaystyle 2 \\cos{\\left(0.0509140579697123 \\pi \\right)}\\mathbf{\\hat{n}_x} + 2 \\sin{\\left(0.0509140579697123 \\pi \\right)}\\mathbf{\\hat{n}_y}$"
      ],
      "text/plain": [
       "2⋅cos(0.0509140579697123⋅π) n_x + 2⋅sin(0.0509140579697123⋅π) n_y"
      ]
     },
     "metadata": {},
     "output_type": "display_data"
    },
    {
     "data": {
      "text/latex": [
       "$\\displaystyle 2 \\cos{\\left(0.0445478372674015 \\pi \\right)}\\mathbf{\\hat{n}_x} + 2 \\sin{\\left(0.0445478372674015 \\pi \\right)}\\mathbf{\\hat{n}_y}$"
      ],
      "text/plain": [
       "2⋅cos(0.0445478372674015⋅π) n_x + 2⋅sin(0.0445478372674015⋅π) n_y"
      ]
     },
     "metadata": {},
     "output_type": "display_data"
    },
    {
     "data": {
      "text/latex": [
       "$\\displaystyle 2 \\cos{\\left(0.0380022381472965 \\pi \\right)}\\mathbf{\\hat{n}_x} + 2 \\sin{\\left(0.0380022381472965 \\pi \\right)}\\mathbf{\\hat{n}_y}$"
      ],
      "text/plain": [
       "2⋅cos(0.0380022381472965⋅π) n_x + 2⋅sin(0.0380022381472965⋅π) n_y"
      ]
     },
     "metadata": {},
     "output_type": "display_data"
    },
    {
     "data": {
      "text/latex": [
       "$\\displaystyle 2 \\cos{\\left(0.0313036174268255 \\pi \\right)}\\mathbf{\\hat{n}_x} + 2 \\sin{\\left(0.0313036174268255 \\pi \\right)}\\mathbf{\\hat{n}_y}$"
      ],
      "text/plain": [
       "2⋅cos(0.0313036174268255⋅π) n_x + 2⋅sin(0.0313036174268255⋅π) n_y"
      ]
     },
     "metadata": {},
     "output_type": "display_data"
    },
    {
     "data": {
      "text/latex": [
       "$\\displaystyle 2 \\cos{\\left(0.0244789480873934 \\pi \\right)}\\mathbf{\\hat{n}_x} + 2 \\sin{\\left(0.0244789480873934 \\pi \\right)}\\mathbf{\\hat{n}_y}$"
      ],
      "text/plain": [
       "2⋅cos(0.0244789480873934⋅π) n_x + 2⋅sin(0.0244789480873934⋅π) n_y"
      ]
     },
     "metadata": {},
     "output_type": "display_data"
    },
    {
     "data": {
      "text/latex": [
       "$\\displaystyle 2 \\cos{\\left(0.0175557106637055 \\pi \\right)}\\mathbf{\\hat{n}_x} + 2 \\sin{\\left(0.0175557106637055 \\pi \\right)}\\mathbf{\\hat{n}_y}$"
      ],
      "text/plain": [
       "2⋅cos(0.0175557106637055⋅π) n_x + 2⋅sin(0.0175557106637055⋅π) n_y"
      ]
     },
     "metadata": {},
     "output_type": "display_data"
    },
    {
     "data": {
      "text/latex": [
       "$\\displaystyle 2 \\cos{\\left(0.0105617825893536 \\pi \\right)}\\mathbf{\\hat{n}_x} + 2 \\sin{\\left(0.0105617825893536 \\pi \\right)}\\mathbf{\\hat{n}_y}$"
      ],
      "text/plain": [
       "2⋅cos(0.0105617825893536⋅π) n_x + 2⋅sin(0.0105617825893536⋅π) n_y"
      ]
     },
     "metadata": {},
     "output_type": "display_data"
    },
    {
     "data": {
      "text/latex": [
       "$\\displaystyle 2 \\cos{\\left(0.00352532594422974 \\pi \\right)}\\mathbf{\\hat{n}_x} + 2 \\sin{\\left(0.00352532594422974 \\pi \\right)}\\mathbf{\\hat{n}_y}$"
      ],
      "text/plain": [
       "2⋅cos(0.00352532594422974⋅π) n_x + 2⋅sin(0.00352532594422974⋅π) n_y"
      ]
     },
     "metadata": {},
     "output_type": "display_data"
    },
    {
     "data": {
      "text/latex": [
       "$\\displaystyle 2 \\cos{\\left(0.00352532594422976 \\pi \\right)}\\mathbf{\\hat{n}_x} -  2 \\sin{\\left(0.00352532594422976 \\pi \\right)}\\mathbf{\\hat{n}_y}$"
      ],
      "text/plain": [
       "2⋅cos(0.00352532594422976⋅π) n_x + -2⋅sin(0.00352532594422976⋅π) n_y"
      ]
     },
     "metadata": {},
     "output_type": "display_data"
    },
    {
     "data": {
      "text/latex": [
       "$\\displaystyle 2 \\cos{\\left(0.0105617825893536 \\pi \\right)}\\mathbf{\\hat{n}_x} -  2 \\sin{\\left(0.0105617825893536 \\pi \\right)}\\mathbf{\\hat{n}_y}$"
      ],
      "text/plain": [
       "2⋅cos(0.0105617825893536⋅π) n_x + -2⋅sin(0.0105617825893536⋅π) n_y"
      ]
     },
     "metadata": {},
     "output_type": "display_data"
    },
    {
     "data": {
      "text/latex": [
       "$\\displaystyle 2 \\cos{\\left(0.0175557106637056 \\pi \\right)}\\mathbf{\\hat{n}_x} -  2 \\sin{\\left(0.0175557106637056 \\pi \\right)}\\mathbf{\\hat{n}_y}$"
      ],
      "text/plain": [
       "2⋅cos(0.0175557106637056⋅π) n_x + -2⋅sin(0.0175557106637056⋅π) n_y"
      ]
     },
     "metadata": {},
     "output_type": "display_data"
    },
    {
     "data": {
      "text/latex": [
       "$\\displaystyle 2 \\cos{\\left(0.0244789480873934 \\pi \\right)}\\mathbf{\\hat{n}_x} -  2 \\sin{\\left(0.0244789480873934 \\pi \\right)}\\mathbf{\\hat{n}_y}$"
      ],
      "text/plain": [
       "2⋅cos(0.0244789480873934⋅π) n_x + -2⋅sin(0.0244789480873934⋅π) n_y"
      ]
     },
     "metadata": {},
     "output_type": "display_data"
    },
    {
     "data": {
      "text/latex": [
       "$\\displaystyle 2 \\cos{\\left(0.0313036174268255 \\pi \\right)}\\mathbf{\\hat{n}_x} -  2 \\sin{\\left(0.0313036174268255 \\pi \\right)}\\mathbf{\\hat{n}_y}$"
      ],
      "text/plain": [
       "2⋅cos(0.0313036174268255⋅π) n_x + -2⋅sin(0.0313036174268255⋅π) n_y"
      ]
     },
     "metadata": {},
     "output_type": "display_data"
    },
    {
     "data": {
      "text/latex": [
       "$\\displaystyle 2 \\cos{\\left(0.0380022381472965 \\pi \\right)}\\mathbf{\\hat{n}_x} -  2 \\sin{\\left(0.0380022381472965 \\pi \\right)}\\mathbf{\\hat{n}_y}$"
      ],
      "text/plain": [
       "2⋅cos(0.0380022381472965⋅π) n_x + -2⋅sin(0.0380022381472965⋅π) n_y"
      ]
     },
     "metadata": {},
     "output_type": "display_data"
    },
    {
     "data": {
      "text/latex": [
       "$\\displaystyle 2 \\cos{\\left(0.0445478372674015 \\pi \\right)}\\mathbf{\\hat{n}_x} -  2 \\sin{\\left(0.0445478372674015 \\pi \\right)}\\mathbf{\\hat{n}_y}$"
      ],
      "text/plain": [
       "2⋅cos(0.0445478372674015⋅π) n_x + -2⋅sin(0.0445478372674015⋅π) n_y"
      ]
     },
     "metadata": {},
     "output_type": "display_data"
    },
    {
     "data": {
      "text/latex": [
       "$\\displaystyle 2 \\cos{\\left(0.0509140579697123 \\pi \\right)}\\mathbf{\\hat{n}_x} -  2 \\sin{\\left(0.0509140579697123 \\pi \\right)}\\mathbf{\\hat{n}_y}$"
      ],
      "text/plain": [
       "2⋅cos(0.0509140579697123⋅π) n_x + -2⋅sin(0.0509140579697123⋅π) n_y"
      ]
     },
     "metadata": {},
     "output_type": "display_data"
    },
    {
     "data": {
      "text/latex": [
       "$\\displaystyle 2 \\cos{\\left(0.0570752657303785 \\pi \\right)}\\mathbf{\\hat{n}_x} -  2 \\sin{\\left(0.0570752657303785 \\pi \\right)}\\mathbf{\\hat{n}_y}$"
      ],
      "text/plain": [
       "2⋅cos(0.0570752657303785⋅π) n_x + -2⋅sin(0.0570752657303785⋅π) n_y"
      ]
     },
     "metadata": {},
     "output_type": "display_data"
    },
    {
     "data": {
      "text/latex": [
       "$\\displaystyle 2 \\cos{\\left(0.0630066515403079 \\pi \\right)}\\mathbf{\\hat{n}_x} -  2 \\sin{\\left(0.0630066515403079 \\pi \\right)}\\mathbf{\\hat{n}_y}$"
      ],
      "text/plain": [
       "2⋅cos(0.0630066515403079⋅π) n_x + -2⋅sin(0.0630066515403079⋅π) n_y"
      ]
     },
     "metadata": {},
     "output_type": "display_data"
    },
    {
     "data": {
      "text/latex": [
       "$\\displaystyle 2 \\cos{\\left(0.0686843318022895 \\pi \\right)}\\mathbf{\\hat{n}_x} -  2 \\sin{\\left(0.0686843318022895 \\pi \\right)}\\mathbf{\\hat{n}_y}$"
      ],
      "text/plain": [
       "2⋅cos(0.0686843318022895⋅π) n_x + -2⋅sin(0.0686843318022895⋅π) n_y"
      ]
     },
     "metadata": {},
     "output_type": "display_data"
    },
    {
     "data": {
      "text/latex": [
       "$\\displaystyle 2 \\cos{\\left(0.0740854445018102 \\pi \\right)}\\mathbf{\\hat{n}_x} -  2 \\sin{\\left(0.0740854445018102 \\pi \\right)}\\mathbf{\\hat{n}_y}$"
      ],
      "text/plain": [
       "2⋅cos(0.0740854445018102⋅π) n_x + -2⋅sin(0.0740854445018102⋅π) n_y"
      ]
     },
     "metadata": {},
     "output_type": "display_data"
    },
    {
     "data": {
      "text/latex": [
       "$\\displaystyle 2 \\cos{\\left(0.0791882412643181 \\pi \\right)}\\mathbf{\\hat{n}_x} -  2 \\sin{\\left(0.0791882412643181 \\pi \\right)}\\mathbf{\\hat{n}_y}$"
      ],
      "text/plain": [
       "2⋅cos(0.0791882412643181⋅π) n_x + -2⋅sin(0.0791882412643181⋅π) n_y"
      ]
     },
     "metadata": {},
     "output_type": "display_data"
    },
    {
     "data": {
      "text/latex": [
       "$\\displaystyle 2 \\cos{\\left(0.0839721749282509 \\pi \\right)}\\mathbf{\\hat{n}_x} -  2 \\sin{\\left(0.0839721749282509 \\pi \\right)}\\mathbf{\\hat{n}_y}$"
      ],
      "text/plain": [
       "2⋅cos(0.0839721749282509⋅π) n_x + -2⋅sin(0.0839721749282509⋅π) n_y"
      ]
     },
     "metadata": {},
     "output_type": "display_data"
    },
    {
     "data": {
      "text/latex": [
       "$\\displaystyle 2 \\cos{\\left(0.0884179822812036 \\pi \\right)}\\mathbf{\\hat{n}_x} -  2 \\sin{\\left(0.0884179822812036 \\pi \\right)}\\mathbf{\\hat{n}_y}$"
      ],
      "text/plain": [
       "2⋅cos(0.0884179822812036⋅π) n_x + -2⋅sin(0.0884179822812036⋅π) n_y"
      ]
     },
     "metadata": {},
     "output_type": "display_data"
    },
    {
     "data": {
      "text/latex": [
       "$\\displaystyle 2 \\cos{\\left(0.0925077616260857 \\pi \\right)}\\mathbf{\\hat{n}_x} -  2 \\sin{\\left(0.0925077616260857 \\pi \\right)}\\mathbf{\\hat{n}_y}$"
      ],
      "text/plain": [
       "2⋅cos(0.0925077616260857⋅π) n_x + -2⋅sin(0.0925077616260857⋅π) n_y"
      ]
     },
     "metadata": {},
     "output_type": "display_data"
    },
    {
     "data": {
      "text/latex": [
       "$\\displaystyle 2 \\cos{\\left(0.0962250448649376 \\pi \\right)}\\mathbf{\\hat{n}_x} -  2 \\sin{\\left(0.0962250448649376 \\pi \\right)}\\mathbf{\\hat{n}_y}$"
      ],
      "text/plain": [
       "2⋅cos(0.0962250448649376⋅π) n_x + -2⋅sin(0.0962250448649376⋅π) n_y"
      ]
     },
     "metadata": {},
     "output_type": "display_data"
    },
    {
     "data": {
      "text/latex": [
       "$\\displaystyle 2 \\cos{\\left(0.0995548638101484 \\pi \\right)}\\mathbf{\\hat{n}_x} -  2 \\sin{\\left(0.0995548638101484 \\pi \\right)}\\mathbf{\\hat{n}_y}$"
      ],
      "text/plain": [
       "2⋅cos(0.0995548638101484⋅π) n_x + -2⋅sin(0.0995548638101484⋅π) n_y"
      ]
     },
     "metadata": {},
     "output_type": "display_data"
    },
    {
     "data": {
      "text/latex": [
       "$\\displaystyle 2 \\cos{\\left(0.102483810456065 \\pi \\right)}\\mathbf{\\hat{n}_x} -  2 \\sin{\\left(0.102483810456065 \\pi \\right)}\\mathbf{\\hat{n}_y}$"
      ],
      "text/plain": [
       "2⋅cos(0.102483810456065⋅π) n_x + -2⋅sin(0.102483810456065⋅π) n_y"
      ]
     },
     "metadata": {},
     "output_type": "display_data"
    },
    {
     "data": {
      "text/latex": [
       "$\\displaystyle 2 \\cos{\\left(0.105000090968296 \\pi \\right)}\\mathbf{\\hat{n}_x} -  2 \\sin{\\left(0.105000090968296 \\pi \\right)}\\mathbf{\\hat{n}_y}$"
      ],
      "text/plain": [
       "2⋅cos(0.105000090968296⋅π) n_x + -2⋅sin(0.105000090968296⋅π) n_y"
      ]
     },
     "metadata": {},
     "output_type": "display_data"
    },
    {
     "data": {
      "text/latex": [
       "$\\displaystyle 2 \\cos{\\left(0.107093573173327 \\pi \\right)}\\mathbf{\\hat{n}_x} -  2 \\sin{\\left(0.107093573173327 \\pi \\right)}\\mathbf{\\hat{n}_y}$"
      ],
      "text/plain": [
       "2⋅cos(0.107093573173327⋅π) n_x + -2⋅sin(0.107093573173327⋅π) n_y"
      ]
     },
     "metadata": {},
     "output_type": "display_data"
    },
    {
     "data": {
      "text/latex": [
       "$\\displaystyle 2 \\cos{\\left(0.108755827357198 \\pi \\right)}\\mathbf{\\hat{n}_x} -  2 \\sin{\\left(0.108755827357198 \\pi \\right)}\\mathbf{\\hat{n}_y}$"
      ],
      "text/plain": [
       "2⋅cos(0.108755827357198⋅π) n_x + -2⋅sin(0.108755827357198⋅π) n_y"
      ]
     },
     "metadata": {},
     "output_type": "display_data"
    },
    {
     "data": {
      "text/latex": [
       "$\\displaystyle 2 \\cos{\\left(0.109980160208993 \\pi \\right)}\\mathbf{\\hat{n}_x} -  2 \\sin{\\left(0.109980160208993 \\pi \\right)}\\mathbf{\\hat{n}_y}$"
      ],
      "text/plain": [
       "2⋅cos(0.109980160208993⋅π) n_x + -2⋅sin(0.109980160208993⋅π) n_y"
      ]
     },
     "metadata": {},
     "output_type": "display_data"
    },
    {
     "data": {
      "text/latex": [
       "$\\displaystyle 2 \\cos{\\left(0.110761641772438 \\pi \\right)}\\mathbf{\\hat{n}_x} -  2 \\sin{\\left(0.110761641772438 \\pi \\right)}\\mathbf{\\hat{n}_y}$"
      ],
      "text/plain": [
       "2⋅cos(0.110761641772438⋅π) n_x + -2⋅sin(0.110761641772438⋅π) n_y"
      ]
     },
     "metadata": {},
     "output_type": "display_data"
    },
    {
     "data": {
      "text/latex": [
       "$\\displaystyle 2 \\cos{\\left(0.111097125297097 \\pi \\right)}\\mathbf{\\hat{n}_x} -  2 \\sin{\\left(0.111097125297097 \\pi \\right)}\\mathbf{\\hat{n}_y}$"
      ],
      "text/plain": [
       "2⋅cos(0.111097125297097⋅π) n_x + -2⋅sin(0.111097125297097⋅π) n_y"
      ]
     },
     "metadata": {},
     "output_type": "display_data"
    },
    {
     "data": {
      "text/latex": [
       "$\\displaystyle 2 \\cos{\\left(0.110985259909223 \\pi \\right)}\\mathbf{\\hat{n}_x} -  2 \\sin{\\left(0.110985259909223 \\pi \\right)}\\mathbf{\\hat{n}_y}$"
      ],
      "text/plain": [
       "2⋅cos(0.110985259909223⋅π) n_x + -2⋅sin(0.110985259909223⋅π) n_y"
      ]
     },
     "metadata": {},
     "output_type": "display_data"
    },
    {
     "data": {
      "text/latex": [
       "$\\displaystyle 2 \\cos{\\left(0.11042649605125 \\pi \\right)}\\mathbf{\\hat{n}_x} -  2 \\sin{\\left(0.11042649605125 \\pi \\right)}\\mathbf{\\hat{n}_y}$"
      ],
      "text/plain": [
       "2⋅cos(0.11042649605125⋅π) n_x + -2⋅sin(0.11042649605125⋅π) n_y"
      ]
     },
     "metadata": {},
     "output_type": "display_data"
    },
    {
     "data": {
      "text/latex": [
       "$\\displaystyle 2 \\cos{\\left(0.109423083668023 \\pi \\right)}\\mathbf{\\hat{n}_x} -  2 \\sin{\\left(0.109423083668023 \\pi \\right)}\\mathbf{\\hat{n}_y}$"
      ],
      "text/plain": [
       "2⋅cos(0.109423083668023⋅π) n_x + -2⋅sin(0.109423083668023⋅π) n_y"
      ]
     },
     "metadata": {},
     "output_type": "display_data"
    },
    {
     "data": {
      "text/latex": [
       "$\\displaystyle 2 \\cos{\\left(0.10797906314706 \\pi \\right)}\\mathbf{\\hat{n}_x} -  2 \\sin{\\left(0.10797906314706 \\pi \\right)}\\mathbf{\\hat{n}_y}$"
      ],
      "text/plain": [
       "2⋅cos(0.10797906314706⋅π) n_x + -2⋅sin(0.10797906314706⋅π) n_y"
      ]
     },
     "metadata": {},
     "output_type": "display_data"
    },
    {
     "data": {
      "text/latex": [
       "$\\displaystyle 2 \\cos{\\left(0.106100249049342 \\pi \\right)}\\mathbf{\\hat{n}_x} -  2 \\sin{\\left(0.106100249049342 \\pi \\right)}\\mathbf{\\hat{n}_y}$"
      ],
      "text/plain": [
       "2⋅cos(0.106100249049342⋅π) n_x + -2⋅sin(0.106100249049342⋅π) n_y"
      ]
     },
     "metadata": {},
     "output_type": "display_data"
    },
    {
     "data": {
      "text/latex": [
       "$\\displaystyle 2 \\cos{\\left(0.103794206696123 \\pi \\right)}\\mathbf{\\hat{n}_x} -  2 \\sin{\\left(0.103794206696123 \\pi \\right)}\\mathbf{\\hat{n}_y}$"
      ],
      "text/plain": [
       "2⋅cos(0.103794206696123⋅π) n_x + -2⋅sin(0.103794206696123⋅π) n_y"
      ]
     },
     "metadata": {},
     "output_type": "display_data"
    },
    {
     "data": {
      "text/latex": [
       "$\\displaystyle 2 \\cos{\\left(0.101070221706058 \\pi \\right)}\\mathbf{\\hat{n}_x} -  2 \\sin{\\left(0.101070221706058 \\pi \\right)}\\mathbf{\\hat{n}_y}$"
      ],
      "text/plain": [
       "2⋅cos(0.101070221706058⋅π) n_x + -2⋅sin(0.101070221706058⋅π) n_y"
      ]
     },
     "metadata": {},
     "output_type": "display_data"
    },
    {
     "data": {
      "text/latex": [
       "$\\displaystyle 2 \\cos{\\left(0.0979392626052869 \\pi \\right)}\\mathbf{\\hat{n}_x} -  2 \\sin{\\left(0.0979392626052869 \\pi \\right)}\\mathbf{\\hat{n}_y}$"
      ],
      "text/plain": [
       "2⋅cos(0.0979392626052869⋅π) n_x + -2⋅sin(0.0979392626052869⋅π) n_y"
      ]
     },
     "metadata": {},
     "output_type": "display_data"
    },
    {
     "data": {
      "text/latex": [
       "$\\displaystyle 2 \\cos{\\left(0.0944139366610571 \\pi \\right)}\\mathbf{\\hat{n}_x} -  2 \\sin{\\left(0.0944139366610571 \\pi \\right)}\\mathbf{\\hat{n}_y}$"
      ],
      "text/plain": [
       "2⋅cos(0.0944139366610571⋅π) n_x + -2⋅sin(0.0944139366610571⋅π) n_y"
      ]
     },
     "metadata": {},
     "output_type": "display_data"
    },
    {
     "data": {
      "text/latex": [
       "$\\displaystyle 2 \\cos{\\left(0.090508439116704 \\pi \\right)}\\mathbf{\\hat{n}_x} -  2 \\sin{\\left(0.090508439116704 \\pi \\right)}\\mathbf{\\hat{n}_y}$"
      ],
      "text/plain": [
       "2⋅cos(0.090508439116704⋅π) n_x + -2⋅sin(0.090508439116704⋅π) n_y"
      ]
     },
     "metadata": {},
     "output_type": "display_data"
    },
    {
     "data": {
      "text/latex": [
       "$\\displaystyle 2 \\cos{\\left(0.0862384960324174 \\pi \\right)}\\mathbf{\\hat{n}_x} -  2 \\sin{\\left(0.0862384960324174 \\pi \\right)}\\mathbf{\\hat{n}_y}$"
      ],
      "text/plain": [
       "2⋅cos(0.0862384960324174⋅π) n_x + -2⋅sin(0.0862384960324174⋅π) n_y"
      ]
     },
     "metadata": {},
     "output_type": "display_data"
    },
    {
     "data": {
      "text/latex": [
       "$\\displaystyle 2 \\cos{\\left(0.0816213009619481 \\pi \\right)}\\mathbf{\\hat{n}_x} -  2 \\sin{\\left(0.0816213009619481 \\pi \\right)}\\mathbf{\\hat{n}_y}$"
      ],
      "text/plain": [
       "2⋅cos(0.0816213009619481⋅π) n_x + -2⋅sin(0.0816213009619481⋅π) n_y"
      ]
     },
     "metadata": {},
     "output_type": "display_data"
    },
    {
     "data": {
      "text/latex": [
       "$\\displaystyle 2 \\cos{\\left(0.0766754457202347 \\pi \\right)}\\mathbf{\\hat{n}_x} -  2 \\sin{\\left(0.0766754457202347 \\pi \\right)}\\mathbf{\\hat{n}_y}$"
      ],
      "text/plain": [
       "2⋅cos(0.0766754457202347⋅π) n_x + -2⋅sin(0.0766754457202347⋅π) n_y"
      ]
     },
     "metadata": {},
     "output_type": "display_data"
    },
    {
     "data": {
      "text/latex": [
       "$\\displaystyle 2 \\cos{\\left(0.0714208455207266 \\pi \\right)}\\mathbf{\\hat{n}_x} -  2 \\sin{\\left(0.0714208455207266 \\pi \\right)}\\mathbf{\\hat{n}_y}$"
      ],
      "text/plain": [
       "2⋅cos(0.0714208455207266⋅π) n_x + -2⋅sin(0.0714208455207266⋅π) n_y"
      ]
     },
     "metadata": {},
     "output_type": "display_data"
    },
    {
     "data": {
      "text/latex": [
       "$\\displaystyle 2 \\cos{\\left(0.0658786587838489 \\pi \\right)}\\mathbf{\\hat{n}_x} -  2 \\sin{\\left(0.0658786587838489 \\pi \\right)}\\mathbf{\\hat{n}_y}$"
      ],
      "text/plain": [
       "2⋅cos(0.0658786587838489⋅π) n_x + -2⋅sin(0.0658786587838489⋅π) n_y"
      ]
     },
     "metadata": {},
     "output_type": "display_data"
    },
    {
     "data": {
      "text/latex": [
       "$\\displaystyle 2 \\cos{\\left(0.0600712019395108 \\pi \\right)}\\mathbf{\\hat{n}_x} -  2 \\sin{\\left(0.0600712019395108 \\pi \\right)}\\mathbf{\\hat{n}_y}$"
      ],
      "text/plain": [
       "2⋅cos(0.0600712019395108⋅π) n_x + -2⋅sin(0.0600712019395108⋅π) n_y"
      ]
     },
     "metadata": {},
     "output_type": "display_data"
    },
    {
     "data": {
      "text/latex": [
       "$\\displaystyle 2 \\cos{\\left(0.0540218595667188 \\pi \\right)}\\mathbf{\\hat{n}_x} -  2 \\sin{\\left(0.0540218595667188 \\pi \\right)}\\mathbf{\\hat{n}_y}$"
      ],
      "text/plain": [
       "2⋅cos(0.0540218595667188⋅π) n_x + -2⋅sin(0.0540218595667188⋅π) n_y"
      ]
     },
     "metadata": {},
     "output_type": "display_data"
    },
    {
     "data": {
      "text/latex": [
       "$\\displaystyle 2 \\cos{\\left(0.0477549902321302 \\pi \\right)}\\mathbf{\\hat{n}_x} -  2 \\sin{\\left(0.0477549902321302 \\pi \\right)}\\mathbf{\\hat{n}_y}$"
      ],
      "text/plain": [
       "2⋅cos(0.0477549902321302⋅π) n_x + -2⋅sin(0.0477549902321302⋅π) n_y"
      ]
     },
     "metadata": {},
     "output_type": "display_data"
    },
    {
     "data": {
      "text/latex": [
       "$\\displaystyle 2 \\cos{\\left(0.041295828406703 \\pi \\right)}\\mathbf{\\hat{n}_x} -  2 \\sin{\\left(0.041295828406703 \\pi \\right)}\\mathbf{\\hat{n}_y}$"
      ],
      "text/plain": [
       "2⋅cos(0.041295828406703⋅π) n_x + -2⋅sin(0.041295828406703⋅π) n_y"
      ]
     },
     "metadata": {},
     "output_type": "display_data"
    },
    {
     "data": {
      "text/latex": [
       "$\\displaystyle 2 \\cos{\\left(0.0346703828553874 \\pi \\right)}\\mathbf{\\hat{n}_x} -  2 \\sin{\\left(0.0346703828553874 \\pi \\right)}\\mathbf{\\hat{n}_y}$"
      ],
      "text/plain": [
       "2⋅cos(0.0346703828553874⋅π) n_x + -2⋅sin(0.0346703828553874⋅π) n_y"
      ]
     },
     "metadata": {},
     "output_type": "display_data"
    },
    {
     "data": {
      "text/latex": [
       "$\\displaystyle 2 \\cos{\\left(0.0279053319090088 \\pi \\right)}\\mathbf{\\hat{n}_x} -  2 \\sin{\\left(0.0279053319090088 \\pi \\right)}\\mathbf{\\hat{n}_y}$"
      ],
      "text/plain": [
       "2⋅cos(0.0279053319090088⋅π) n_x + -2⋅sin(0.0279053319090088⋅π) n_y"
      ]
     },
     "metadata": {},
     "output_type": "display_data"
    },
    {
     "data": {
      "text/latex": [
       "$\\displaystyle 2 \\cos{\\left(0.0210279160400455 \\pi \\right)}\\mathbf{\\hat{n}_x} -  2 \\sin{\\left(0.0210279160400455 \\pi \\right)}\\mathbf{\\hat{n}_y}$"
      ],
      "text/plain": [
       "2⋅cos(0.0210279160400455⋅π) n_x + -2⋅sin(0.0210279160400455⋅π) n_y"
      ]
     },
     "metadata": {},
     "output_type": "display_data"
    },
    {
     "data": {
      "text/latex": [
       "$\\displaystyle 2 \\cos{\\left(0.014065828174861 \\pi \\right)}\\mathbf{\\hat{n}_x} -  2 \\sin{\\left(0.014065828174861 \\pi \\right)}\\mathbf{\\hat{n}_y}$"
      ],
      "text/plain": [
       "2⋅cos(0.014065828174861⋅π) n_x + -2⋅sin(0.014065828174861⋅π) n_y"
      ]
     },
     "metadata": {},
     "output_type": "display_data"
    },
    {
     "data": {
      "text/latex": [
       "$\\displaystyle 2 \\cos{\\left(0.00704710218406272 \\pi \\right)}\\mathbf{\\hat{n}_x} -  2 \\sin{\\left(0.00704710218406272 \\pi \\right)}\\mathbf{\\hat{n}_y}$"
      ],
      "text/plain": [
       "2⋅cos(0.00704710218406272⋅π) n_x + -2⋅sin(0.00704710218406272⋅π) n_y"
      ]
     },
     "metadata": {},
     "output_type": "display_data"
    },
    {
     "data": {
      "text/latex": [
       "$\\displaystyle 2 \\cos{\\left(2.72143733143856 \\cdot 10^{-17} \\pi \\right)}\\mathbf{\\hat{n}_x} -  2 \\sin{\\left(2.72143733143856 \\cdot 10^{-17} \\pi \\right)}\\mathbf{\\hat{n}_y}$"
      ],
      "text/plain": [
       "2⋅cos(2.72143733143856e-17⋅π) n_x + -2⋅sin(2.72143733143856e-17⋅π) n_y"
      ]
     },
     "metadata": {},
     "output_type": "display_data"
    }
   ],
   "source": [
    "theta1, theta2 = dynamicsymbols('theta1 theta2') # q1 y q2\n",
    "L1, L2, t = symbols('L1 L2 t') # a1, a2  y tiempo\n",
    "N = ReferenceFrame('N')\n",
    "A = N.orientnew('A', 'Axis', [theta1, N.z])\n",
    "B = A.orientnew('B', 'Axis', [theta2, A.z]) # Note que B lo definimos con respecto a A así no hay que pensar B en terminos de B\n",
    "P1 = L1 * A.x # Existe un P1 en L1  por A_x\n",
    "P2 = L2 * B.x # Existe un P2 en L2 con respecto a B_x\n",
    "P3 = P1+P2\n",
    "vector_pos_efector = P3.express(N).simplify()\n",
    "\n",
    "display(vector_pos_efector)\n",
    "\n",
    "valores = {\n",
    "    theta1: rad(20)*sin(t),\n",
    "    theta2: rad(0)*cos(t),\n",
    "    L1: 1,\n",
    "    L2: 1\n",
    "}\n",
    "\n",
    "display(vector_pos_efector.subs(valores))\n",
    "    \n",
    "xs, ys = [], []\n",
    "for t1 in range(-90, 91, 10):\n",
    "    for t2 in range(-90, 91, 10):\n",
    "        x, y = scara2d(t1, t2, 1, 1)\n",
    "        xs.append(x)\n",
    "        ys.append(y)\n",
    "\n",
    "# Plot\n",
    "plt.figure(figsize=(6,6))\n",
    "plt.scatter(xs, ys, s=2, color=\"blue\")\n",
    "plt.xlabel(\"X [m]\")\n",
    "plt.ylabel(\"Y [m]\")\n",
    "plt.title(\"SCARA 2D Workspace\")\n",
    "plt.axis(\"equal\")\n",
    "plt.grid(True)\n",
    "plt.show()"
   ]
  },
  {
   "cell_type": "markdown",
   "id": "85895ed0",
   "metadata": {},
   "source": [
    "# Ejemplo en clase"
   ]
  },
  {
   "cell_type": "code",
   "execution_count": null,
   "id": "15f2ec2e",
   "metadata": {},
   "outputs": [
    {
     "data": {
      "text/latex": [
       "$\\displaystyle (- r \\dot{\\theta}^{2} + \\ddot{r})\\mathbf{\\hat{a}_x} + (r \\ddot{\\theta} + 2 \\dot{r} \\dot{\\theta})\\mathbf{\\hat{a}_y}$"
      ],
      "text/plain": [
       "⎛     2    ⎞                        \n",
       "⎝- r⋅θ̇  + r̈⎠ a_x + (r⋅θ̈ + 2⋅ṙ⋅θ̇) a_y"
      ]
     },
     "execution_count": 85,
     "metadata": {},
     "output_type": "execute_result"
    }
   ],
   "source": [
    "x, y, theta, r= dynamicsymbols(\"x y theta r\")\n",
    "t = symbols(\"t\")\n",
    "N = ReferenceFrame(\"N\")\n",
    "r1 = 1*N.x + 2*N.y\n",
    "r2 = 3*N.x + 5*N.y\n",
    "\n",
    "r1.dot(r2)\n",
    "\n",
    "# ------------\n",
    "# N.orientnew?\n",
    "\n",
    "# A es el marco que vamos a rotar\n",
    "# A es el nombre del nuevo marco\n",
    "# Luego va el tipo de rotación\n",
    "# Y finalmente los ángulos y el eje respecto al que rota\n",
    "\n",
    "A = N.orientnew('A', 'Axis', [theta, N.z])\n",
    "\n",
    "P1 = x*N.x + y*N.y\n",
    "P2 = r*A.x\n",
    "\n",
    "P2 = P2.express(N)\n",
    "\n",
    "a = P2.diff(t, N).diff(t,N).express(A).simplify()\n",
    "\n",
    "# Sustituyendo la aceleración angular por cero\n",
    "a.subs({theta.diff(t).diff(t) : 0})\n",
    "\n",
    "a"
   ]
  },
  {
   "cell_type": "code",
   "execution_count": null,
   "id": "dc4e8579",
   "metadata": {},
   "outputs": [
    {
     "data": {
      "text/latex": [
       "$\\displaystyle \\left[\\begin{matrix}\\cos{\\left(\\theta \\right)} & \\sin{\\left(\\theta \\right)} & 0\\\\- \\sin{\\left(\\theta \\right)} & \\cos{\\left(\\theta \\right)} & 0\\\\0 & 0 & 1\\end{matrix}\\right]$"
      ],
      "text/plain": [
       "⎡cos(θ)   sin(θ)  0⎤\n",
       "⎢                  ⎥\n",
       "⎢-sin(θ)  cos(θ)  0⎥\n",
       "⎢                  ⎥\n",
       "⎣   0       0     1⎦"
      ]
     },
     "execution_count": 61,
     "metadata": {},
     "output_type": "execute_result"
    }
   ],
   "source": [
    "# Matriz de cosenos y vectores\n",
    "A.dcm(N)"
   ]
  }
 ],
 "metadata": {
  "kernelspec": {
   "display_name": "Python 3",
   "language": "python",
   "name": "python3"
  },
  "language_info": {
   "codemirror_mode": {
    "name": "ipython",
    "version": 3
   },
   "file_extension": ".py",
   "mimetype": "text/x-python",
   "name": "python",
   "nbconvert_exporter": "python",
   "pygments_lexer": "ipython3",
   "version": "3.13.6"
  }
 },
 "nbformat": 4,
 "nbformat_minor": 5
}
