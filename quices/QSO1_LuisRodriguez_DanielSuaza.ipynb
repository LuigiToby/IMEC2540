{
 "cells": [
  {
   "cell_type": "markdown",
   "id": "4a6609d8",
   "metadata": {},
   "source": [
    "## [Luis Alejandro Rodríguez Arenas](https://luigitoby.github.io/) y [Daniel Suaza](https://Azaus123.github.io/)\n",
    "## Cod. 202321287  \n",
    "# Quiz 1\n"
   ]
  },
  {
   "cell_type": "code",
   "execution_count": 1,
   "id": "e5550a5f",
   "metadata": {},
   "outputs": [],
   "source": [
    "import numpy as np\n",
    "import matplotlib.pyplot as plt\n",
    "from matplotlib.animation import FuncAnimation\n",
    "from sympy import symbols, Matrix, pi, cos, sin, simplify, eye, solve, acos, asin,  latex, atan2, pprint, init_printing, Derivative, sqrt, rad\n",
    "from sympy.physics.mechanics import ReferenceFrame, dynamicsymbols, init_vprinting, Point\n",
    "\n",
    "# Configuración de impresión en formato LaTeX (MathJax)\n",
    "init_vprinting(use_latex='mathjax')"
   ]
  },
  {
   "cell_type": "code",
   "execution_count": 2,
   "id": "a8fcfbd8",
   "metadata": {},
   "outputs": [],
   "source": [
    "# Para la animación\n",
    "# pip install ipywidgets"
   ]
  },
  {
   "cell_type": "markdown",
   "id": "5a735a5e",
   "metadata": {},
   "source": [
    "# Ejercicio 1 - Dinámica directa para Escara 2D"
   ]
  },
  {
   "cell_type": "code",
   "execution_count": 3,
   "id": "d1e265ea",
   "metadata": {},
   "outputs": [
    {
     "name": "stdout",
     "output_type": "stream",
     "text": [
      "\n",
      "Vector de posición del efector (en marco N):\n"
     ]
    },
    {
     "data": {
      "text/latex": [
       "$\\displaystyle (L_{1} \\cos{\\left(\\theta_{1} \\right)} + L_{2} \\cos{\\left(\\theta_{1} + \\theta_{2} \\right)})\\mathbf{\\hat{n}_x} + (L_{1} \\sin{\\left(\\theta_{1} \\right)} + L_{2} \\sin{\\left(\\theta_{1} + \\theta_{2} \\right)})\\mathbf{\\hat{n}_y}$"
      ],
      "text/plain": [
       "(L₁⋅cos(θ₁) + L₂⋅cos(θ₁ + θ₂)) n_x + (L₁⋅sin(θ₁) + L₂⋅sin(θ₁ + θ₂)) n_y"
      ]
     },
     "metadata": {},
     "output_type": "display_data"
    },
    {
     "name": "stdout",
     "output_type": "stream",
     "text": [
      "\n",
      "Posición numérica del efector:\n",
      "x = 0.0000\n",
      "y = 3.0000\n"
     ]
    }
   ],
   "source": [
    "# Variables simbólicas\n",
    "theta1, theta2 = dynamicsymbols('theta1 theta2') # q1 y q2\n",
    "L1, L2 = symbols('L1 L2') # a1 y a2\n",
    "\n",
    "# Marcos de referencia, pero se usan dos por las dos uniones de los links\n",
    "# Mi marco de referencia x-y\n",
    "N = ReferenceFrame('N')\n",
    "# Creo un nuevo marco de referencia con respecto a N, A_x-A_y. Depende de theta1\n",
    "A = N.orientnew('A', 'Axis', [theta1, N.z])\n",
    "# Creo un nuevo marco de referencia con respecto a A, B_y-B_x. Depende de theta2\n",
    "B = A.orientnew('B', 'Axis', [theta2, A.z]) # Note que B lo definimos con respecto a A así no hay que pensar B en terminos de B\n",
    "\n",
    "# Origen\n",
    "O = Point('O')\n",
    "\n",
    "P1 = O.locatenew('P1', L1 * A.x) # Existe un P1 en L1  por A_x\n",
    "P2 = P1.locatenew('P2', L2 * B.x) # Existe un P2 en L2 con respecto a B_x\n",
    "\n",
    "# Vector de posición del efector\n",
    "vector_pos_efector = P2.pos_from(O).express(N).simplify()\n",
    "print(\"\\nVector de posición del efector (en marco N):\")\n",
    "display(vector_pos_efector)\n",
    "# Hasta aca vamos bien\n",
    "\n",
    "\n",
    "# Evaluación numérica de ejemplo\n",
    "valores = {\n",
    "    theta1: rad(90),\n",
    "    theta2: rad(0),\n",
    "    L1: 2,\n",
    "    L2: 1\n",
    "}\n",
    "\n",
    "vector_numerico = vector_pos_efector.subs(valores).evalf()\n",
    "x = vector_numerico.dot(N.x)\n",
    "y = vector_numerico.dot(N.y)\n",
    "print(f\"\\nPosición numérica del efector:\\nx = {x:.4f}\\ny = {y:.4f}\")"
   ]
  },
  {
   "cell_type": "code",
   "execution_count": 4,
   "id": "1246709f",
   "metadata": {},
   "outputs": [
    {
     "name": "stdout",
     "output_type": "stream",
     "text": [
      "\n",
      "Vector de posición del efector (en marco N):\n"
     ]
    },
    {
     "data": {
      "text/latex": [
       "$\\displaystyle (L_{1} \\cos{\\left(\\theta_{1} \\right)} + L_{2} \\cos{\\left(\\theta_{1} + \\theta_{2} \\right)})\\mathbf{\\hat{n}_x} + (L_{1} \\sin{\\left(\\theta_{1} \\right)} + L_{2} \\sin{\\left(\\theta_{1} + \\theta_{2} \\right)})\\mathbf{\\hat{n}_y}$"
      ],
      "text/plain": [
       "(L₁⋅cos(θ₁) + L₂⋅cos(θ₁ + θ₂)) n_x + (L₁⋅sin(θ₁) + L₂⋅sin(θ₁ + θ₂)) n_y"
      ]
     },
     "metadata": {},
     "output_type": "display_data"
    },
    {
     "name": "stdout",
     "output_type": "stream",
     "text": [
      "\n",
      "Posición numérica del efector:\n",
      "x = 1.4142\n",
      "y = 1.4142\n"
     ]
    }
   ],
   "source": [
    "# Variables simbólicas\n",
    "theta1, theta2 = dynamicsymbols('theta1 theta2') # q1 y q2\n",
    "L1, L2 = symbols('L1 L2') # a1 y a2\n",
    "\n",
    "# Marcos de referencia, pero se usan dos por las dos uniones de los links\n",
    "# Mi marco de referencia x-y\n",
    "N = ReferenceFrame('N')\n",
    "# Creo un nuevo marco de referencia con respecto a N, A_x-A_y. Depende de theta1\n",
    "A = N.orientnew('A', 'Axis', [theta1, N.z])\n",
    "# Creo un nuevo marco de referencia con respecto a A, B_y-B_x. Depende de theta2\n",
    "B = A.orientnew('B', 'Axis', [theta2, A.z]) # Note que B lo definimos con respecto a A así no hay que pensar B en terminos de B\n",
    "P1 = L1 * A.x # Existe un P1 en L1  por A_x\n",
    "P2 = L2 * B.x # Existe un P2 en L2 con respecto a B_x\n",
    "P3 = P1+P2\n",
    "vector_pos_efector = P3.express(N).simplify()\n",
    "print(\"\\nVector de posición del efector (en marco N):\")\n",
    "display(vector_pos_efector)\n",
    "# Hasta aca vamos bien\n",
    "\n",
    "\n",
    "# Evaluación numérica de ejemplo\n",
    "valores = {\n",
    "    theta1: rad(45),\n",
    "    theta2: rad(0),\n",
    "    L1: 1,\n",
    "    L2: 1\n",
    "}\n",
    "\n",
    "vector_numerico = vector_pos_efector.subs(valores).evalf()\n",
    "x = vector_numerico.dot(N.x)\n",
    "y = vector_numerico.dot(N.y)\n",
    "print(f\"\\nPosición numérica del efector:\\nx = {x:.4f}\\ny = {y:.4f}\")"
   ]
  },
  {
   "cell_type": "markdown",
   "id": "0c1e746f",
   "metadata": {},
   "source": [
    "# Implementación como función \n",
    "## Para esto se uso ChatGPT, entonces la implementación on es del todo original (Animación)"
   ]
  },
  {
   "cell_type": "code",
   "execution_count": 5,
   "id": "42ebfb7c",
   "metadata": {},
   "outputs": [
    {
     "data": {
      "image/png": "[encoded data removed]",
      "text/plain": [
       "<Figure size 500x500 with 1 Axes>"
      ]
     },
     "metadata": {},
     "output_type": "display_data"
    }
   ],
   "source": [
    "import numpy as np\n",
    "import matplotlib.pyplot as plt\n",
    "\n",
    "# ==== AQUÍ CAMBIA LOS VALORES ====\n",
    "theta1 = 45   # grados\n",
    "theta2 = 234   # grados\n",
    "L1 = 1        # longitud del primer brazo\n",
    "L2 = 1.5        # longitud del segundo brazo\n",
    "# ================================\n",
    "\n",
    "# Cinemática directa simple\n",
    "theta1_rad = np.deg2rad(theta1)\n",
    "theta2_rad = np.deg2rad(theta2)\n",
    "\n",
    "# Primer punto (articulación 1)\n",
    "x1 = L1 * np.cos(theta1_rad)\n",
    "y1 = L1 * np.sin(theta1_rad)\n",
    "\n",
    "# Segundo punto (efector final)\n",
    "x2 = x1 + L2 * np.cos(theta1_rad + theta2_rad)\n",
    "y2 = y1 + L2 * np.sin(theta1_rad + theta2_rad)\n",
    "\n",
    "# Graficar\n",
    "plt.figure(figsize=(5,5))\n",
    "plt.plot([0, x1, x2], [0, y1, y2], 'o-', lw=4)\n",
    "plt.plot(x2, y2, 'ro', markersize=10)\n",
    "plt.xlim(-L1-L2-0.5, L1+L2+0.5)\n",
    "plt.ylim(-L1-L2-0.5, L1+L2+0.5)\n",
    "plt.gca().set_aspect('equal')\n",
    "plt.title(f\"SCARA 2D\\nTheta1={theta1:.1f}°, Theta2={theta2:.1f}°, L1={L1}, L2={L2}\")\n",
    "plt.grid(True)\n",
    "plt.show()"
   ]
  },
  {
   "cell_type": "code",
   "execution_count": null,
   "id": "8cbc9678",
   "metadata": {},
   "outputs": [],
   "source": [
    "import numpy as np\n",
    "import matplotlib.pyplot as plt\n",
    "import ipywidgets as widgets\n",
    "from ipywidgets import interact\n",
    "\n",
    "def scara_plot(theta1, theta2, L1, L2):\n",
    "    # Convertir a radianes\n",
    "    theta1_rad = np.deg2rad(theta1)\n",
    "    theta2_rad = np.deg2rad(theta2)\n",
    "\n",
    "    # Cinemática directa\n",
    "    x1 = L1 * np.cos(theta1_rad)\n",
    "    y1 = L1 * np.sin(theta1_rad)\n",
    "\n",
    "    x2 = x1 + L2 * np.cos(theta1_rad + theta2_rad)\n",
    "    y2 = y1 + L2 * np.sin(theta1_rad + theta2_rad)\n",
    "\n",
    "    # Graficar\n",
    "    plt.figure(figsize=(5,5))\n",
    "    plt.plot([0, x1, x2], [0, y1, y2], 'o-', lw=4)\n",
    "    plt.plot(x2, y2, 'ro', markersize=10)\n",
    "    plt.xlim(-L1-L2-0.5, L1+L2+0.5)\n",
    "    plt.ylim(-L1-L2-0.5, L1+L2+0.5)\n",
    "    plt.gca().set_aspect('equal')\n",
    "    plt.title(f\"SCARA 2D\\nTheta1={theta1:.1f}°, Theta2={theta2:.1f}°, L1={L1}, L2={L2}\")\n",
    "    plt.grid(True)\n",
    "    plt.show()\n",
    "\n",
    "# Crear sliders interactivos\n",
    "interact(\n",
    "    scara_plot,\n",
    "    theta1=widgets.FloatSlider(value=45, min=-180, max=180, step=1, description=\"Theta1 (°)\"),\n",
    "    theta2=widgets.FloatSlider(value=234, min=-180, max=180, step=1, description=\"Theta2 (°)\"),\n",
    "    L1=widgets.FloatSlider(value=1.0, min=0.1, max=3.0, step=0.1, description=\"L1 (m)\"),\n",
    "    L2=widgets.FloatSlider(value=1.5, min=0.1, max=3.0, step=0.1, description=\"L2 (m)\")\n",
    ")\n"
   ]
  },
  {
   "cell_type": "markdown",
   "id": "226a78bd",
   "metadata": {},
   "source": [
    "# Encontremos el espacio de trabajo del robot\n",
    "\n",
    "## WARNING NO CORRER ESTO PORQUE ESTA DEMORANDO MUCHO EN CREAR EL ARRAY"
   ]
  },
  {
   "cell_type": "code",
   "execution_count": null,
   "id": "9adea739",
   "metadata": {},
   "outputs": [
    {
     "ename": "IndentationError",
     "evalue": "unexpected indent (2008269309.py, line 50)",
     "output_type": "error",
     "traceback": [
      "  \u001b[36mCell\u001b[39m\u001b[36m \u001b[39m\u001b[32mIn[7]\u001b[39m\u001b[32m, line 50\u001b[39m\n\u001b[31m    \u001b[39m\u001b[31mx, y = scara2d(t1, t2, 1, 1)\u001b[39m\n    ^\n\u001b[31mIndentationError\u001b[39m\u001b[31m:\u001b[39m unexpected indent\n"
     ]
    }
   ],
   "source": [
    "theta1, theta2 = dynamicsymbols('theta1 theta2') # q1 y q2\n",
    "L1, L2 = symbols('L1 L2') # a1 y a2\n",
    "\n",
    "def scara2d(tet1, tet2, l1, l2):\n",
    "    N = ReferenceFrame('N')\n",
    "    A = N.orientnew('A', 'Axis', [theta1, N.z])\n",
    "    B = A.orientnew('B', 'Axis', [theta2, A.z]) # Note que B lo definimos con respecto a A así no hay que pensar B en terminos de B\n",
    "    O = Point('O')\n",
    "    P1 = O.locatenew('P1', L1 * A.x) # Existe un P1 en L1  por A_x\n",
    "    P2 = P1.locatenew('P2', L2 * B.x) # Existe un P2 en L2 con respecto a B_x\n",
    "    vector_pos_efector = P2.pos_from(O).express(N).simplify()\n",
    "\n",
    "    valores = {\n",
    "        theta1: rad(tet1),\n",
    "        theta2: rad(tet2),\n",
    "        L1: l1,\n",
    "        L2: l2\n",
    "    \n",
    "    }\n",
    "    vector_numerico = vector_pos_efector.subs(valores).evalf()\n",
    "    x = vector_numerico.dot(N.x)\n",
    "    y = vector_numerico.dot(N.y)\n",
    "    \n",
    "    return (x,y)\n",
    "\n",
    "# lista_posiciones = []\n",
    "#for n in range(0,90, 10):\n",
    "#    for y in range(0,90,10):\n",
    "#        x, y = scara2d(n, y, 1, 1)\n",
    "#        lista_posiciones.append((x,y))\n",
    "#\n",
    "#for i, (x, y) in enumerate(lista_posiciones):\n",
    "#   print(f\"Posición numérica del efector {i}:\\nx = {x:.4f}\\ny = {y:.4f}\")\n",
    "\n",
    "# Crear arrays de ángulos de 0° a 90° con paso de 1°\n",
    "theta1_vals = np.arange(-90, 91, 1)\n",
    "theta2_vals = np.arange(-90, 91, 1)\n",
    "\n",
    "# Crear todas las combinaciones posibles de ángulos usando meshgrid\n",
    "T1, T2 = np.meshgrid(theta1_vals, theta2_vals)\n",
    "\n",
    "# Aplanar para iterar en un solo for\n",
    "# T1_flat = T1.ravel()\n",
    "# T2_flat = T2.ravel()\n",
    "\n",
    "# Guardar resultados\n",
    "xs, ys = [], [] \n",
    "\n",
    "# for t1, t2 in zip(T1_flat, T2_flat):\n",
    "    x, y = scara2d(t1, t2, 1, 1)\n",
    "    xs.append(x)\n",
    "    ys.append(y)\n",
    "\n",
    "# Graficar el espacio de trabajo\n",
    "plt.figure(figsize=(6,6))\n",
    "plt.scatter(xs, ys, s=5, color=\"blue\")\n",
    "plt.xlabel(\"X [m]\")\n",
    "plt.ylabel(\"Y [m]\")\n",
    "plt.title(\"Espacio de trabajo SCARA 2D\")\n",
    "plt.axis(\"equal\")\n",
    "plt.grid(True)\n",
    "plt.show()"
   ]
  },
  {
   "cell_type": "markdown",
   "id": "85895ed0",
   "metadata": {},
   "source": [
    "# Ejemplo en clase"
   ]
  },
  {
   "cell_type": "code",
   "execution_count": null,
   "id": "15f2ec2e",
   "metadata": {},
   "outputs": [
    {
     "data": {
      "text/latex": [
       "$\\displaystyle (- r \\dot{\\theta}^{2} + \\ddot{r})\\mathbf{\\hat{a}_x} + (r \\ddot{\\theta} + 2 \\dot{r} \\dot{\\theta})\\mathbf{\\hat{a}_y}$"
      ],
      "text/plain": [
       "⎛     2    ⎞                        \n",
       "⎝- r⋅θ̇  + r̈⎠ a_x + (r⋅θ̈ + 2⋅ṙ⋅θ̇) a_y"
      ]
     },
     "execution_count": 85,
     "metadata": {},
     "output_type": "execute_result"
    }
   ],
   "source": [
    "x, y, theta, r= dynamicsymbols(\"x y theta r\")\n",
    "t = symbols(\"t\")\n",
    "N = ReferenceFrame(\"N\")\n",
    "r1 = 1*N.x + 2*N.y\n",
    "r2 = 3*N.x + 5*N.y\n",
    "\n",
    "r1.dot(r2)\n",
    "\n",
    "# ------------\n",
    "# N.orientnew?\n",
    "\n",
    "# A es el marco que vamos a rotar\n",
    "# A es el nombre del nuevo marco\n",
    "# Luego va el tipo de rotación\n",
    "# Y finalmente los ángulos y el eje respecto al que rota\n",
    "\n",
    "A = N.orientnew('A', 'Axis', [theta, N.z])\n",
    "\n",
    "P1 = x*N.x + y*N.y\n",
    "P2 = r*A.x\n",
    "\n",
    "P2 = P2.express(N)\n",
    "\n",
    "a = P2.diff(t, N).diff(t,N).express(A).simplify()\n",
    "\n",
    "# Sustituyendo la aceleración angular por cero\n",
    "a.subs({theta.diff(t).diff(t) : 0})\n",
    "\n",
    "a"
   ]
  },
  {
   "cell_type": "code",
   "execution_count": null,
   "id": "dc4e8579",
   "metadata": {},
   "outputs": [
    {
     "data": {
      "text/latex": [
       "$\\displaystyle \\left[\\begin{matrix}\\cos{\\left(\\theta \\right)} & \\sin{\\left(\\theta \\right)} & 0\\\\- \\sin{\\left(\\theta \\right)} & \\cos{\\left(\\theta \\right)} & 0\\\\0 & 0 & 1\\end{matrix}\\right]$"
      ],
      "text/plain": [
       "⎡cos(θ)   sin(θ)  0⎤\n",
       "⎢                  ⎥\n",
       "⎢-sin(θ)  cos(θ)  0⎥\n",
       "⎢                  ⎥\n",
       "⎣   0       0     1⎦"
      ]
     },
     "execution_count": 61,
     "metadata": {},
     "output_type": "execute_result"
    }
   ],
   "source": [
    "# Matriz de cosenos y vectores\n",
    "A.dcm(N)"
   ]
  }
 ],
 "metadata": {
  "kernelspec": {
   "display_name": "Python 3",
   "language": "python",
   "name": "python3"
  },
  "language_info": {
   "codemirror_mode": {
    "name": "ipython",
    "version": 3
   },
   "file_extension": ".py",
   "mimetype": "text/x-python",
   "name": "python",
   "nbconvert_exporter": "python",
   "pygments_lexer": "ipython3",
   "version": "3.13.6"
  }
 },
 "nbformat": 4,
 "nbformat_minor": 5
}
