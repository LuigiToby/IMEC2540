{
 "cells": [
  {
   "cell_type": "markdown",
   "id": "4a6609d8",
   "metadata": {},
   "source": [
    "## [Luis Alejandro Rodríguez Arenas](https://luigitoby.github.io/) y [Daniel Suaza](https://Azaus123.github.io/)\n",
    "## Cod. 202321287  \n",
    "# Quiz 1\n"
   ]
  },
  {
   "cell_type": "code",
   "execution_count": 2,
   "id": "e5550a5f",
   "metadata": {},
   "outputs": [],
   "source": [
    "import numpy as np\n",
    "import matplotlib.pyplot as plt\n",
    "from matplotlib.animation import FuncAnimation\n",
    "from sympy import symbols, Matrix, pi, cos, sin, simplify, eye, solve, acos, asin,  latex, atan2, pprint, init_printing, Derivative, sqrt, rad, sin, cos\n",
    "from sympy.physics.mechanics import ReferenceFrame, dynamicsymbols, init_vprinting, Point\n",
    "\n",
    "# Configuración de impresión en formato LaTeX (MathJax)\n",
    "init_vprinting(use_latex='mathjax')"
   ]
  },
  {
   "cell_type": "code",
   "execution_count": 3,
   "id": "a8fcfbd8",
   "metadata": {},
   "outputs": [],
   "source": [
    "# Para la animación\n",
    "# pip install ipywidgets"
   ]
  },
  {
   "cell_type": "markdown",
   "id": "5a735a5e",
   "metadata": {},
   "source": [
    "# Ejercicio barrita doblada"
   ]
  },
  {
   "cell_type": "code",
   "execution_count": 11,
   "id": "d1e265ea",
   "metadata": {},
   "outputs": [
    {
     "ename": "NameError",
     "evalue": "name 'symbol' is not defined",
     "output_type": "error",
     "traceback": [
      "\u001b[31m---------------------------------------------------------------------------\u001b[39m",
      "\u001b[31mNameError\u001b[39m                                 Traceback (most recent call last)",
      "\u001b[36mCell\u001b[39m\u001b[36m \u001b[39m\u001b[32mIn[11]\u001b[39m\u001b[32m, line 4\u001b[39m\n\u001b[32m      2\u001b[39m L2 = \u001b[32m0.3\u001b[39m\n\u001b[32m      3\u001b[39m theta = dynamicsymbols(\u001b[33m\"\u001b[39m\u001b[33mtheta\u001b[39m\u001b[33m\"\u001b[39m)\n\u001b[32m----> \u001b[39m\u001b[32m4\u001b[39m t = \u001b[43msymbol\u001b[49m(\u001b[33m\"\u001b[39m\u001b[33mt\u001b[39m\u001b[33m\"\u001b[39m)\n\u001b[32m      5\u001b[39m N = ReferenceFrame(\u001b[33m\"\u001b[39m\u001b[33mN\u001b[39m\u001b[33m\"\u001b[39m)\n\u001b[32m      6\u001b[39m A = N.orientnew(\u001b[33m\"\u001b[39m\u001b[33mA\u001b[39m\u001b[33m\"\u001b[39m, \u001b[33m\"\u001b[39m\u001b[33mAxis\u001b[39m\u001b[33m\"\u001b[39m, (theta, N.z))\n",
      "\u001b[31mNameError\u001b[39m: name 'symbol' is not defined"
     ]
    }
   ],
   "source": [
    "L1 = 0.5\n",
    "L2 = 0.3\n",
    "theta = dynamicsymbols(\"theta\")\n",
    "t = symbol(\"t\")\n",
    "N = ReferenceFrame(\"N\")\n",
    "A = N.orientnew(\"A\", \"Axis\", (theta, N.z))\n",
    "\n",
    "B = A.orientnew(\"B\", \"Axis\", (np.deg2rad(105), A.z))\n",
    "\n",
    "\n",
    "r_3 = -L1*A.x+L2*B.x\n",
    "r_3 = r_3.express(N)\n",
    "\n",
    "r_3. diff(t,N).diff(t,N)\n",
    "\n"
   ]
  }
 ],
 "metadata": {
  "kernelspec": {
   "display_name": "Python 3",
   "language": "python",
   "name": "python3"
  },
  "language_info": {
   "codemirror_mode": {
    "name": "ipython",
    "version": 3
   },
   "file_extension": ".py",
   "mimetype": "text/x-python",
   "name": "python",
   "nbconvert_exporter": "python",
   "pygments_lexer": "ipython3",
   "version": "3.13.6"
  }
 },
 "nbformat": 4,
 "nbformat_minor": 5
}
